{
 "cells": [
  {
   "cell_type": "markdown",
   "metadata": {},
   "source": [
    "#### Important libraries"
   ]
  },
  {
   "cell_type": "code",
   "execution_count": 2,
   "metadata": {},
   "outputs": [],
   "source": [
    "import pandas as pd\n",
    "import matplotlib.pyplot as plt\n",
    "import seaborn as sns\n",
    "from scipy import stats\n",
    "import numpy as np"
   ]
  },
  {
   "cell_type": "code",
   "execution_count": 459,
   "metadata": {},
   "outputs": [
    {
     "name": "stdout",
     "output_type": "stream",
     "text": [
      "Requirement already satisfied: xlsxwriter in c:\\users\\zeyne\\appdata\\local\\programs\\python\\python312\\lib\\site-packages (3.2.0)\n",
      "Note: you may need to restart the kernel to use updated packages.\n"
     ]
    },
    {
     "name": "stderr",
     "output_type": "stream",
     "text": [
      "\n",
      "[notice] A new release of pip is available: 23.2.1 -> 24.3.1\n",
      "[notice] To update, run: python.exe -m pip install --upgrade pip\n"
     ]
    }
   ],
   "source": [
    "pip install xlsxwriter"
   ]
  },
  {
   "cell_type": "code",
   "execution_count": 460,
   "metadata": {},
   "outputs": [
    {
     "name": "stdout",
     "output_type": "stream",
     "text": [
      "Requirement already satisfied: openpyxl in c:\\users\\zeyne\\appdata\\local\\programs\\python\\python312\\lib\\site-packages (3.1.5)\n",
      "Requirement already satisfied: et-xmlfile in c:\\users\\zeyne\\appdata\\local\\programs\\python\\python312\\lib\\site-packages (from openpyxl) (2.0.0)\n",
      "Note: you may need to restart the kernel to use updated packages.\n"
     ]
    },
    {
     "name": "stderr",
     "output_type": "stream",
     "text": [
      "\n",
      "[notice] A new release of pip is available: 23.2.1 -> 24.3.1\n",
      "[notice] To update, run: python.exe -m pip install --upgrade pip\n"
     ]
    }
   ],
   "source": [
    "pip install openpyxl"
   ]
  },
  {
   "cell_type": "code",
   "execution_count": 2,
   "metadata": {},
   "outputs": [],
   "source": [
    "import openpyxl\n",
    "import xlsxwriter"
   ]
  },
  {
   "cell_type": "markdown",
   "metadata": {},
   "source": [
    "#### Reading csv file"
   ]
  },
  {
   "cell_type": "code",
   "execution_count": 4,
   "metadata": {},
   "outputs": [
    {
     "data": {
      "text/html": [
       "<div>\n",
       "<style scoped>\n",
       "    .dataframe tbody tr th:only-of-type {\n",
       "        vertical-align: middle;\n",
       "    }\n",
       "\n",
       "    .dataframe tbody tr th {\n",
       "        vertical-align: top;\n",
       "    }\n",
       "\n",
       "    .dataframe thead th {\n",
       "        text-align: right;\n",
       "    }\n",
       "</style>\n",
       "<table border=\"1\" class=\"dataframe\">\n",
       "  <thead>\n",
       "    <tr style=\"text-align: right;\">\n",
       "      <th></th>\n",
       "      <th>Call_date</th>\n",
       "      <th>Call_id</th>\n",
       "      <th>call_type</th>\n",
       "      <th>Job_id</th>\n",
       "      <th>Response_time</th>\n",
       "      <th>birth_date</th>\n",
       "      <th>Marital_status</th>\n",
       "      <th>Gender</th>\n",
       "      <th>Region_id</th>\n",
       "      <th>Employee_id</th>\n",
       "      <th>Call_result</th>\n",
       "    </tr>\n",
       "  </thead>\n",
       "  <tbody>\n",
       "    <tr>\n",
       "      <th>0</th>\n",
       "      <td>1/10/2024</td>\n",
       "      <td>2406</td>\n",
       "      <td>Cold</td>\n",
       "      <td>3</td>\n",
       "      <td>NaN</td>\n",
       "      <td>15 1988 8</td>\n",
       "      <td>2.0</td>\n",
       "      <td>0</td>\n",
       "      <td>2</td>\n",
       "      <td>3</td>\n",
       "      <td>0</td>\n",
       "    </tr>\n",
       "    <tr>\n",
       "      <th>1</th>\n",
       "      <td>1/22/2024</td>\n",
       "      <td>2892</td>\n",
       "      <td>Cold</td>\n",
       "      <td>3</td>\n",
       "      <td>NaN</td>\n",
       "      <td>24 1990 6</td>\n",
       "      <td>1.0</td>\n",
       "      <td>0</td>\n",
       "      <td>3</td>\n",
       "      <td>5</td>\n",
       "      <td>0</td>\n",
       "    </tr>\n",
       "    <tr>\n",
       "      <th>2</th>\n",
       "      <td>1/23/2024</td>\n",
       "      <td>2788</td>\n",
       "      <td>Cold</td>\n",
       "      <td>3</td>\n",
       "      <td>NaN</td>\n",
       "      <td>30 1978 8</td>\n",
       "      <td>2.0</td>\n",
       "      <td>0</td>\n",
       "      <td>2</td>\n",
       "      <td>1</td>\n",
       "      <td>1</td>\n",
       "    </tr>\n",
       "    <tr>\n",
       "      <th>3</th>\n",
       "      <td>1/2/2024</td>\n",
       "      <td>2663</td>\n",
       "      <td>Hot</td>\n",
       "      <td>3</td>\n",
       "      <td>1039.0</td>\n",
       "      <td>18 1983 6</td>\n",
       "      <td>1.0</td>\n",
       "      <td>1</td>\n",
       "      <td>1</td>\n",
       "      <td>5</td>\n",
       "      <td>1</td>\n",
       "    </tr>\n",
       "    <tr>\n",
       "      <th>4</th>\n",
       "      <td>1/8/2024</td>\n",
       "      <td>2498</td>\n",
       "      <td>Cold</td>\n",
       "      <td>3</td>\n",
       "      <td>NaN</td>\n",
       "      <td>16 1975 10</td>\n",
       "      <td>2.0</td>\n",
       "      <td>1</td>\n",
       "      <td>4</td>\n",
       "      <td>4</td>\n",
       "      <td>0</td>\n",
       "    </tr>\n",
       "  </tbody>\n",
       "</table>\n",
       "</div>"
      ],
      "text/plain": [
       "   Call_date  Call_id call_type  Job_id  Response_time  birth_date  \\\n",
       "0  1/10/2024     2406      Cold       3            NaN   15 1988 8   \n",
       "1  1/22/2024     2892      Cold       3            NaN   24 1990 6   \n",
       "2  1/23/2024     2788      Cold       3            NaN   30 1978 8   \n",
       "3   1/2/2024     2663       Hot       3         1039.0   18 1983 6   \n",
       "4   1/8/2024     2498      Cold       3            NaN  16 1975 10   \n",
       "\n",
       "   Marital_status  Gender  Region_id  Employee_id  Call_result  \n",
       "0             2.0       0          2            3            0  \n",
       "1             1.0       0          3            5            0  \n",
       "2             2.0       0          2            1            1  \n",
       "3             1.0       1          1            5            1  \n",
       "4             2.0       1          4            4            0  "
      ]
     },
     "execution_count": 4,
     "metadata": {},
     "output_type": "execute_result"
    }
   ],
   "source": [
    "#reading the csv file\n",
    "df = pd.read_csv(r'Calls.csv')\n",
    "gender = pd.read_csv('Gender.csv')\n",
    "job = pd.read_csv('Jobs.csv')\n",
    "marital = pd.read_csv('Marital.csv')\n",
    "region = pd.read_csv('Regions.csv')\n",
    "call_result = pd.read_csv('Call_result.csv')\n",
    "employees = pd.read_csv('Employee.csv')\n",
    "df.head()"
   ]
  },
  {
   "cell_type": "markdown",
   "metadata": {},
   "source": [
    "#### Data Cleaning"
   ]
  },
  {
   "cell_type": "markdown",
   "metadata": {},
   "source": [
    "##### Old Data Frame"
   ]
  },
  {
   "cell_type": "code",
   "execution_count": 5,
   "metadata": {},
   "outputs": [
    {
     "data": {
      "text/plain": [
       "Call_date           0\n",
       "Call_id             0\n",
       "call_type           0\n",
       "Job_id              0\n",
       "Response_time     695\n",
       "birth_date          0\n",
       "Marital_status     24\n",
       "Gender              0\n",
       "Region_id           0\n",
       "Employee_id         0\n",
       "Call_result         0\n",
       "dtype: int64"
      ]
     },
     "execution_count": 5,
     "metadata": {},
     "output_type": "execute_result"
    }
   ],
   "source": [
    "df.isnull().sum()\n",
    "#There are null values in Marital Status and Response time columns"
   ]
  },
  {
   "cell_type": "code",
   "execution_count": 6,
   "metadata": {},
   "outputs": [
    {
     "data": {
      "text/plain": [
       "(1106, 11)"
      ]
     },
     "execution_count": 6,
     "metadata": {},
     "output_type": "execute_result"
    }
   ],
   "source": [
    "df.shape"
   ]
  },
  {
   "cell_type": "code",
   "execution_count": 7,
   "metadata": {},
   "outputs": [
    {
     "name": "stdout",
     "output_type": "stream",
     "text": [
      "<class 'pandas.core.frame.DataFrame'>\n",
      "RangeIndex: 1106 entries, 0 to 1105\n",
      "Data columns (total 11 columns):\n",
      " #   Column          Non-Null Count  Dtype  \n",
      "---  ------          --------------  -----  \n",
      " 0   Call_date       1106 non-null   object \n",
      " 1   Call_id         1106 non-null   int64  \n",
      " 2   call_type       1106 non-null   object \n",
      " 3   Job_id          1106 non-null   int64  \n",
      " 4   Response_time   411 non-null    float64\n",
      " 5   birth_date      1106 non-null   object \n",
      " 6   Marital_status  1082 non-null   float64\n",
      " 7   Gender          1106 non-null   int64  \n",
      " 8   Region_id       1106 non-null   int64  \n",
      " 9   Employee_id     1106 non-null   int64  \n",
      " 10  Call_result     1106 non-null   int64  \n",
      "dtypes: float64(2), int64(6), object(3)\n",
      "memory usage: 95.2+ KB\n"
     ]
    }
   ],
   "source": [
    "df.info()"
   ]
  },
  {
   "cell_type": "markdown",
   "metadata": {},
   "source": [
    "**Birth date and call_date column needs to be converted to date data type**"
   ]
  },
  {
   "cell_type": "code",
   "execution_count": 8,
   "metadata": {},
   "outputs": [
    {
     "data": {
      "text/html": [
       "<div>\n",
       "<style scoped>\n",
       "    .dataframe tbody tr th:only-of-type {\n",
       "        vertical-align: middle;\n",
       "    }\n",
       "\n",
       "    .dataframe tbody tr th {\n",
       "        vertical-align: top;\n",
       "    }\n",
       "\n",
       "    .dataframe thead th {\n",
       "        text-align: right;\n",
       "    }\n",
       "</style>\n",
       "<table border=\"1\" class=\"dataframe\">\n",
       "  <thead>\n",
       "    <tr style=\"text-align: right;\">\n",
       "      <th></th>\n",
       "      <th>Call_date</th>\n",
       "      <th>Call_id</th>\n",
       "      <th>call_type</th>\n",
       "      <th>Job_id</th>\n",
       "      <th>Response_time</th>\n",
       "      <th>birth_date</th>\n",
       "      <th>Marital_status</th>\n",
       "      <th>Gender</th>\n",
       "      <th>Region_id</th>\n",
       "      <th>Employee_id</th>\n",
       "      <th>Call_result</th>\n",
       "    </tr>\n",
       "  </thead>\n",
       "  <tbody>\n",
       "    <tr>\n",
       "      <th>0</th>\n",
       "      <td>1/10/2024</td>\n",
       "      <td>2406</td>\n",
       "      <td>Cold</td>\n",
       "      <td>3</td>\n",
       "      <td>NaN</td>\n",
       "      <td>1988/8/15</td>\n",
       "      <td>2.0</td>\n",
       "      <td>0</td>\n",
       "      <td>2</td>\n",
       "      <td>3</td>\n",
       "      <td>0</td>\n",
       "    </tr>\n",
       "    <tr>\n",
       "      <th>1</th>\n",
       "      <td>1/22/2024</td>\n",
       "      <td>2892</td>\n",
       "      <td>Cold</td>\n",
       "      <td>3</td>\n",
       "      <td>NaN</td>\n",
       "      <td>1990/6/24</td>\n",
       "      <td>1.0</td>\n",
       "      <td>0</td>\n",
       "      <td>3</td>\n",
       "      <td>5</td>\n",
       "      <td>0</td>\n",
       "    </tr>\n",
       "    <tr>\n",
       "      <th>2</th>\n",
       "      <td>1/23/2024</td>\n",
       "      <td>2788</td>\n",
       "      <td>Cold</td>\n",
       "      <td>3</td>\n",
       "      <td>NaN</td>\n",
       "      <td>1978/8/30</td>\n",
       "      <td>2.0</td>\n",
       "      <td>0</td>\n",
       "      <td>2</td>\n",
       "      <td>1</td>\n",
       "      <td>1</td>\n",
       "    </tr>\n",
       "    <tr>\n",
       "      <th>3</th>\n",
       "      <td>1/2/2024</td>\n",
       "      <td>2663</td>\n",
       "      <td>Hot</td>\n",
       "      <td>3</td>\n",
       "      <td>1039.0</td>\n",
       "      <td>1983/6/18</td>\n",
       "      <td>1.0</td>\n",
       "      <td>1</td>\n",
       "      <td>1</td>\n",
       "      <td>5</td>\n",
       "      <td>1</td>\n",
       "    </tr>\n",
       "    <tr>\n",
       "      <th>4</th>\n",
       "      <td>1/8/2024</td>\n",
       "      <td>2498</td>\n",
       "      <td>Cold</td>\n",
       "      <td>3</td>\n",
       "      <td>NaN</td>\n",
       "      <td>1975/10/16</td>\n",
       "      <td>2.0</td>\n",
       "      <td>1</td>\n",
       "      <td>4</td>\n",
       "      <td>4</td>\n",
       "      <td>0</td>\n",
       "    </tr>\n",
       "  </tbody>\n",
       "</table>\n",
       "</div>"
      ],
      "text/plain": [
       "   Call_date  Call_id call_type  Job_id  Response_time  birth_date  \\\n",
       "0  1/10/2024     2406      Cold       3            NaN   1988/8/15   \n",
       "1  1/22/2024     2892      Cold       3            NaN   1990/6/24   \n",
       "2  1/23/2024     2788      Cold       3            NaN   1978/8/30   \n",
       "3   1/2/2024     2663       Hot       3         1039.0   1983/6/18   \n",
       "4   1/8/2024     2498      Cold       3            NaN  1975/10/16   \n",
       "\n",
       "   Marital_status  Gender  Region_id  Employee_id  Call_result  \n",
       "0             2.0       0          2            3            0  \n",
       "1             1.0       0          3            5            0  \n",
       "2             2.0       0          2            1            1  \n",
       "3             1.0       1          1            5            1  \n",
       "4             2.0       1          4            4            0  "
      ]
     },
     "execution_count": 8,
     "metadata": {},
     "output_type": "execute_result"
    }
   ],
   "source": [
    "df['birth_date'] = df['birth_date'].apply(lambda x : x.split()[1]+'/'+x.split()[2]+'/'+x.split()[0])\n",
    "df.head()"
   ]
  },
  {
   "cell_type": "code",
   "execution_count": 9,
   "metadata": {},
   "outputs": [],
   "source": [
    "df['birth_date'] = pd.to_datetime(df['birth_date'])\n",
    "df['Call_date'] = pd.to_datetime(df['Call_date'])"
   ]
  },
  {
   "cell_type": "code",
   "execution_count": 10,
   "metadata": {},
   "outputs": [
    {
     "data": {
      "text/html": [
       "<div>\n",
       "<style scoped>\n",
       "    .dataframe tbody tr th:only-of-type {\n",
       "        vertical-align: middle;\n",
       "    }\n",
       "\n",
       "    .dataframe tbody tr th {\n",
       "        vertical-align: top;\n",
       "    }\n",
       "\n",
       "    .dataframe thead th {\n",
       "        text-align: right;\n",
       "    }\n",
       "</style>\n",
       "<table border=\"1\" class=\"dataframe\">\n",
       "  <thead>\n",
       "    <tr style=\"text-align: right;\">\n",
       "      <th></th>\n",
       "      <th>Call_date</th>\n",
       "      <th>Call_id</th>\n",
       "      <th>call_type</th>\n",
       "      <th>Job_id</th>\n",
       "      <th>Response_time</th>\n",
       "      <th>birth_date</th>\n",
       "      <th>Marital_status</th>\n",
       "      <th>Gender</th>\n",
       "      <th>Region_id</th>\n",
       "      <th>Employee_id</th>\n",
       "      <th>Call_result</th>\n",
       "    </tr>\n",
       "  </thead>\n",
       "  <tbody>\n",
       "    <tr>\n",
       "      <th>0</th>\n",
       "      <td>2024-01-10</td>\n",
       "      <td>2406</td>\n",
       "      <td>Cold</td>\n",
       "      <td>3</td>\n",
       "      <td>NaN</td>\n",
       "      <td>1988-08-15</td>\n",
       "      <td>2.0</td>\n",
       "      <td>0</td>\n",
       "      <td>2</td>\n",
       "      <td>3</td>\n",
       "      <td>0</td>\n",
       "    </tr>\n",
       "    <tr>\n",
       "      <th>1</th>\n",
       "      <td>2024-01-22</td>\n",
       "      <td>2892</td>\n",
       "      <td>Cold</td>\n",
       "      <td>3</td>\n",
       "      <td>NaN</td>\n",
       "      <td>1990-06-24</td>\n",
       "      <td>1.0</td>\n",
       "      <td>0</td>\n",
       "      <td>3</td>\n",
       "      <td>5</td>\n",
       "      <td>0</td>\n",
       "    </tr>\n",
       "    <tr>\n",
       "      <th>2</th>\n",
       "      <td>2024-01-23</td>\n",
       "      <td>2788</td>\n",
       "      <td>Cold</td>\n",
       "      <td>3</td>\n",
       "      <td>NaN</td>\n",
       "      <td>1978-08-30</td>\n",
       "      <td>2.0</td>\n",
       "      <td>0</td>\n",
       "      <td>2</td>\n",
       "      <td>1</td>\n",
       "      <td>1</td>\n",
       "    </tr>\n",
       "    <tr>\n",
       "      <th>3</th>\n",
       "      <td>2024-01-02</td>\n",
       "      <td>2663</td>\n",
       "      <td>Hot</td>\n",
       "      <td>3</td>\n",
       "      <td>1039.0</td>\n",
       "      <td>1983-06-18</td>\n",
       "      <td>1.0</td>\n",
       "      <td>1</td>\n",
       "      <td>1</td>\n",
       "      <td>5</td>\n",
       "      <td>1</td>\n",
       "    </tr>\n",
       "    <tr>\n",
       "      <th>4</th>\n",
       "      <td>2024-01-08</td>\n",
       "      <td>2498</td>\n",
       "      <td>Cold</td>\n",
       "      <td>3</td>\n",
       "      <td>NaN</td>\n",
       "      <td>1975-10-16</td>\n",
       "      <td>2.0</td>\n",
       "      <td>1</td>\n",
       "      <td>4</td>\n",
       "      <td>4</td>\n",
       "      <td>0</td>\n",
       "    </tr>\n",
       "  </tbody>\n",
       "</table>\n",
       "</div>"
      ],
      "text/plain": [
       "   Call_date  Call_id call_type  Job_id  Response_time birth_date  \\\n",
       "0 2024-01-10     2406      Cold       3            NaN 1988-08-15   \n",
       "1 2024-01-22     2892      Cold       3            NaN 1990-06-24   \n",
       "2 2024-01-23     2788      Cold       3            NaN 1978-08-30   \n",
       "3 2024-01-02     2663       Hot       3         1039.0 1983-06-18   \n",
       "4 2024-01-08     2498      Cold       3            NaN 1975-10-16   \n",
       "\n",
       "   Marital_status  Gender  Region_id  Employee_id  Call_result  \n",
       "0             2.0       0          2            3            0  \n",
       "1             1.0       0          3            5            0  \n",
       "2             2.0       0          2            1            1  \n",
       "3             1.0       1          1            5            1  \n",
       "4             2.0       1          4            4            0  "
      ]
     },
     "execution_count": 10,
     "metadata": {},
     "output_type": "execute_result"
    }
   ],
   "source": [
    "df.head()"
   ]
  },
  {
   "cell_type": "code",
   "execution_count": 11,
   "metadata": {},
   "outputs": [
    {
     "name": "stdout",
     "output_type": "stream",
     "text": [
      "<class 'pandas.core.frame.DataFrame'>\n",
      "RangeIndex: 1106 entries, 0 to 1105\n",
      "Data columns (total 11 columns):\n",
      " #   Column          Non-Null Count  Dtype         \n",
      "---  ------          --------------  -----         \n",
      " 0   Call_date       1106 non-null   datetime64[ns]\n",
      " 1   Call_id         1106 non-null   int64         \n",
      " 2   call_type       1106 non-null   object        \n",
      " 3   Job_id          1106 non-null   int64         \n",
      " 4   Response_time   411 non-null    float64       \n",
      " 5   birth_date      1106 non-null   datetime64[ns]\n",
      " 6   Marital_status  1082 non-null   float64       \n",
      " 7   Gender          1106 non-null   int64         \n",
      " 8   Region_id       1106 non-null   int64         \n",
      " 9   Employee_id     1106 non-null   int64         \n",
      " 10  Call_result     1106 non-null   int64         \n",
      "dtypes: datetime64[ns](2), float64(2), int64(6), object(1)\n",
      "memory usage: 95.2+ KB\n"
     ]
    }
   ],
   "source": [
    "df.info()"
   ]
  },
  {
   "cell_type": "markdown",
   "metadata": {},
   "source": [
    "**For future analysis we can extract year and customer_age from birth date column and create new columns**"
   ]
  },
  {
   "cell_type": "code",
   "execution_count": 12,
   "metadata": {},
   "outputs": [],
   "source": [
    "from datetime import date"
   ]
  },
  {
   "cell_type": "code",
   "execution_count": 13,
   "metadata": {},
   "outputs": [],
   "source": [
    "current_date = date.today()\n",
    "current_year = current_date.strftime(\"%Y\")"
   ]
  },
  {
   "cell_type": "code",
   "execution_count": 14,
   "metadata": {},
   "outputs": [],
   "source": [
    "df['customer_birth_year'] = df['birth_date'].apply(lambda x:x.year)\n",
    "df['customer_age'] = int(current_year) - df['customer_birth_year']"
   ]
  },
  {
   "cell_type": "code",
   "execution_count": 15,
   "metadata": {},
   "outputs": [
    {
     "data": {
      "text/html": [
       "<div>\n",
       "<style scoped>\n",
       "    .dataframe tbody tr th:only-of-type {\n",
       "        vertical-align: middle;\n",
       "    }\n",
       "\n",
       "    .dataframe tbody tr th {\n",
       "        vertical-align: top;\n",
       "    }\n",
       "\n",
       "    .dataframe thead th {\n",
       "        text-align: right;\n",
       "    }\n",
       "</style>\n",
       "<table border=\"1\" class=\"dataframe\">\n",
       "  <thead>\n",
       "    <tr style=\"text-align: right;\">\n",
       "      <th></th>\n",
       "      <th>Call_date</th>\n",
       "      <th>Call_id</th>\n",
       "      <th>call_type</th>\n",
       "      <th>Job_id</th>\n",
       "      <th>Response_time</th>\n",
       "      <th>birth_date</th>\n",
       "      <th>Marital_status</th>\n",
       "      <th>Gender</th>\n",
       "      <th>Region_id</th>\n",
       "      <th>Employee_id</th>\n",
       "      <th>Call_result</th>\n",
       "      <th>customer_birth_year</th>\n",
       "      <th>customer_age</th>\n",
       "    </tr>\n",
       "  </thead>\n",
       "  <tbody>\n",
       "    <tr>\n",
       "      <th>0</th>\n",
       "      <td>2024-01-10</td>\n",
       "      <td>2406</td>\n",
       "      <td>Cold</td>\n",
       "      <td>3</td>\n",
       "      <td>NaN</td>\n",
       "      <td>1988-08-15</td>\n",
       "      <td>2.0</td>\n",
       "      <td>0</td>\n",
       "      <td>2</td>\n",
       "      <td>3</td>\n",
       "      <td>0</td>\n",
       "      <td>1988</td>\n",
       "      <td>36</td>\n",
       "    </tr>\n",
       "    <tr>\n",
       "      <th>1</th>\n",
       "      <td>2024-01-22</td>\n",
       "      <td>2892</td>\n",
       "      <td>Cold</td>\n",
       "      <td>3</td>\n",
       "      <td>NaN</td>\n",
       "      <td>1990-06-24</td>\n",
       "      <td>1.0</td>\n",
       "      <td>0</td>\n",
       "      <td>3</td>\n",
       "      <td>5</td>\n",
       "      <td>0</td>\n",
       "      <td>1990</td>\n",
       "      <td>34</td>\n",
       "    </tr>\n",
       "    <tr>\n",
       "      <th>2</th>\n",
       "      <td>2024-01-23</td>\n",
       "      <td>2788</td>\n",
       "      <td>Cold</td>\n",
       "      <td>3</td>\n",
       "      <td>NaN</td>\n",
       "      <td>1978-08-30</td>\n",
       "      <td>2.0</td>\n",
       "      <td>0</td>\n",
       "      <td>2</td>\n",
       "      <td>1</td>\n",
       "      <td>1</td>\n",
       "      <td>1978</td>\n",
       "      <td>46</td>\n",
       "    </tr>\n",
       "    <tr>\n",
       "      <th>3</th>\n",
       "      <td>2024-01-02</td>\n",
       "      <td>2663</td>\n",
       "      <td>Hot</td>\n",
       "      <td>3</td>\n",
       "      <td>1039.0</td>\n",
       "      <td>1983-06-18</td>\n",
       "      <td>1.0</td>\n",
       "      <td>1</td>\n",
       "      <td>1</td>\n",
       "      <td>5</td>\n",
       "      <td>1</td>\n",
       "      <td>1983</td>\n",
       "      <td>41</td>\n",
       "    </tr>\n",
       "    <tr>\n",
       "      <th>4</th>\n",
       "      <td>2024-01-08</td>\n",
       "      <td>2498</td>\n",
       "      <td>Cold</td>\n",
       "      <td>3</td>\n",
       "      <td>NaN</td>\n",
       "      <td>1975-10-16</td>\n",
       "      <td>2.0</td>\n",
       "      <td>1</td>\n",
       "      <td>4</td>\n",
       "      <td>4</td>\n",
       "      <td>0</td>\n",
       "      <td>1975</td>\n",
       "      <td>49</td>\n",
       "    </tr>\n",
       "  </tbody>\n",
       "</table>\n",
       "</div>"
      ],
      "text/plain": [
       "   Call_date  Call_id call_type  Job_id  Response_time birth_date  \\\n",
       "0 2024-01-10     2406      Cold       3            NaN 1988-08-15   \n",
       "1 2024-01-22     2892      Cold       3            NaN 1990-06-24   \n",
       "2 2024-01-23     2788      Cold       3            NaN 1978-08-30   \n",
       "3 2024-01-02     2663       Hot       3         1039.0 1983-06-18   \n",
       "4 2024-01-08     2498      Cold       3            NaN 1975-10-16   \n",
       "\n",
       "   Marital_status  Gender  Region_id  Employee_id  Call_result  \\\n",
       "0             2.0       0          2            3            0   \n",
       "1             1.0       0          3            5            0   \n",
       "2             2.0       0          2            1            1   \n",
       "3             1.0       1          1            5            1   \n",
       "4             2.0       1          4            4            0   \n",
       "\n",
       "   customer_birth_year  customer_age  \n",
       "0                 1988            36  \n",
       "1                 1990            34  \n",
       "2                 1978            46  \n",
       "3                 1983            41  \n",
       "4                 1975            49  "
      ]
     },
     "execution_count": 15,
     "metadata": {},
     "output_type": "execute_result"
    }
   ],
   "source": [
    "df.head()"
   ]
  },
  {
   "cell_type": "code",
   "execution_count": 16,
   "metadata": {},
   "outputs": [
    {
     "name": "stdout",
     "output_type": "stream",
     "text": [
      "<class 'pandas.core.frame.DataFrame'>\n",
      "RangeIndex: 1106 entries, 0 to 1105\n",
      "Data columns (total 13 columns):\n",
      " #   Column               Non-Null Count  Dtype         \n",
      "---  ------               --------------  -----         \n",
      " 0   Call_date            1106 non-null   datetime64[ns]\n",
      " 1   Call_id              1106 non-null   int64         \n",
      " 2   call_type            1106 non-null   object        \n",
      " 3   Job_id               1106 non-null   int64         \n",
      " 4   Response_time        411 non-null    float64       \n",
      " 5   birth_date           1106 non-null   datetime64[ns]\n",
      " 6   Marital_status       1082 non-null   float64       \n",
      " 7   Gender               1106 non-null   int64         \n",
      " 8   Region_id            1106 non-null   int64         \n",
      " 9   Employee_id          1106 non-null   int64         \n",
      " 10  Call_result          1106 non-null   int64         \n",
      " 11  customer_birth_year  1106 non-null   int64         \n",
      " 12  customer_age         1106 non-null   int64         \n",
      "dtypes: datetime64[ns](2), float64(2), int64(8), object(1)\n",
      "memory usage: 112.5+ KB\n"
     ]
    }
   ],
   "source": [
    "df.info()"
   ]
  },
  {
   "cell_type": "markdown",
   "metadata": {},
   "source": [
    "##### Deleting duplicates"
   ]
  },
  {
   "cell_type": "code",
   "execution_count": 17,
   "metadata": {},
   "outputs": [
    {
     "data": {
      "text/plain": [
       "Call_date                0\n",
       "Call_id                  0\n",
       "call_type                0\n",
       "Job_id                   0\n",
       "Response_time          695\n",
       "birth_date               0\n",
       "Marital_status          24\n",
       "Gender                   0\n",
       "Region_id                0\n",
       "Employee_id              0\n",
       "Call_result              0\n",
       "customer_birth_year      0\n",
       "customer_age             0\n",
       "dtype: int64"
      ]
     },
     "execution_count": 17,
     "metadata": {},
     "output_type": "execute_result"
    }
   ],
   "source": [
    "df.isnull().sum()"
   ]
  },
  {
   "cell_type": "code",
   "execution_count": 18,
   "metadata": {},
   "outputs": [],
   "source": [
    "df = df.drop_duplicates(subset=['Call_id'])"
   ]
  },
  {
   "cell_type": "code",
   "execution_count": 19,
   "metadata": {},
   "outputs": [
    {
     "data": {
      "text/plain": [
       "(1031, 13)"
      ]
     },
     "execution_count": 19,
     "metadata": {},
     "output_type": "execute_result"
    }
   ],
   "source": [
    "df.shape"
   ]
  },
  {
   "cell_type": "markdown",
   "metadata": {},
   "source": [
    "*Converting all column names to lowercase*"
   ]
  },
  {
   "cell_type": "code",
   "execution_count": 20,
   "metadata": {},
   "outputs": [],
   "source": [
    "old_columns = list(df.columns)"
   ]
  },
  {
   "cell_type": "code",
   "execution_count": 21,
   "metadata": {},
   "outputs": [],
   "source": [
    "new_columns = list(map(lambda x:x.lower(),old_columns))"
   ]
  },
  {
   "cell_type": "code",
   "execution_count": 22,
   "metadata": {},
   "outputs": [
    {
     "data": {
      "text/plain": [
       "{'Call_date': 'call_date',\n",
       " 'Call_id': 'call_id',\n",
       " 'call_type': 'call_type',\n",
       " 'Job_id': 'job_id',\n",
       " 'Response_time': 'response_time',\n",
       " 'birth_date': 'birth_date',\n",
       " 'Marital_status': 'marital_status',\n",
       " 'Gender': 'gender',\n",
       " 'Region_id': 'region_id',\n",
       " 'Employee_id': 'employee_id',\n",
       " 'Call_result': 'call_result',\n",
       " 'customer_birth_year': 'customer_birth_year',\n",
       " 'customer_age': 'customer_age'}"
      ]
     },
     "execution_count": 22,
     "metadata": {},
     "output_type": "execute_result"
    }
   ],
   "source": [
    "rename_dict = {old_column:new_column for old_column,new_column in zip(old_columns,new_columns)}\n",
    "rename_dict"
   ]
  },
  {
   "cell_type": "code",
   "execution_count": 23,
   "metadata": {},
   "outputs": [],
   "source": [
    "df.rename(columns=rename_dict,inplace=True)"
   ]
  },
  {
   "cell_type": "code",
   "execution_count": 24,
   "metadata": {},
   "outputs": [
    {
     "data": {
      "text/html": [
       "<div>\n",
       "<style scoped>\n",
       "    .dataframe tbody tr th:only-of-type {\n",
       "        vertical-align: middle;\n",
       "    }\n",
       "\n",
       "    .dataframe tbody tr th {\n",
       "        vertical-align: top;\n",
       "    }\n",
       "\n",
       "    .dataframe thead th {\n",
       "        text-align: right;\n",
       "    }\n",
       "</style>\n",
       "<table border=\"1\" class=\"dataframe\">\n",
       "  <thead>\n",
       "    <tr style=\"text-align: right;\">\n",
       "      <th></th>\n",
       "      <th>call_date</th>\n",
       "      <th>call_id</th>\n",
       "      <th>call_type</th>\n",
       "      <th>job_id</th>\n",
       "      <th>response_time</th>\n",
       "      <th>birth_date</th>\n",
       "      <th>marital_status</th>\n",
       "      <th>gender</th>\n",
       "      <th>region_id</th>\n",
       "      <th>employee_id</th>\n",
       "      <th>call_result</th>\n",
       "      <th>customer_birth_year</th>\n",
       "      <th>customer_age</th>\n",
       "    </tr>\n",
       "  </thead>\n",
       "  <tbody>\n",
       "    <tr>\n",
       "      <th>0</th>\n",
       "      <td>2024-01-10</td>\n",
       "      <td>2406</td>\n",
       "      <td>Cold</td>\n",
       "      <td>3</td>\n",
       "      <td>NaN</td>\n",
       "      <td>1988-08-15</td>\n",
       "      <td>2.0</td>\n",
       "      <td>0</td>\n",
       "      <td>2</td>\n",
       "      <td>3</td>\n",
       "      <td>0</td>\n",
       "      <td>1988</td>\n",
       "      <td>36</td>\n",
       "    </tr>\n",
       "    <tr>\n",
       "      <th>1</th>\n",
       "      <td>2024-01-22</td>\n",
       "      <td>2892</td>\n",
       "      <td>Cold</td>\n",
       "      <td>3</td>\n",
       "      <td>NaN</td>\n",
       "      <td>1990-06-24</td>\n",
       "      <td>1.0</td>\n",
       "      <td>0</td>\n",
       "      <td>3</td>\n",
       "      <td>5</td>\n",
       "      <td>0</td>\n",
       "      <td>1990</td>\n",
       "      <td>34</td>\n",
       "    </tr>\n",
       "    <tr>\n",
       "      <th>2</th>\n",
       "      <td>2024-01-23</td>\n",
       "      <td>2788</td>\n",
       "      <td>Cold</td>\n",
       "      <td>3</td>\n",
       "      <td>NaN</td>\n",
       "      <td>1978-08-30</td>\n",
       "      <td>2.0</td>\n",
       "      <td>0</td>\n",
       "      <td>2</td>\n",
       "      <td>1</td>\n",
       "      <td>1</td>\n",
       "      <td>1978</td>\n",
       "      <td>46</td>\n",
       "    </tr>\n",
       "    <tr>\n",
       "      <th>3</th>\n",
       "      <td>2024-01-02</td>\n",
       "      <td>2663</td>\n",
       "      <td>Hot</td>\n",
       "      <td>3</td>\n",
       "      <td>1039.0</td>\n",
       "      <td>1983-06-18</td>\n",
       "      <td>1.0</td>\n",
       "      <td>1</td>\n",
       "      <td>1</td>\n",
       "      <td>5</td>\n",
       "      <td>1</td>\n",
       "      <td>1983</td>\n",
       "      <td>41</td>\n",
       "    </tr>\n",
       "    <tr>\n",
       "      <th>4</th>\n",
       "      <td>2024-01-08</td>\n",
       "      <td>2498</td>\n",
       "      <td>Cold</td>\n",
       "      <td>3</td>\n",
       "      <td>NaN</td>\n",
       "      <td>1975-10-16</td>\n",
       "      <td>2.0</td>\n",
       "      <td>1</td>\n",
       "      <td>4</td>\n",
       "      <td>4</td>\n",
       "      <td>0</td>\n",
       "      <td>1975</td>\n",
       "      <td>49</td>\n",
       "    </tr>\n",
       "  </tbody>\n",
       "</table>\n",
       "</div>"
      ],
      "text/plain": [
       "   call_date  call_id call_type  job_id  response_time birth_date  \\\n",
       "0 2024-01-10     2406      Cold       3            NaN 1988-08-15   \n",
       "1 2024-01-22     2892      Cold       3            NaN 1990-06-24   \n",
       "2 2024-01-23     2788      Cold       3            NaN 1978-08-30   \n",
       "3 2024-01-02     2663       Hot       3         1039.0 1983-06-18   \n",
       "4 2024-01-08     2498      Cold       3            NaN 1975-10-16   \n",
       "\n",
       "   marital_status  gender  region_id  employee_id  call_result  \\\n",
       "0             2.0       0          2            3            0   \n",
       "1             1.0       0          3            5            0   \n",
       "2             2.0       0          2            1            1   \n",
       "3             1.0       1          1            5            1   \n",
       "4             2.0       1          4            4            0   \n",
       "\n",
       "   customer_birth_year  customer_age  \n",
       "0                 1988            36  \n",
       "1                 1990            34  \n",
       "2                 1978            46  \n",
       "3                 1983            41  \n",
       "4                 1975            49  "
      ]
     },
     "execution_count": 24,
     "metadata": {},
     "output_type": "execute_result"
    }
   ],
   "source": [
    "df.head()"
   ]
  },
  {
   "cell_type": "markdown",
   "metadata": {},
   "source": [
    "##### Handling Missing Values"
   ]
  },
  {
   "cell_type": "code",
   "execution_count": 25,
   "metadata": {},
   "outputs": [],
   "source": [
    "# Defining age intervals\n",
    "bins = [15, 30, 40, 50, 70]\n",
    "labels = ['15-30', '31-40', '41-50', '51-70']\n",
    "df['age_interval'] = pd.cut(df['customer_age'], bins=bins, labels=labels)"
   ]
  },
  {
   "cell_type": "markdown",
   "metadata": {},
   "source": [
    "##### Handling Missing Values"
   ]
  },
  {
   "cell_type": "code",
   "execution_count": 26,
   "metadata": {},
   "outputs": [
    {
     "data": {
      "text/plain": [
       "call_date                0\n",
       "call_id                  0\n",
       "call_type                0\n",
       "job_id                   0\n",
       "response_time          648\n",
       "birth_date               0\n",
       "marital_status          23\n",
       "gender                   0\n",
       "region_id                0\n",
       "employee_id              0\n",
       "call_result              0\n",
       "customer_birth_year      0\n",
       "customer_age             0\n",
       "age_interval             0\n",
       "dtype: int64"
      ]
     },
     "execution_count": 26,
     "metadata": {},
     "output_type": "execute_result"
    }
   ],
   "source": [
    "df.isnull().sum()"
   ]
  },
  {
   "cell_type": "code",
   "execution_count": 27,
   "metadata": {},
   "outputs": [
    {
     "name": "stderr",
     "output_type": "stream",
     "text": [
      "C:\\Users\\zeyne\\AppData\\Local\\Temp\\ipykernel_14728\\96633303.py:2: FutureWarning: The default of observed=False is deprecated and will be changed to True in a future version of pandas. Pass observed=False to retain current behavior or observed=True to adopt the future default and silence this warning.\n",
      "  most_frequent_marital_status = df.groupby(['age_interval', 'gender'])['marital_status'].apply(lambda x: x.mode().iloc[0] if not x.mode().empty else np.nan)\n",
      "C:\\Users\\zeyne\\AppData\\Local\\Temp\\ipykernel_14728\\96633303.py:8: FutureWarning: A value is trying to be set on a copy of a DataFrame or Series through chained assignment using an inplace method.\n",
      "The behavior will change in pandas 3.0. This inplace method will never work because the intermediate object on which we are setting values always behaves as a copy.\n",
      "\n",
      "For example, when doing 'df[col].method(value, inplace=True)', try using 'df.method({col: value}, inplace=True)' or df[col] = df[col].method(value) instead, to perform the operation inplace on the original object.\n",
      "\n",
      "\n",
      "  df['marital_status'].fillna(df['most_frequent_marital_status'], inplace=True)\n"
     ]
    }
   ],
   "source": [
    "# Finding the most frequent marital status for each age interval and gender group\n",
    "most_frequent_marital_status = df.groupby(['age_interval', 'gender'])['marital_status'].apply(lambda x: x.mode().iloc[0] if not x.mode().empty else np.nan)\n",
    "\n",
    "# Mapping the most frequent marital status to the DataFrame\n",
    "df['most_frequent_marital_status'] = df.set_index(['age_interval', 'gender']).index.map(most_frequent_marital_status)\n",
    "\n",
    "# Filling null values in marital_status with the most frequent marital status per age interval and gender\n",
    "df['marital_status'].fillna(df['most_frequent_marital_status'], inplace=True)"
   ]
  },
  {
   "cell_type": "code",
   "execution_count": 28,
   "metadata": {},
   "outputs": [],
   "source": [
    "# Drop the helper column\n",
    "df.drop(columns=['most_frequent_marital_status'], inplace=True)"
   ]
  },
  {
   "cell_type": "code",
   "execution_count": 29,
   "metadata": {},
   "outputs": [
    {
     "data": {
      "text/plain": [
       "call_date                0\n",
       "call_id                  0\n",
       "call_type                0\n",
       "job_id                   0\n",
       "response_time          648\n",
       "birth_date               0\n",
       "marital_status           0\n",
       "gender                   0\n",
       "region_id                0\n",
       "employee_id              0\n",
       "call_result              0\n",
       "customer_birth_year      0\n",
       "customer_age             0\n",
       "age_interval             0\n",
       "dtype: int64"
      ]
     },
     "execution_count": 29,
     "metadata": {},
     "output_type": "execute_result"
    }
   ],
   "source": [
    "df.isnull().sum()"
   ]
  },
  {
   "cell_type": "code",
   "execution_count": 30,
   "metadata": {},
   "outputs": [
    {
     "data": {
      "text/html": [
       "<div>\n",
       "<style scoped>\n",
       "    .dataframe tbody tr th:only-of-type {\n",
       "        vertical-align: middle;\n",
       "    }\n",
       "\n",
       "    .dataframe tbody tr th {\n",
       "        vertical-align: top;\n",
       "    }\n",
       "\n",
       "    .dataframe thead th {\n",
       "        text-align: right;\n",
       "    }\n",
       "</style>\n",
       "<table border=\"1\" class=\"dataframe\">\n",
       "  <thead>\n",
       "    <tr style=\"text-align: right;\">\n",
       "      <th></th>\n",
       "      <th>call_date</th>\n",
       "      <th>call_id</th>\n",
       "      <th>call_type</th>\n",
       "      <th>job_id</th>\n",
       "      <th>response_time</th>\n",
       "      <th>birth_date</th>\n",
       "      <th>marital_status</th>\n",
       "      <th>gender</th>\n",
       "      <th>region_id</th>\n",
       "      <th>employee_id</th>\n",
       "      <th>call_result</th>\n",
       "      <th>customer_birth_year</th>\n",
       "      <th>customer_age</th>\n",
       "      <th>age_interval</th>\n",
       "    </tr>\n",
       "  </thead>\n",
       "  <tbody>\n",
       "    <tr>\n",
       "      <th>0</th>\n",
       "      <td>2024-01-10</td>\n",
       "      <td>2406</td>\n",
       "      <td>Cold</td>\n",
       "      <td>3</td>\n",
       "      <td>NaN</td>\n",
       "      <td>1988-08-15</td>\n",
       "      <td>2.0</td>\n",
       "      <td>0</td>\n",
       "      <td>2</td>\n",
       "      <td>3</td>\n",
       "      <td>0</td>\n",
       "      <td>1988</td>\n",
       "      <td>36</td>\n",
       "      <td>31-40</td>\n",
       "    </tr>\n",
       "    <tr>\n",
       "      <th>1</th>\n",
       "      <td>2024-01-22</td>\n",
       "      <td>2892</td>\n",
       "      <td>Cold</td>\n",
       "      <td>3</td>\n",
       "      <td>NaN</td>\n",
       "      <td>1990-06-24</td>\n",
       "      <td>1.0</td>\n",
       "      <td>0</td>\n",
       "      <td>3</td>\n",
       "      <td>5</td>\n",
       "      <td>0</td>\n",
       "      <td>1990</td>\n",
       "      <td>34</td>\n",
       "      <td>31-40</td>\n",
       "    </tr>\n",
       "    <tr>\n",
       "      <th>2</th>\n",
       "      <td>2024-01-23</td>\n",
       "      <td>2788</td>\n",
       "      <td>Cold</td>\n",
       "      <td>3</td>\n",
       "      <td>NaN</td>\n",
       "      <td>1978-08-30</td>\n",
       "      <td>2.0</td>\n",
       "      <td>0</td>\n",
       "      <td>2</td>\n",
       "      <td>1</td>\n",
       "      <td>1</td>\n",
       "      <td>1978</td>\n",
       "      <td>46</td>\n",
       "      <td>41-50</td>\n",
       "    </tr>\n",
       "    <tr>\n",
       "      <th>3</th>\n",
       "      <td>2024-01-02</td>\n",
       "      <td>2663</td>\n",
       "      <td>Hot</td>\n",
       "      <td>3</td>\n",
       "      <td>1039.0</td>\n",
       "      <td>1983-06-18</td>\n",
       "      <td>1.0</td>\n",
       "      <td>1</td>\n",
       "      <td>1</td>\n",
       "      <td>5</td>\n",
       "      <td>1</td>\n",
       "      <td>1983</td>\n",
       "      <td>41</td>\n",
       "      <td>41-50</td>\n",
       "    </tr>\n",
       "    <tr>\n",
       "      <th>4</th>\n",
       "      <td>2024-01-08</td>\n",
       "      <td>2498</td>\n",
       "      <td>Cold</td>\n",
       "      <td>3</td>\n",
       "      <td>NaN</td>\n",
       "      <td>1975-10-16</td>\n",
       "      <td>2.0</td>\n",
       "      <td>1</td>\n",
       "      <td>4</td>\n",
       "      <td>4</td>\n",
       "      <td>0</td>\n",
       "      <td>1975</td>\n",
       "      <td>49</td>\n",
       "      <td>41-50</td>\n",
       "    </tr>\n",
       "  </tbody>\n",
       "</table>\n",
       "</div>"
      ],
      "text/plain": [
       "   call_date  call_id call_type  job_id  response_time birth_date  \\\n",
       "0 2024-01-10     2406      Cold       3            NaN 1988-08-15   \n",
       "1 2024-01-22     2892      Cold       3            NaN 1990-06-24   \n",
       "2 2024-01-23     2788      Cold       3            NaN 1978-08-30   \n",
       "3 2024-01-02     2663       Hot       3         1039.0 1983-06-18   \n",
       "4 2024-01-08     2498      Cold       3            NaN 1975-10-16   \n",
       "\n",
       "   marital_status  gender  region_id  employee_id  call_result  \\\n",
       "0             2.0       0          2            3            0   \n",
       "1             1.0       0          3            5            0   \n",
       "2             2.0       0          2            1            1   \n",
       "3             1.0       1          1            5            1   \n",
       "4             2.0       1          4            4            0   \n",
       "\n",
       "   customer_birth_year  customer_age age_interval  \n",
       "0                 1988            36        31-40  \n",
       "1                 1990            34        31-40  \n",
       "2                 1978            46        41-50  \n",
       "3                 1983            41        41-50  \n",
       "4                 1975            49        41-50  "
      ]
     },
     "execution_count": 30,
     "metadata": {},
     "output_type": "execute_result"
    }
   ],
   "source": [
    "df.head()"
   ]
  },
  {
   "cell_type": "code",
   "execution_count": 31,
   "metadata": {},
   "outputs": [
    {
     "data": {
      "text/plain": [
       "<Axes: xlabel='marital_status'>"
      ]
     },
     "execution_count": 31,
     "metadata": {},
     "output_type": "execute_result"
    },
    {
     "data": {
      "image/png": "[encoded data removed]",
      "text/plain": [
       "<Figure size 640x480 with 1 Axes>"
      ]
     },
     "metadata": {},
     "output_type": "display_data"
    }
   ],
   "source": [
    "pd.DataFrame(df['call_result'].groupby(df['marital_status']).count()).plot(kind='bar')"
   ]
  },
  {
   "cell_type": "markdown",
   "metadata": {},
   "source": [
    "##### New DataFrame"
   ]
  },
  {
   "cell_type": "code",
   "execution_count": 32,
   "metadata": {},
   "outputs": [
    {
     "data": {
      "text/html": [
       "<div>\n",
       "<style scoped>\n",
       "    .dataframe tbody tr th:only-of-type {\n",
       "        vertical-align: middle;\n",
       "    }\n",
       "\n",
       "    .dataframe tbody tr th {\n",
       "        vertical-align: top;\n",
       "    }\n",
       "\n",
       "    .dataframe thead th {\n",
       "        text-align: right;\n",
       "    }\n",
       "</style>\n",
       "<table border=\"1\" class=\"dataframe\">\n",
       "  <thead>\n",
       "    <tr style=\"text-align: right;\">\n",
       "      <th></th>\n",
       "      <th>gender_id</th>\n",
       "      <th>gender_name</th>\n",
       "    </tr>\n",
       "  </thead>\n",
       "  <tbody>\n",
       "    <tr>\n",
       "      <th>0</th>\n",
       "      <td>0</td>\n",
       "      <td>Man</td>\n",
       "    </tr>\n",
       "    <tr>\n",
       "      <th>1</th>\n",
       "      <td>1</td>\n",
       "      <td>Woman</td>\n",
       "    </tr>\n",
       "  </tbody>\n",
       "</table>\n",
       "</div>"
      ],
      "text/plain": [
       "   gender_id gender_name\n",
       "0          0         Man\n",
       "1          1       Woman"
      ]
     },
     "execution_count": 32,
     "metadata": {},
     "output_type": "execute_result"
    }
   ],
   "source": [
    "gender"
   ]
  },
  {
   "cell_type": "code",
   "execution_count": 33,
   "metadata": {},
   "outputs": [],
   "source": [
    "# NEW DATAFRAME\n",
    "df.rename({'gender':'gender_id'},axis=1,inplace=True)"
   ]
  },
  {
   "cell_type": "code",
   "execution_count": 34,
   "metadata": {},
   "outputs": [],
   "source": [
    "df = pd.merge(df,gender,on='gender_id')"
   ]
  },
  {
   "cell_type": "code",
   "execution_count": 35,
   "metadata": {},
   "outputs": [
    {
     "data": {
      "text/html": [
       "<div>\n",
       "<style scoped>\n",
       "    .dataframe tbody tr th:only-of-type {\n",
       "        vertical-align: middle;\n",
       "    }\n",
       "\n",
       "    .dataframe tbody tr th {\n",
       "        vertical-align: top;\n",
       "    }\n",
       "\n",
       "    .dataframe thead th {\n",
       "        text-align: right;\n",
       "    }\n",
       "</style>\n",
       "<table border=\"1\" class=\"dataframe\">\n",
       "  <thead>\n",
       "    <tr style=\"text-align: right;\">\n",
       "      <th></th>\n",
       "      <th>status_id</th>\n",
       "      <th>status</th>\n",
       "    </tr>\n",
       "  </thead>\n",
       "  <tbody>\n",
       "    <tr>\n",
       "      <th>0</th>\n",
       "      <td>0</td>\n",
       "      <td>Single</td>\n",
       "    </tr>\n",
       "    <tr>\n",
       "      <th>1</th>\n",
       "      <td>1</td>\n",
       "      <td>Married</td>\n",
       "    </tr>\n",
       "    <tr>\n",
       "      <th>2</th>\n",
       "      <td>2</td>\n",
       "      <td>Divorced</td>\n",
       "    </tr>\n",
       "  </tbody>\n",
       "</table>\n",
       "</div>"
      ],
      "text/plain": [
       "   status_id    status\n",
       "0          0    Single\n",
       "1          1   Married\n",
       "2          2  Divorced"
      ]
     },
     "execution_count": 35,
     "metadata": {},
     "output_type": "execute_result"
    }
   ],
   "source": [
    "marital"
   ]
  },
  {
   "cell_type": "code",
   "execution_count": 36,
   "metadata": {},
   "outputs": [],
   "source": [
    "df.rename({'marital_status':'status_id'},axis=1,inplace=True)"
   ]
  },
  {
   "cell_type": "code",
   "execution_count": 37,
   "metadata": {},
   "outputs": [],
   "source": [
    "marital.rename({'status':'marital_status'},axis=1,inplace=True)"
   ]
  },
  {
   "cell_type": "code",
   "execution_count": 38,
   "metadata": {},
   "outputs": [],
   "source": [
    "df = pd.merge(df,marital,on='status_id')"
   ]
  },
  {
   "cell_type": "code",
   "execution_count": 39,
   "metadata": {},
   "outputs": [
    {
     "data": {
      "text/html": [
       "<div>\n",
       "<style scoped>\n",
       "    .dataframe tbody tr th:only-of-type {\n",
       "        vertical-align: middle;\n",
       "    }\n",
       "\n",
       "    .dataframe tbody tr th {\n",
       "        vertical-align: top;\n",
       "    }\n",
       "\n",
       "    .dataframe thead th {\n",
       "        text-align: right;\n",
       "    }\n",
       "</style>\n",
       "<table border=\"1\" class=\"dataframe\">\n",
       "  <thead>\n",
       "    <tr style=\"text-align: right;\">\n",
       "      <th></th>\n",
       "      <th>region_id</th>\n",
       "      <th>region_name</th>\n",
       "    </tr>\n",
       "  </thead>\n",
       "  <tbody>\n",
       "    <tr>\n",
       "      <th>0</th>\n",
       "      <td>1</td>\n",
       "      <td>Baku-Absheron</td>\n",
       "    </tr>\n",
       "    <tr>\n",
       "      <th>1</th>\n",
       "      <td>2</td>\n",
       "      <td>Sumgayit</td>\n",
       "    </tr>\n",
       "    <tr>\n",
       "      <th>2</th>\n",
       "      <td>3</td>\n",
       "      <td>Ganja</td>\n",
       "    </tr>\n",
       "    <tr>\n",
       "      <th>3</th>\n",
       "      <td>4</td>\n",
       "      <td>Nakhcivan</td>\n",
       "    </tr>\n",
       "    <tr>\n",
       "      <th>4</th>\n",
       "      <td>5</td>\n",
       "      <td>Lankaran</td>\n",
       "    </tr>\n",
       "    <tr>\n",
       "      <th>5</th>\n",
       "      <td>6</td>\n",
       "      <td>Shaki</td>\n",
       "    </tr>\n",
       "  </tbody>\n",
       "</table>\n",
       "</div>"
      ],
      "text/plain": [
       "   region_id    region_name\n",
       "0          1  Baku-Absheron\n",
       "1          2       Sumgayit\n",
       "2          3          Ganja\n",
       "3          4      Nakhcivan\n",
       "4          5       Lankaran\n",
       "5          6          Shaki"
      ]
     },
     "execution_count": 39,
     "metadata": {},
     "output_type": "execute_result"
    }
   ],
   "source": [
    "region"
   ]
  },
  {
   "cell_type": "code",
   "execution_count": 40,
   "metadata": {},
   "outputs": [],
   "source": [
    "df = pd.merge(df,region,on='region_id')"
   ]
  },
  {
   "cell_type": "code",
   "execution_count": 41,
   "metadata": {},
   "outputs": [
    {
     "data": {
      "text/html": [
       "<div>\n",
       "<style scoped>\n",
       "    .dataframe tbody tr th:only-of-type {\n",
       "        vertical-align: middle;\n",
       "    }\n",
       "\n",
       "    .dataframe tbody tr th {\n",
       "        vertical-align: top;\n",
       "    }\n",
       "\n",
       "    .dataframe thead th {\n",
       "        text-align: right;\n",
       "    }\n",
       "</style>\n",
       "<table border=\"1\" class=\"dataframe\">\n",
       "  <thead>\n",
       "    <tr style=\"text-align: right;\">\n",
       "      <th></th>\n",
       "      <th>job_id</th>\n",
       "      <th>job_field</th>\n",
       "    </tr>\n",
       "  </thead>\n",
       "  <tbody>\n",
       "    <tr>\n",
       "      <th>0</th>\n",
       "      <td>1</td>\n",
       "      <td>Private sector</td>\n",
       "    </tr>\n",
       "    <tr>\n",
       "      <th>1</th>\n",
       "      <td>2</td>\n",
       "      <td>Oil industry</td>\n",
       "    </tr>\n",
       "    <tr>\n",
       "      <th>2</th>\n",
       "      <td>3</td>\n",
       "      <td>Military</td>\n",
       "    </tr>\n",
       "    <tr>\n",
       "      <th>3</th>\n",
       "      <td>4</td>\n",
       "      <td>Teacher</td>\n",
       "    </tr>\n",
       "    <tr>\n",
       "      <th>4</th>\n",
       "      <td>5</td>\n",
       "      <td>Unemployed</td>\n",
       "    </tr>\n",
       "  </tbody>\n",
       "</table>\n",
       "</div>"
      ],
      "text/plain": [
       "   job_id       job_field\n",
       "0       1  Private sector\n",
       "1       2    Oil industry\n",
       "2       3        Military\n",
       "3       4         Teacher\n",
       "4       5      Unemployed"
      ]
     },
     "execution_count": 41,
     "metadata": {},
     "output_type": "execute_result"
    }
   ],
   "source": [
    "job"
   ]
  },
  {
   "cell_type": "code",
   "execution_count": 42,
   "metadata": {},
   "outputs": [],
   "source": [
    "df = pd.merge(df,job,on='job_id')"
   ]
  },
  {
   "cell_type": "code",
   "execution_count": 43,
   "metadata": {},
   "outputs": [
    {
     "data": {
      "text/html": [
       "<div>\n",
       "<style scoped>\n",
       "    .dataframe tbody tr th:only-of-type {\n",
       "        vertical-align: middle;\n",
       "    }\n",
       "\n",
       "    .dataframe tbody tr th {\n",
       "        vertical-align: top;\n",
       "    }\n",
       "\n",
       "    .dataframe thead th {\n",
       "        text-align: right;\n",
       "    }\n",
       "</style>\n",
       "<table border=\"1\" class=\"dataframe\">\n",
       "  <thead>\n",
       "    <tr style=\"text-align: right;\">\n",
       "      <th></th>\n",
       "      <th>call_result_id</th>\n",
       "      <th>result</th>\n",
       "    </tr>\n",
       "  </thead>\n",
       "  <tbody>\n",
       "    <tr>\n",
       "      <th>0</th>\n",
       "      <td>0</td>\n",
       "      <td>Unsuccessful</td>\n",
       "    </tr>\n",
       "    <tr>\n",
       "      <th>1</th>\n",
       "      <td>1</td>\n",
       "      <td>Successful</td>\n",
       "    </tr>\n",
       "  </tbody>\n",
       "</table>\n",
       "</div>"
      ],
      "text/plain": [
       "   call_result_id        result\n",
       "0               0  Unsuccessful\n",
       "1               1    Successful"
      ]
     },
     "execution_count": 43,
     "metadata": {},
     "output_type": "execute_result"
    }
   ],
   "source": [
    "call_result"
   ]
  },
  {
   "cell_type": "code",
   "execution_count": 44,
   "metadata": {},
   "outputs": [],
   "source": [
    "df.rename({'call_result':'call_result_id'},axis=1,inplace=True)\n",
    "call_result.rename({'result':'call_result'},axis=1,inplace=True)"
   ]
  },
  {
   "cell_type": "code",
   "execution_count": 45,
   "metadata": {},
   "outputs": [],
   "source": [
    "df = pd.merge(df,call_result,on='call_result_id')"
   ]
  },
  {
   "cell_type": "code",
   "execution_count": 46,
   "metadata": {},
   "outputs": [
    {
     "data": {
      "text/html": [
       "<div>\n",
       "<style scoped>\n",
       "    .dataframe tbody tr th:only-of-type {\n",
       "        vertical-align: middle;\n",
       "    }\n",
       "\n",
       "    .dataframe tbody tr th {\n",
       "        vertical-align: top;\n",
       "    }\n",
       "\n",
       "    .dataframe thead th {\n",
       "        text-align: right;\n",
       "    }\n",
       "</style>\n",
       "<table border=\"1\" class=\"dataframe\">\n",
       "  <thead>\n",
       "    <tr style=\"text-align: right;\">\n",
       "      <th></th>\n",
       "      <th>employee_id</th>\n",
       "      <th>employee_name</th>\n",
       "      <th>hired_date</th>\n",
       "    </tr>\n",
       "  </thead>\n",
       "  <tbody>\n",
       "    <tr>\n",
       "      <th>0</th>\n",
       "      <td>1</td>\n",
       "      <td>Fuad Aliyev</td>\n",
       "      <td>7/15/2017</td>\n",
       "    </tr>\n",
       "    <tr>\n",
       "      <th>1</th>\n",
       "      <td>2</td>\n",
       "      <td>Orkhan Asgarov</td>\n",
       "      <td>12/18/2017</td>\n",
       "    </tr>\n",
       "    <tr>\n",
       "      <th>2</th>\n",
       "      <td>3</td>\n",
       "      <td>Elmir Mustafayev</td>\n",
       "      <td>1/5/2018</td>\n",
       "    </tr>\n",
       "    <tr>\n",
       "      <th>3</th>\n",
       "      <td>4</td>\n",
       "      <td>Fidan Mammadli</td>\n",
       "      <td>1/12/2018</td>\n",
       "    </tr>\n",
       "    <tr>\n",
       "      <th>4</th>\n",
       "      <td>5</td>\n",
       "      <td>Rashad Huseynli</td>\n",
       "      <td>6/6/2018</td>\n",
       "    </tr>\n",
       "    <tr>\n",
       "      <th>5</th>\n",
       "      <td>6</td>\n",
       "      <td>Elchin Asgarov</td>\n",
       "      <td>2/5/2019</td>\n",
       "    </tr>\n",
       "    <tr>\n",
       "      <th>6</th>\n",
       "      <td>7</td>\n",
       "      <td>Seymur Huseynov</td>\n",
       "      <td>3/4/2020</td>\n",
       "    </tr>\n",
       "    <tr>\n",
       "      <th>7</th>\n",
       "      <td>8</td>\n",
       "      <td>Emin Ahmedov</td>\n",
       "      <td>9/8/2022</td>\n",
       "    </tr>\n",
       "    <tr>\n",
       "      <th>8</th>\n",
       "      <td>9</td>\n",
       "      <td>Lamiya Hajiyeva</td>\n",
       "      <td>10/2/2023</td>\n",
       "    </tr>\n",
       "    <tr>\n",
       "      <th>9</th>\n",
       "      <td>10</td>\n",
       "      <td>Rufat Huseynov</td>\n",
       "      <td>10/1/2024</td>\n",
       "    </tr>\n",
       "  </tbody>\n",
       "</table>\n",
       "</div>"
      ],
      "text/plain": [
       "   employee_id     employee_name  hired_date\n",
       "0            1       Fuad Aliyev   7/15/2017\n",
       "1            2    Orkhan Asgarov  12/18/2017\n",
       "2            3  Elmir Mustafayev    1/5/2018\n",
       "3            4    Fidan Mammadli   1/12/2018\n",
       "4            5   Rashad Huseynli    6/6/2018\n",
       "5            6    Elchin Asgarov    2/5/2019\n",
       "6            7   Seymur Huseynov    3/4/2020\n",
       "7            8      Emin Ahmedov    9/8/2022\n",
       "8            9   Lamiya Hajiyeva   10/2/2023\n",
       "9           10    Rufat Huseynov   10/1/2024"
      ]
     },
     "execution_count": 46,
     "metadata": {},
     "output_type": "execute_result"
    }
   ],
   "source": [
    "employees"
   ]
  },
  {
   "cell_type": "code",
   "execution_count": 47,
   "metadata": {},
   "outputs": [],
   "source": [
    "df = pd.merge(df,employees,on='employee_id')"
   ]
  },
  {
   "cell_type": "code",
   "execution_count": 48,
   "metadata": {},
   "outputs": [
    {
     "data": {
      "text/html": [
       "<div>\n",
       "<style scoped>\n",
       "    .dataframe tbody tr th:only-of-type {\n",
       "        vertical-align: middle;\n",
       "    }\n",
       "\n",
       "    .dataframe tbody tr th {\n",
       "        vertical-align: top;\n",
       "    }\n",
       "\n",
       "    .dataframe thead th {\n",
       "        text-align: right;\n",
       "    }\n",
       "</style>\n",
       "<table border=\"1\" class=\"dataframe\">\n",
       "  <thead>\n",
       "    <tr style=\"text-align: right;\">\n",
       "      <th></th>\n",
       "      <th>call_date</th>\n",
       "      <th>call_id</th>\n",
       "      <th>call_type</th>\n",
       "      <th>job_id</th>\n",
       "      <th>response_time</th>\n",
       "      <th>birth_date</th>\n",
       "      <th>status_id</th>\n",
       "      <th>gender_id</th>\n",
       "      <th>region_id</th>\n",
       "      <th>employee_id</th>\n",
       "      <th>...</th>\n",
       "      <th>customer_birth_year</th>\n",
       "      <th>customer_age</th>\n",
       "      <th>age_interval</th>\n",
       "      <th>gender_name</th>\n",
       "      <th>marital_status</th>\n",
       "      <th>region_name</th>\n",
       "      <th>job_field</th>\n",
       "      <th>call_result</th>\n",
       "      <th>employee_name</th>\n",
       "      <th>hired_date</th>\n",
       "    </tr>\n",
       "  </thead>\n",
       "  <tbody>\n",
       "    <tr>\n",
       "      <th>0</th>\n",
       "      <td>2024-01-10</td>\n",
       "      <td>2406</td>\n",
       "      <td>Cold</td>\n",
       "      <td>3</td>\n",
       "      <td>NaN</td>\n",
       "      <td>1988-08-15</td>\n",
       "      <td>2.0</td>\n",
       "      <td>0</td>\n",
       "      <td>2</td>\n",
       "      <td>3</td>\n",
       "      <td>...</td>\n",
       "      <td>1988</td>\n",
       "      <td>36</td>\n",
       "      <td>31-40</td>\n",
       "      <td>Man</td>\n",
       "      <td>Divorced</td>\n",
       "      <td>Sumgayit</td>\n",
       "      <td>Military</td>\n",
       "      <td>Unsuccessful</td>\n",
       "      <td>Elmir Mustafayev</td>\n",
       "      <td>1/5/2018</td>\n",
       "    </tr>\n",
       "    <tr>\n",
       "      <th>1</th>\n",
       "      <td>2024-01-22</td>\n",
       "      <td>2892</td>\n",
       "      <td>Cold</td>\n",
       "      <td>3</td>\n",
       "      <td>NaN</td>\n",
       "      <td>1990-06-24</td>\n",
       "      <td>1.0</td>\n",
       "      <td>0</td>\n",
       "      <td>3</td>\n",
       "      <td>5</td>\n",
       "      <td>...</td>\n",
       "      <td>1990</td>\n",
       "      <td>34</td>\n",
       "      <td>31-40</td>\n",
       "      <td>Man</td>\n",
       "      <td>Married</td>\n",
       "      <td>Ganja</td>\n",
       "      <td>Military</td>\n",
       "      <td>Unsuccessful</td>\n",
       "      <td>Rashad Huseynli</td>\n",
       "      <td>6/6/2018</td>\n",
       "    </tr>\n",
       "    <tr>\n",
       "      <th>2</th>\n",
       "      <td>2024-01-23</td>\n",
       "      <td>2788</td>\n",
       "      <td>Cold</td>\n",
       "      <td>3</td>\n",
       "      <td>NaN</td>\n",
       "      <td>1978-08-30</td>\n",
       "      <td>2.0</td>\n",
       "      <td>0</td>\n",
       "      <td>2</td>\n",
       "      <td>1</td>\n",
       "      <td>...</td>\n",
       "      <td>1978</td>\n",
       "      <td>46</td>\n",
       "      <td>41-50</td>\n",
       "      <td>Man</td>\n",
       "      <td>Divorced</td>\n",
       "      <td>Sumgayit</td>\n",
       "      <td>Military</td>\n",
       "      <td>Successful</td>\n",
       "      <td>Fuad Aliyev</td>\n",
       "      <td>7/15/2017</td>\n",
       "    </tr>\n",
       "    <tr>\n",
       "      <th>3</th>\n",
       "      <td>2024-01-02</td>\n",
       "      <td>2663</td>\n",
       "      <td>Hot</td>\n",
       "      <td>3</td>\n",
       "      <td>1039.0</td>\n",
       "      <td>1983-06-18</td>\n",
       "      <td>1.0</td>\n",
       "      <td>1</td>\n",
       "      <td>1</td>\n",
       "      <td>5</td>\n",
       "      <td>...</td>\n",
       "      <td>1983</td>\n",
       "      <td>41</td>\n",
       "      <td>41-50</td>\n",
       "      <td>Woman</td>\n",
       "      <td>Married</td>\n",
       "      <td>Baku-Absheron</td>\n",
       "      <td>Military</td>\n",
       "      <td>Successful</td>\n",
       "      <td>Rashad Huseynli</td>\n",
       "      <td>6/6/2018</td>\n",
       "    </tr>\n",
       "    <tr>\n",
       "      <th>4</th>\n",
       "      <td>2024-01-08</td>\n",
       "      <td>2498</td>\n",
       "      <td>Cold</td>\n",
       "      <td>3</td>\n",
       "      <td>NaN</td>\n",
       "      <td>1975-10-16</td>\n",
       "      <td>2.0</td>\n",
       "      <td>1</td>\n",
       "      <td>4</td>\n",
       "      <td>4</td>\n",
       "      <td>...</td>\n",
       "      <td>1975</td>\n",
       "      <td>49</td>\n",
       "      <td>41-50</td>\n",
       "      <td>Woman</td>\n",
       "      <td>Divorced</td>\n",
       "      <td>Nakhcivan</td>\n",
       "      <td>Military</td>\n",
       "      <td>Unsuccessful</td>\n",
       "      <td>Fidan Mammadli</td>\n",
       "      <td>1/12/2018</td>\n",
       "    </tr>\n",
       "  </tbody>\n",
       "</table>\n",
       "<p>5 rows × 21 columns</p>\n",
       "</div>"
      ],
      "text/plain": [
       "   call_date  call_id call_type  job_id  response_time birth_date  status_id  \\\n",
       "0 2024-01-10     2406      Cold       3            NaN 1988-08-15        2.0   \n",
       "1 2024-01-22     2892      Cold       3            NaN 1990-06-24        1.0   \n",
       "2 2024-01-23     2788      Cold       3            NaN 1978-08-30        2.0   \n",
       "3 2024-01-02     2663       Hot       3         1039.0 1983-06-18        1.0   \n",
       "4 2024-01-08     2498      Cold       3            NaN 1975-10-16        2.0   \n",
       "\n",
       "   gender_id  region_id  employee_id  ...  customer_birth_year  customer_age  \\\n",
       "0          0          2            3  ...                 1988            36   \n",
       "1          0          3            5  ...                 1990            34   \n",
       "2          0          2            1  ...                 1978            46   \n",
       "3          1          1            5  ...                 1983            41   \n",
       "4          1          4            4  ...                 1975            49   \n",
       "\n",
       "   age_interval gender_name marital_status    region_name job_field  \\\n",
       "0         31-40         Man       Divorced       Sumgayit  Military   \n",
       "1         31-40         Man        Married          Ganja  Military   \n",
       "2         41-50         Man       Divorced       Sumgayit  Military   \n",
       "3         41-50       Woman        Married  Baku-Absheron  Military   \n",
       "4         41-50       Woman       Divorced      Nakhcivan  Military   \n",
       "\n",
       "    call_result     employee_name hired_date  \n",
       "0  Unsuccessful  Elmir Mustafayev   1/5/2018  \n",
       "1  Unsuccessful   Rashad Huseynli   6/6/2018  \n",
       "2    Successful       Fuad Aliyev  7/15/2017  \n",
       "3    Successful   Rashad Huseynli   6/6/2018  \n",
       "4  Unsuccessful    Fidan Mammadli  1/12/2018  \n",
       "\n",
       "[5 rows x 21 columns]"
      ]
     },
     "execution_count": 48,
     "metadata": {},
     "output_type": "execute_result"
    }
   ],
   "source": [
    "df.head()"
   ]
  },
  {
   "cell_type": "code",
   "execution_count": 49,
   "metadata": {},
   "outputs": [],
   "source": [
    "telesales = df.copy()"
   ]
  },
  {
   "cell_type": "code",
   "execution_count": 50,
   "metadata": {},
   "outputs": [
    {
     "name": "stdout",
     "output_type": "stream",
     "text": [
      "<class 'pandas.core.frame.DataFrame'>\n",
      "RangeIndex: 1031 entries, 0 to 1030\n",
      "Data columns (total 21 columns):\n",
      " #   Column               Non-Null Count  Dtype         \n",
      "---  ------               --------------  -----         \n",
      " 0   call_date            1031 non-null   datetime64[ns]\n",
      " 1   call_id              1031 non-null   int64         \n",
      " 2   call_type            1031 non-null   object        \n",
      " 3   job_id               1031 non-null   int64         \n",
      " 4   response_time        383 non-null    float64       \n",
      " 5   birth_date           1031 non-null   datetime64[ns]\n",
      " 6   status_id            1031 non-null   float64       \n",
      " 7   gender_id            1031 non-null   int64         \n",
      " 8   region_id            1031 non-null   int64         \n",
      " 9   employee_id          1031 non-null   int64         \n",
      " 10  call_result_id       1031 non-null   int64         \n",
      " 11  customer_birth_year  1031 non-null   int64         \n",
      " 12  customer_age         1031 non-null   int64         \n",
      " 13  age_interval         1031 non-null   category      \n",
      " 14  gender_name          1031 non-null   object        \n",
      " 15  marital_status       1031 non-null   object        \n",
      " 16  region_name          1031 non-null   object        \n",
      " 17  job_field            1031 non-null   object        \n",
      " 18  call_result          1031 non-null   object        \n",
      " 19  employee_name        1031 non-null   object        \n",
      " 20  hired_date           1031 non-null   object        \n",
      "dtypes: category(1), datetime64[ns](2), float64(2), int64(8), object(8)\n",
      "memory usage: 162.4+ KB\n"
     ]
    }
   ],
   "source": [
    "telesales.info()"
   ]
  },
  {
   "cell_type": "markdown",
   "metadata": {},
   "source": [
    "**Hired_date columns need to be converted to date type**"
   ]
  },
  {
   "cell_type": "code",
   "execution_count": 51,
   "metadata": {},
   "outputs": [],
   "source": [
    "telesales['hired_date'] = pd.to_datetime(telesales['hired_date'])"
   ]
  },
  {
   "cell_type": "code",
   "execution_count": 52,
   "metadata": {},
   "outputs": [
    {
     "name": "stdout",
     "output_type": "stream",
     "text": [
      "<class 'pandas.core.frame.DataFrame'>\n",
      "RangeIndex: 1031 entries, 0 to 1030\n",
      "Data columns (total 21 columns):\n",
      " #   Column               Non-Null Count  Dtype         \n",
      "---  ------               --------------  -----         \n",
      " 0   call_date            1031 non-null   datetime64[ns]\n",
      " 1   call_id              1031 non-null   int64         \n",
      " 2   call_type            1031 non-null   object        \n",
      " 3   job_id               1031 non-null   int64         \n",
      " 4   response_time        383 non-null    float64       \n",
      " 5   birth_date           1031 non-null   datetime64[ns]\n",
      " 6   status_id            1031 non-null   float64       \n",
      " 7   gender_id            1031 non-null   int64         \n",
      " 8   region_id            1031 non-null   int64         \n",
      " 9   employee_id          1031 non-null   int64         \n",
      " 10  call_result_id       1031 non-null   int64         \n",
      " 11  customer_birth_year  1031 non-null   int64         \n",
      " 12  customer_age         1031 non-null   int64         \n",
      " 13  age_interval         1031 non-null   category      \n",
      " 14  gender_name          1031 non-null   object        \n",
      " 15  marital_status       1031 non-null   object        \n",
      " 16  region_name          1031 non-null   object        \n",
      " 17  job_field            1031 non-null   object        \n",
      " 18  call_result          1031 non-null   object        \n",
      " 19  employee_name        1031 non-null   object        \n",
      " 20  hired_date           1031 non-null   datetime64[ns]\n",
      "dtypes: category(1), datetime64[ns](3), float64(2), int64(8), object(7)\n",
      "memory usage: 162.4+ KB\n"
     ]
    }
   ],
   "source": [
    "telesales.info()"
   ]
  },
  {
   "cell_type": "code",
   "execution_count": 53,
   "metadata": {},
   "outputs": [
    {
     "data": {
      "text/html": [
       "<div>\n",
       "<style scoped>\n",
       "    .dataframe tbody tr th:only-of-type {\n",
       "        vertical-align: middle;\n",
       "    }\n",
       "\n",
       "    .dataframe tbody tr th {\n",
       "        vertical-align: top;\n",
       "    }\n",
       "\n",
       "    .dataframe thead th {\n",
       "        text-align: right;\n",
       "    }\n",
       "</style>\n",
       "<table border=\"1\" class=\"dataframe\">\n",
       "  <thead>\n",
       "    <tr style=\"text-align: right;\">\n",
       "      <th></th>\n",
       "      <th>call_date</th>\n",
       "      <th>call_id</th>\n",
       "      <th>call_type</th>\n",
       "      <th>job_id</th>\n",
       "      <th>response_time</th>\n",
       "      <th>birth_date</th>\n",
       "      <th>status_id</th>\n",
       "      <th>gender_id</th>\n",
       "      <th>region_id</th>\n",
       "      <th>employee_id</th>\n",
       "      <th>...</th>\n",
       "      <th>customer_birth_year</th>\n",
       "      <th>customer_age</th>\n",
       "      <th>age_interval</th>\n",
       "      <th>gender_name</th>\n",
       "      <th>marital_status</th>\n",
       "      <th>region_name</th>\n",
       "      <th>job_field</th>\n",
       "      <th>call_result</th>\n",
       "      <th>employee_name</th>\n",
       "      <th>hired_date</th>\n",
       "    </tr>\n",
       "  </thead>\n",
       "  <tbody>\n",
       "    <tr>\n",
       "      <th>0</th>\n",
       "      <td>2024-01-10</td>\n",
       "      <td>2406</td>\n",
       "      <td>Cold</td>\n",
       "      <td>3</td>\n",
       "      <td>NaN</td>\n",
       "      <td>1988-08-15</td>\n",
       "      <td>2.0</td>\n",
       "      <td>0</td>\n",
       "      <td>2</td>\n",
       "      <td>3</td>\n",
       "      <td>...</td>\n",
       "      <td>1988</td>\n",
       "      <td>36</td>\n",
       "      <td>31-40</td>\n",
       "      <td>Man</td>\n",
       "      <td>Divorced</td>\n",
       "      <td>Sumgayit</td>\n",
       "      <td>Military</td>\n",
       "      <td>Unsuccessful</td>\n",
       "      <td>Elmir Mustafayev</td>\n",
       "      <td>2018-01-05</td>\n",
       "    </tr>\n",
       "    <tr>\n",
       "      <th>1</th>\n",
       "      <td>2024-01-22</td>\n",
       "      <td>2892</td>\n",
       "      <td>Cold</td>\n",
       "      <td>3</td>\n",
       "      <td>NaN</td>\n",
       "      <td>1990-06-24</td>\n",
       "      <td>1.0</td>\n",
       "      <td>0</td>\n",
       "      <td>3</td>\n",
       "      <td>5</td>\n",
       "      <td>...</td>\n",
       "      <td>1990</td>\n",
       "      <td>34</td>\n",
       "      <td>31-40</td>\n",
       "      <td>Man</td>\n",
       "      <td>Married</td>\n",
       "      <td>Ganja</td>\n",
       "      <td>Military</td>\n",
       "      <td>Unsuccessful</td>\n",
       "      <td>Rashad Huseynli</td>\n",
       "      <td>2018-06-06</td>\n",
       "    </tr>\n",
       "    <tr>\n",
       "      <th>2</th>\n",
       "      <td>2024-01-23</td>\n",
       "      <td>2788</td>\n",
       "      <td>Cold</td>\n",
       "      <td>3</td>\n",
       "      <td>NaN</td>\n",
       "      <td>1978-08-30</td>\n",
       "      <td>2.0</td>\n",
       "      <td>0</td>\n",
       "      <td>2</td>\n",
       "      <td>1</td>\n",
       "      <td>...</td>\n",
       "      <td>1978</td>\n",
       "      <td>46</td>\n",
       "      <td>41-50</td>\n",
       "      <td>Man</td>\n",
       "      <td>Divorced</td>\n",
       "      <td>Sumgayit</td>\n",
       "      <td>Military</td>\n",
       "      <td>Successful</td>\n",
       "      <td>Fuad Aliyev</td>\n",
       "      <td>2017-07-15</td>\n",
       "    </tr>\n",
       "    <tr>\n",
       "      <th>3</th>\n",
       "      <td>2024-01-02</td>\n",
       "      <td>2663</td>\n",
       "      <td>Hot</td>\n",
       "      <td>3</td>\n",
       "      <td>1039.0</td>\n",
       "      <td>1983-06-18</td>\n",
       "      <td>1.0</td>\n",
       "      <td>1</td>\n",
       "      <td>1</td>\n",
       "      <td>5</td>\n",
       "      <td>...</td>\n",
       "      <td>1983</td>\n",
       "      <td>41</td>\n",
       "      <td>41-50</td>\n",
       "      <td>Woman</td>\n",
       "      <td>Married</td>\n",
       "      <td>Baku-Absheron</td>\n",
       "      <td>Military</td>\n",
       "      <td>Successful</td>\n",
       "      <td>Rashad Huseynli</td>\n",
       "      <td>2018-06-06</td>\n",
       "    </tr>\n",
       "    <tr>\n",
       "      <th>4</th>\n",
       "      <td>2024-01-08</td>\n",
       "      <td>2498</td>\n",
       "      <td>Cold</td>\n",
       "      <td>3</td>\n",
       "      <td>NaN</td>\n",
       "      <td>1975-10-16</td>\n",
       "      <td>2.0</td>\n",
       "      <td>1</td>\n",
       "      <td>4</td>\n",
       "      <td>4</td>\n",
       "      <td>...</td>\n",
       "      <td>1975</td>\n",
       "      <td>49</td>\n",
       "      <td>41-50</td>\n",
       "      <td>Woman</td>\n",
       "      <td>Divorced</td>\n",
       "      <td>Nakhcivan</td>\n",
       "      <td>Military</td>\n",
       "      <td>Unsuccessful</td>\n",
       "      <td>Fidan Mammadli</td>\n",
       "      <td>2018-01-12</td>\n",
       "    </tr>\n",
       "  </tbody>\n",
       "</table>\n",
       "<p>5 rows × 21 columns</p>\n",
       "</div>"
      ],
      "text/plain": [
       "   call_date  call_id call_type  job_id  response_time birth_date  status_id  \\\n",
       "0 2024-01-10     2406      Cold       3            NaN 1988-08-15        2.0   \n",
       "1 2024-01-22     2892      Cold       3            NaN 1990-06-24        1.0   \n",
       "2 2024-01-23     2788      Cold       3            NaN 1978-08-30        2.0   \n",
       "3 2024-01-02     2663       Hot       3         1039.0 1983-06-18        1.0   \n",
       "4 2024-01-08     2498      Cold       3            NaN 1975-10-16        2.0   \n",
       "\n",
       "   gender_id  region_id  employee_id  ...  customer_birth_year  customer_age  \\\n",
       "0          0          2            3  ...                 1988            36   \n",
       "1          0          3            5  ...                 1990            34   \n",
       "2          0          2            1  ...                 1978            46   \n",
       "3          1          1            5  ...                 1983            41   \n",
       "4          1          4            4  ...                 1975            49   \n",
       "\n",
       "   age_interval gender_name marital_status    region_name job_field  \\\n",
       "0         31-40         Man       Divorced       Sumgayit  Military   \n",
       "1         31-40         Man        Married          Ganja  Military   \n",
       "2         41-50         Man       Divorced       Sumgayit  Military   \n",
       "3         41-50       Woman        Married  Baku-Absheron  Military   \n",
       "4         41-50       Woman       Divorced      Nakhcivan  Military   \n",
       "\n",
       "    call_result     employee_name hired_date  \n",
       "0  Unsuccessful  Elmir Mustafayev 2018-01-05  \n",
       "1  Unsuccessful   Rashad Huseynli 2018-06-06  \n",
       "2    Successful       Fuad Aliyev 2017-07-15  \n",
       "3    Successful   Rashad Huseynli 2018-06-06  \n",
       "4  Unsuccessful    Fidan Mammadli 2018-01-12  \n",
       "\n",
       "[5 rows x 21 columns]"
      ]
     },
     "execution_count": 53,
     "metadata": {},
     "output_type": "execute_result"
    }
   ],
   "source": [
    "telesales.head()"
   ]
  },
  {
   "cell_type": "code",
   "execution_count": 54,
   "metadata": {},
   "outputs": [
    {
     "data": {
      "text/plain": [
       "call_date                0\n",
       "call_id                  0\n",
       "call_type                0\n",
       "job_id                   0\n",
       "response_time          648\n",
       "birth_date               0\n",
       "status_id                0\n",
       "gender_id                0\n",
       "region_id                0\n",
       "employee_id              0\n",
       "call_result_id           0\n",
       "customer_birth_year      0\n",
       "customer_age             0\n",
       "age_interval             0\n",
       "gender_name              0\n",
       "marital_status           0\n",
       "region_name              0\n",
       "job_field                0\n",
       "call_result              0\n",
       "employee_name            0\n",
       "hired_date               0\n",
       "dtype: int64"
      ]
     },
     "execution_count": 54,
     "metadata": {},
     "output_type": "execute_result"
    }
   ],
   "source": [
    "telesales.isnull().sum()"
   ]
  },
  {
   "cell_type": "markdown",
   "metadata": {},
   "source": [
    "#### Data Exploring"
   ]
  },
  {
   "cell_type": "code",
   "execution_count": 55,
   "metadata": {},
   "outputs": [
    {
     "data": {
      "text/html": [
       "<div>\n",
       "<style scoped>\n",
       "    .dataframe tbody tr th:only-of-type {\n",
       "        vertical-align: middle;\n",
       "    }\n",
       "\n",
       "    .dataframe tbody tr th {\n",
       "        vertical-align: top;\n",
       "    }\n",
       "\n",
       "    .dataframe thead th {\n",
       "        text-align: right;\n",
       "    }\n",
       "</style>\n",
       "<table border=\"1\" class=\"dataframe\">\n",
       "  <thead>\n",
       "    <tr style=\"text-align: right;\">\n",
       "      <th></th>\n",
       "      <th>call_date</th>\n",
       "      <th>call_id</th>\n",
       "      <th>job_id</th>\n",
       "      <th>response_time</th>\n",
       "      <th>birth_date</th>\n",
       "      <th>status_id</th>\n",
       "      <th>gender_id</th>\n",
       "      <th>region_id</th>\n",
       "      <th>employee_id</th>\n",
       "      <th>call_result_id</th>\n",
       "      <th>customer_birth_year</th>\n",
       "      <th>customer_age</th>\n",
       "      <th>hired_date</th>\n",
       "    </tr>\n",
       "  </thead>\n",
       "  <tbody>\n",
       "    <tr>\n",
       "      <th>count</th>\n",
       "      <td>1031</td>\n",
       "      <td>1031.000000</td>\n",
       "      <td>1031.000000</td>\n",
       "      <td>383.000000</td>\n",
       "      <td>1031</td>\n",
       "      <td>1031.000000</td>\n",
       "      <td>1031.000000</td>\n",
       "      <td>1031.000000</td>\n",
       "      <td>1031.000000</td>\n",
       "      <td>1031.000000</td>\n",
       "      <td>1031.000000</td>\n",
       "      <td>1031.000000</td>\n",
       "      <td>1031</td>\n",
       "    </tr>\n",
       "    <tr>\n",
       "      <th>mean</th>\n",
       "      <td>2024-01-16 14:25:57.322987520</td>\n",
       "      <td>2516.000000</td>\n",
       "      <td>3.109602</td>\n",
       "      <td>465.997389</td>\n",
       "      <td>1984-09-20 01:26:35.732298752</td>\n",
       "      <td>1.022308</td>\n",
       "      <td>0.391853</td>\n",
       "      <td>2.388943</td>\n",
       "      <td>3.416101</td>\n",
       "      <td>0.338506</td>\n",
       "      <td>1984.230844</td>\n",
       "      <td>39.769156</td>\n",
       "      <td>2018-06-15 11:00:38.409311232</td>\n",
       "    </tr>\n",
       "    <tr>\n",
       "      <th>min</th>\n",
       "      <td>2024-01-01 00:00:00</td>\n",
       "      <td>2001.000000</td>\n",
       "      <td>1.000000</td>\n",
       "      <td>1.000000</td>\n",
       "      <td>1958-10-09 00:00:00</td>\n",
       "      <td>0.000000</td>\n",
       "      <td>0.000000</td>\n",
       "      <td>1.000000</td>\n",
       "      <td>1.000000</td>\n",
       "      <td>0.000000</td>\n",
       "      <td>1958.000000</td>\n",
       "      <td>16.000000</td>\n",
       "      <td>2017-07-15 00:00:00</td>\n",
       "    </tr>\n",
       "    <tr>\n",
       "      <th>25%</th>\n",
       "      <td>2024-01-09 00:00:00</td>\n",
       "      <td>2258.500000</td>\n",
       "      <td>2.000000</td>\n",
       "      <td>56.000000</td>\n",
       "      <td>1978-07-18 00:00:00</td>\n",
       "      <td>1.000000</td>\n",
       "      <td>0.000000</td>\n",
       "      <td>1.000000</td>\n",
       "      <td>2.000000</td>\n",
       "      <td>0.000000</td>\n",
       "      <td>1978.000000</td>\n",
       "      <td>33.000000</td>\n",
       "      <td>2017-12-18 00:00:00</td>\n",
       "    </tr>\n",
       "    <tr>\n",
       "      <th>50%</th>\n",
       "      <td>2024-01-16 00:00:00</td>\n",
       "      <td>2516.000000</td>\n",
       "      <td>3.000000</td>\n",
       "      <td>106.000000</td>\n",
       "      <td>1984-04-27 00:00:00</td>\n",
       "      <td>1.000000</td>\n",
       "      <td>0.000000</td>\n",
       "      <td>2.000000</td>\n",
       "      <td>3.000000</td>\n",
       "      <td>0.000000</td>\n",
       "      <td>1984.000000</td>\n",
       "      <td>40.000000</td>\n",
       "      <td>2018-01-05 00:00:00</td>\n",
       "    </tr>\n",
       "    <tr>\n",
       "      <th>75%</th>\n",
       "      <td>2024-01-23 00:00:00</td>\n",
       "      <td>2773.500000</td>\n",
       "      <td>4.000000</td>\n",
       "      <td>883.500000</td>\n",
       "      <td>1991-07-22 00:00:00</td>\n",
       "      <td>1.000000</td>\n",
       "      <td>1.000000</td>\n",
       "      <td>3.000000</td>\n",
       "      <td>5.000000</td>\n",
       "      <td>1.000000</td>\n",
       "      <td>1991.000000</td>\n",
       "      <td>46.000000</td>\n",
       "      <td>2018-06-06 00:00:00</td>\n",
       "    </tr>\n",
       "    <tr>\n",
       "      <th>max</th>\n",
       "      <td>2024-01-31 00:00:00</td>\n",
       "      <td>3031.000000</td>\n",
       "      <td>5.000000</td>\n",
       "      <td>1993.000000</td>\n",
       "      <td>2008-03-16 00:00:00</td>\n",
       "      <td>2.000000</td>\n",
       "      <td>1.000000</td>\n",
       "      <td>6.000000</td>\n",
       "      <td>10.000000</td>\n",
       "      <td>1.000000</td>\n",
       "      <td>2008.000000</td>\n",
       "      <td>66.000000</td>\n",
       "      <td>2024-10-01 00:00:00</td>\n",
       "    </tr>\n",
       "    <tr>\n",
       "      <th>std</th>\n",
       "      <td>NaN</td>\n",
       "      <td>297.768366</td>\n",
       "      <td>1.365531</td>\n",
       "      <td>578.144167</td>\n",
       "      <td>NaN</td>\n",
       "      <td>0.680153</td>\n",
       "      <td>0.488401</td>\n",
       "      <td>1.385442</td>\n",
       "      <td>2.245274</td>\n",
       "      <td>0.473431</td>\n",
       "      <td>8.947802</td>\n",
       "      <td>8.947802</td>\n",
       "      <td>NaN</td>\n",
       "    </tr>\n",
       "  </tbody>\n",
       "</table>\n",
       "</div>"
      ],
      "text/plain": [
       "                           call_date      call_id       job_id  response_time  \\\n",
       "count                           1031  1031.000000  1031.000000     383.000000   \n",
       "mean   2024-01-16 14:25:57.322987520  2516.000000     3.109602     465.997389   \n",
       "min              2024-01-01 00:00:00  2001.000000     1.000000       1.000000   \n",
       "25%              2024-01-09 00:00:00  2258.500000     2.000000      56.000000   \n",
       "50%              2024-01-16 00:00:00  2516.000000     3.000000     106.000000   \n",
       "75%              2024-01-23 00:00:00  2773.500000     4.000000     883.500000   \n",
       "max              2024-01-31 00:00:00  3031.000000     5.000000    1993.000000   \n",
       "std                              NaN   297.768366     1.365531     578.144167   \n",
       "\n",
       "                          birth_date    status_id    gender_id    region_id  \\\n",
       "count                           1031  1031.000000  1031.000000  1031.000000   \n",
       "mean   1984-09-20 01:26:35.732298752     1.022308     0.391853     2.388943   \n",
       "min              1958-10-09 00:00:00     0.000000     0.000000     1.000000   \n",
       "25%              1978-07-18 00:00:00     1.000000     0.000000     1.000000   \n",
       "50%              1984-04-27 00:00:00     1.000000     0.000000     2.000000   \n",
       "75%              1991-07-22 00:00:00     1.000000     1.000000     3.000000   \n",
       "max              2008-03-16 00:00:00     2.000000     1.000000     6.000000   \n",
       "std                              NaN     0.680153     0.488401     1.385442   \n",
       "\n",
       "       employee_id  call_result_id  customer_birth_year  customer_age  \\\n",
       "count  1031.000000     1031.000000          1031.000000   1031.000000   \n",
       "mean      3.416101        0.338506          1984.230844     39.769156   \n",
       "min       1.000000        0.000000          1958.000000     16.000000   \n",
       "25%       2.000000        0.000000          1978.000000     33.000000   \n",
       "50%       3.000000        0.000000          1984.000000     40.000000   \n",
       "75%       5.000000        1.000000          1991.000000     46.000000   \n",
       "max      10.000000        1.000000          2008.000000     66.000000   \n",
       "std       2.245274        0.473431             8.947802      8.947802   \n",
       "\n",
       "                          hired_date  \n",
       "count                           1031  \n",
       "mean   2018-06-15 11:00:38.409311232  \n",
       "min              2017-07-15 00:00:00  \n",
       "25%              2017-12-18 00:00:00  \n",
       "50%              2018-01-05 00:00:00  \n",
       "75%              2018-06-06 00:00:00  \n",
       "max              2024-10-01 00:00:00  \n",
       "std                              NaN  "
      ]
     },
     "execution_count": 55,
     "metadata": {},
     "output_type": "execute_result"
    }
   ],
   "source": [
    "telesales.describe()"
   ]
  },
  {
   "cell_type": "code",
   "execution_count": 56,
   "metadata": {},
   "outputs": [
    {
     "data": {
      "text/plain": [
       "<Axes: ylabel='Frequency'>"
      ]
     },
     "execution_count": 56,
     "metadata": {},
     "output_type": "execute_result"
    },
    {
     "data": {
      "image/png": "[encoded data removed]",
      "text/plain": [
       "<Figure size 640x480 with 1 Axes>"
      ]
     },
     "metadata": {},
     "output_type": "display_data"
    }
   ],
   "source": [
    "telesales['response_time'].plot(kind='hist')"
   ]
  },
  {
   "cell_type": "code",
   "execution_count": 54,
   "metadata": {},
   "outputs": [
    {
     "data": {
      "text/plain": [
       "<Axes: >"
      ]
     },
     "execution_count": 54,
     "metadata": {},
     "output_type": "execute_result"
    },
    {
     "data": {
      "image/png": "[encoded data removed]",
      "text/plain": [
       "<Figure size 640x480 with 1 Axes>"
      ]
     },
     "metadata": {},
     "output_type": "display_data"
    }
   ],
   "source": [
    "telesales['response_time'].plot(kind='box')"
   ]
  },
  {
   "cell_type": "code",
   "execution_count": 55,
   "metadata": {},
   "outputs": [
    {
     "data": {
      "text/plain": [
       "<Axes: ylabel='Frequency'>"
      ]
     },
     "execution_count": 55,
     "metadata": {},
     "output_type": "execute_result"
    },
    {
     "data": {
      "image/png": "[encoded data removed]",
      "text/plain": [
       "<Figure size 640x480 with 1 Axes>"
      ]
     },
     "metadata": {},
     "output_type": "display_data"
    }
   ],
   "source": [
    "telesales['customer_age'].plot(kind='hist')"
   ]
  },
  {
   "cell_type": "code",
   "execution_count": 56,
   "metadata": {},
   "outputs": [
    {
     "data": {
      "text/plain": [
       "<Axes: >"
      ]
     },
     "execution_count": 56,
     "metadata": {},
     "output_type": "execute_result"
    },
    {
     "data": {
      "image/png": "[encoded data removed]",
      "text/plain": [
       "<Figure size 640x480 with 1 Axes>"
      ]
     },
     "metadata": {},
     "output_type": "display_data"
    }
   ],
   "source": [
    "telesales['customer_age'].plot(kind='box')"
   ]
  },
  {
   "cell_type": "code",
   "execution_count": 57,
   "metadata": {},
   "outputs": [
    {
     "data": {
      "text/html": [
       "<div>\n",
       "<style scoped>\n",
       "    .dataframe tbody tr th:only-of-type {\n",
       "        vertical-align: middle;\n",
       "    }\n",
       "\n",
       "    .dataframe tbody tr th {\n",
       "        vertical-align: top;\n",
       "    }\n",
       "\n",
       "    .dataframe thead th {\n",
       "        text-align: right;\n",
       "    }\n",
       "</style>\n",
       "<table border=\"1\" class=\"dataframe\">\n",
       "  <thead>\n",
       "    <tr style=\"text-align: right;\">\n",
       "      <th></th>\n",
       "      <th>call_date</th>\n",
       "      <th>call_id</th>\n",
       "      <th>call_type</th>\n",
       "      <th>job_id</th>\n",
       "      <th>response_time</th>\n",
       "      <th>birth_date</th>\n",
       "      <th>status_id</th>\n",
       "      <th>gender_id</th>\n",
       "      <th>region_id</th>\n",
       "      <th>employee_id</th>\n",
       "      <th>...</th>\n",
       "      <th>customer_birth_year</th>\n",
       "      <th>customer_age</th>\n",
       "      <th>age_interval</th>\n",
       "      <th>gender_name</th>\n",
       "      <th>marital_status</th>\n",
       "      <th>region_name</th>\n",
       "      <th>job_field</th>\n",
       "      <th>call_result</th>\n",
       "      <th>employee_name</th>\n",
       "      <th>hired_date</th>\n",
       "    </tr>\n",
       "  </thead>\n",
       "  <tbody>\n",
       "    <tr>\n",
       "      <th>0</th>\n",
       "      <td>2024-01-10</td>\n",
       "      <td>2406</td>\n",
       "      <td>Cold</td>\n",
       "      <td>3</td>\n",
       "      <td>NaN</td>\n",
       "      <td>1988-08-15</td>\n",
       "      <td>2.0</td>\n",
       "      <td>0</td>\n",
       "      <td>2</td>\n",
       "      <td>3</td>\n",
       "      <td>...</td>\n",
       "      <td>1988</td>\n",
       "      <td>36</td>\n",
       "      <td>31-40</td>\n",
       "      <td>Man</td>\n",
       "      <td>Divorced</td>\n",
       "      <td>Sumgayit</td>\n",
       "      <td>Military</td>\n",
       "      <td>Unsuccessful</td>\n",
       "      <td>Elmir Mustafayev</td>\n",
       "      <td>2018-01-05</td>\n",
       "    </tr>\n",
       "    <tr>\n",
       "      <th>1</th>\n",
       "      <td>2024-01-22</td>\n",
       "      <td>2892</td>\n",
       "      <td>Cold</td>\n",
       "      <td>3</td>\n",
       "      <td>NaN</td>\n",
       "      <td>1990-06-24</td>\n",
       "      <td>1.0</td>\n",
       "      <td>0</td>\n",
       "      <td>3</td>\n",
       "      <td>5</td>\n",
       "      <td>...</td>\n",
       "      <td>1990</td>\n",
       "      <td>34</td>\n",
       "      <td>31-40</td>\n",
       "      <td>Man</td>\n",
       "      <td>Married</td>\n",
       "      <td>Ganja</td>\n",
       "      <td>Military</td>\n",
       "      <td>Unsuccessful</td>\n",
       "      <td>Rashad Huseynli</td>\n",
       "      <td>2018-06-06</td>\n",
       "    </tr>\n",
       "    <tr>\n",
       "      <th>2</th>\n",
       "      <td>2024-01-23</td>\n",
       "      <td>2788</td>\n",
       "      <td>Cold</td>\n",
       "      <td>3</td>\n",
       "      <td>NaN</td>\n",
       "      <td>1978-08-30</td>\n",
       "      <td>2.0</td>\n",
       "      <td>0</td>\n",
       "      <td>2</td>\n",
       "      <td>1</td>\n",
       "      <td>...</td>\n",
       "      <td>1978</td>\n",
       "      <td>46</td>\n",
       "      <td>41-50</td>\n",
       "      <td>Man</td>\n",
       "      <td>Divorced</td>\n",
       "      <td>Sumgayit</td>\n",
       "      <td>Military</td>\n",
       "      <td>Successful</td>\n",
       "      <td>Fuad Aliyev</td>\n",
       "      <td>2017-07-15</td>\n",
       "    </tr>\n",
       "    <tr>\n",
       "      <th>3</th>\n",
       "      <td>2024-01-02</td>\n",
       "      <td>2663</td>\n",
       "      <td>Hot</td>\n",
       "      <td>3</td>\n",
       "      <td>1039.0</td>\n",
       "      <td>1983-06-18</td>\n",
       "      <td>1.0</td>\n",
       "      <td>1</td>\n",
       "      <td>1</td>\n",
       "      <td>5</td>\n",
       "      <td>...</td>\n",
       "      <td>1983</td>\n",
       "      <td>41</td>\n",
       "      <td>41-50</td>\n",
       "      <td>Woman</td>\n",
       "      <td>Married</td>\n",
       "      <td>Baku-Absheron</td>\n",
       "      <td>Military</td>\n",
       "      <td>Successful</td>\n",
       "      <td>Rashad Huseynli</td>\n",
       "      <td>2018-06-06</td>\n",
       "    </tr>\n",
       "    <tr>\n",
       "      <th>4</th>\n",
       "      <td>2024-01-08</td>\n",
       "      <td>2498</td>\n",
       "      <td>Cold</td>\n",
       "      <td>3</td>\n",
       "      <td>NaN</td>\n",
       "      <td>1975-10-16</td>\n",
       "      <td>2.0</td>\n",
       "      <td>1</td>\n",
       "      <td>4</td>\n",
       "      <td>4</td>\n",
       "      <td>...</td>\n",
       "      <td>1975</td>\n",
       "      <td>49</td>\n",
       "      <td>41-50</td>\n",
       "      <td>Woman</td>\n",
       "      <td>Divorced</td>\n",
       "      <td>Nakhcivan</td>\n",
       "      <td>Military</td>\n",
       "      <td>Unsuccessful</td>\n",
       "      <td>Fidan Mammadli</td>\n",
       "      <td>2018-01-12</td>\n",
       "    </tr>\n",
       "  </tbody>\n",
       "</table>\n",
       "<p>5 rows × 21 columns</p>\n",
       "</div>"
      ],
      "text/plain": [
       "   call_date  call_id call_type  job_id  response_time birth_date  status_id  \\\n",
       "0 2024-01-10     2406      Cold       3            NaN 1988-08-15        2.0   \n",
       "1 2024-01-22     2892      Cold       3            NaN 1990-06-24        1.0   \n",
       "2 2024-01-23     2788      Cold       3            NaN 1978-08-30        2.0   \n",
       "3 2024-01-02     2663       Hot       3         1039.0 1983-06-18        1.0   \n",
       "4 2024-01-08     2498      Cold       3            NaN 1975-10-16        2.0   \n",
       "\n",
       "   gender_id  region_id  employee_id  ...  customer_birth_year  customer_age  \\\n",
       "0          0          2            3  ...                 1988            36   \n",
       "1          0          3            5  ...                 1990            34   \n",
       "2          0          2            1  ...                 1978            46   \n",
       "3          1          1            5  ...                 1983            41   \n",
       "4          1          4            4  ...                 1975            49   \n",
       "\n",
       "   age_interval gender_name marital_status    region_name job_field  \\\n",
       "0         31-40         Man       Divorced       Sumgayit  Military   \n",
       "1         31-40         Man        Married          Ganja  Military   \n",
       "2         41-50         Man       Divorced       Sumgayit  Military   \n",
       "3         41-50       Woman        Married  Baku-Absheron  Military   \n",
       "4         41-50       Woman       Divorced      Nakhcivan  Military   \n",
       "\n",
       "    call_result     employee_name hired_date  \n",
       "0  Unsuccessful  Elmir Mustafayev 2018-01-05  \n",
       "1  Unsuccessful   Rashad Huseynli 2018-06-06  \n",
       "2    Successful       Fuad Aliyev 2017-07-15  \n",
       "3    Successful   Rashad Huseynli 2018-06-06  \n",
       "4  Unsuccessful    Fidan Mammadli 2018-01-12  \n",
       "\n",
       "[5 rows x 21 columns]"
      ]
     },
     "execution_count": 57,
     "metadata": {},
     "output_type": "execute_result"
    }
   ],
   "source": [
    "telesales.head()"
   ]
  },
  {
   "cell_type": "code",
   "execution_count": 58,
   "metadata": {},
   "outputs": [
    {
     "data": {
      "text/html": [
       "<div>\n",
       "<style scoped>\n",
       "    .dataframe tbody tr th:only-of-type {\n",
       "        vertical-align: middle;\n",
       "    }\n",
       "\n",
       "    .dataframe tbody tr th {\n",
       "        vertical-align: top;\n",
       "    }\n",
       "\n",
       "    .dataframe thead th {\n",
       "        text-align: right;\n",
       "    }\n",
       "</style>\n",
       "<table border=\"1\" class=\"dataframe\">\n",
       "  <thead>\n",
       "    <tr style=\"text-align: right;\">\n",
       "      <th></th>\n",
       "      <th>call_id</th>\n",
       "      <th>job_id</th>\n",
       "      <th>response_time</th>\n",
       "      <th>status_id</th>\n",
       "      <th>gender_id</th>\n",
       "      <th>region_id</th>\n",
       "      <th>employee_id</th>\n",
       "      <th>call_result_id</th>\n",
       "      <th>customer_birth_year</th>\n",
       "      <th>customer_age</th>\n",
       "    </tr>\n",
       "  </thead>\n",
       "  <tbody>\n",
       "    <tr>\n",
       "      <th>call_id</th>\n",
       "      <td>1.000000</td>\n",
       "      <td>0.021804</td>\n",
       "      <td>-0.060934</td>\n",
       "      <td>0.024788</td>\n",
       "      <td>-0.032220</td>\n",
       "      <td>-0.039076</td>\n",
       "      <td>-0.023154</td>\n",
       "      <td>0.045476</td>\n",
       "      <td>0.016976</td>\n",
       "      <td>-0.016976</td>\n",
       "    </tr>\n",
       "    <tr>\n",
       "      <th>job_id</th>\n",
       "      <td>0.021804</td>\n",
       "      <td>1.000000</td>\n",
       "      <td>0.018705</td>\n",
       "      <td>-0.012373</td>\n",
       "      <td>0.007690</td>\n",
       "      <td>-0.057037</td>\n",
       "      <td>0.023478</td>\n",
       "      <td>-0.320868</td>\n",
       "      <td>-0.042044</td>\n",
       "      <td>0.042044</td>\n",
       "    </tr>\n",
       "    <tr>\n",
       "      <th>response_time</th>\n",
       "      <td>-0.060934</td>\n",
       "      <td>0.018705</td>\n",
       "      <td>1.000000</td>\n",
       "      <td>0.017493</td>\n",
       "      <td>-0.028950</td>\n",
       "      <td>-0.084999</td>\n",
       "      <td>0.002090</td>\n",
       "      <td>-0.422448</td>\n",
       "      <td>-0.009785</td>\n",
       "      <td>0.009785</td>\n",
       "    </tr>\n",
       "    <tr>\n",
       "      <th>status_id</th>\n",
       "      <td>0.024788</td>\n",
       "      <td>-0.012373</td>\n",
       "      <td>0.017493</td>\n",
       "      <td>1.000000</td>\n",
       "      <td>0.007873</td>\n",
       "      <td>-0.049992</td>\n",
       "      <td>-0.000139</td>\n",
       "      <td>0.061323</td>\n",
       "      <td>-0.449456</td>\n",
       "      <td>0.449456</td>\n",
       "    </tr>\n",
       "    <tr>\n",
       "      <th>gender_id</th>\n",
       "      <td>-0.032220</td>\n",
       "      <td>0.007690</td>\n",
       "      <td>-0.028950</td>\n",
       "      <td>0.007873</td>\n",
       "      <td>1.000000</td>\n",
       "      <td>-0.003701</td>\n",
       "      <td>0.043397</td>\n",
       "      <td>0.155562</td>\n",
       "      <td>0.004706</td>\n",
       "      <td>-0.004706</td>\n",
       "    </tr>\n",
       "    <tr>\n",
       "      <th>region_id</th>\n",
       "      <td>-0.039076</td>\n",
       "      <td>-0.057037</td>\n",
       "      <td>-0.084999</td>\n",
       "      <td>-0.049992</td>\n",
       "      <td>-0.003701</td>\n",
       "      <td>1.000000</td>\n",
       "      <td>0.029844</td>\n",
       "      <td>-0.195973</td>\n",
       "      <td>0.024636</td>\n",
       "      <td>-0.024636</td>\n",
       "    </tr>\n",
       "    <tr>\n",
       "      <th>employee_id</th>\n",
       "      <td>-0.023154</td>\n",
       "      <td>0.023478</td>\n",
       "      <td>0.002090</td>\n",
       "      <td>-0.000139</td>\n",
       "      <td>0.043397</td>\n",
       "      <td>0.029844</td>\n",
       "      <td>1.000000</td>\n",
       "      <td>-0.094079</td>\n",
       "      <td>0.007744</td>\n",
       "      <td>-0.007744</td>\n",
       "    </tr>\n",
       "    <tr>\n",
       "      <th>call_result_id</th>\n",
       "      <td>0.045476</td>\n",
       "      <td>-0.320868</td>\n",
       "      <td>-0.422448</td>\n",
       "      <td>0.061323</td>\n",
       "      <td>0.155562</td>\n",
       "      <td>-0.195973</td>\n",
       "      <td>-0.094079</td>\n",
       "      <td>1.000000</td>\n",
       "      <td>-0.059983</td>\n",
       "      <td>0.059983</td>\n",
       "    </tr>\n",
       "    <tr>\n",
       "      <th>customer_birth_year</th>\n",
       "      <td>0.016976</td>\n",
       "      <td>-0.042044</td>\n",
       "      <td>-0.009785</td>\n",
       "      <td>-0.449456</td>\n",
       "      <td>0.004706</td>\n",
       "      <td>0.024636</td>\n",
       "      <td>0.007744</td>\n",
       "      <td>-0.059983</td>\n",
       "      <td>1.000000</td>\n",
       "      <td>-1.000000</td>\n",
       "    </tr>\n",
       "    <tr>\n",
       "      <th>customer_age</th>\n",
       "      <td>-0.016976</td>\n",
       "      <td>0.042044</td>\n",
       "      <td>0.009785</td>\n",
       "      <td>0.449456</td>\n",
       "      <td>-0.004706</td>\n",
       "      <td>-0.024636</td>\n",
       "      <td>-0.007744</td>\n",
       "      <td>0.059983</td>\n",
       "      <td>-1.000000</td>\n",
       "      <td>1.000000</td>\n",
       "    </tr>\n",
       "  </tbody>\n",
       "</table>\n",
       "</div>"
      ],
      "text/plain": [
       "                      call_id    job_id  response_time  status_id  gender_id  \\\n",
       "call_id              1.000000  0.021804      -0.060934   0.024788  -0.032220   \n",
       "job_id               0.021804  1.000000       0.018705  -0.012373   0.007690   \n",
       "response_time       -0.060934  0.018705       1.000000   0.017493  -0.028950   \n",
       "status_id            0.024788 -0.012373       0.017493   1.000000   0.007873   \n",
       "gender_id           -0.032220  0.007690      -0.028950   0.007873   1.000000   \n",
       "region_id           -0.039076 -0.057037      -0.084999  -0.049992  -0.003701   \n",
       "employee_id         -0.023154  0.023478       0.002090  -0.000139   0.043397   \n",
       "call_result_id       0.045476 -0.320868      -0.422448   0.061323   0.155562   \n",
       "customer_birth_year  0.016976 -0.042044      -0.009785  -0.449456   0.004706   \n",
       "customer_age        -0.016976  0.042044       0.009785   0.449456  -0.004706   \n",
       "\n",
       "                     region_id  employee_id  call_result_id  \\\n",
       "call_id              -0.039076    -0.023154        0.045476   \n",
       "job_id               -0.057037     0.023478       -0.320868   \n",
       "response_time        -0.084999     0.002090       -0.422448   \n",
       "status_id            -0.049992    -0.000139        0.061323   \n",
       "gender_id            -0.003701     0.043397        0.155562   \n",
       "region_id             1.000000     0.029844       -0.195973   \n",
       "employee_id           0.029844     1.000000       -0.094079   \n",
       "call_result_id       -0.195973    -0.094079        1.000000   \n",
       "customer_birth_year   0.024636     0.007744       -0.059983   \n",
       "customer_age         -0.024636    -0.007744        0.059983   \n",
       "\n",
       "                     customer_birth_year  customer_age  \n",
       "call_id                         0.016976     -0.016976  \n",
       "job_id                         -0.042044      0.042044  \n",
       "response_time                  -0.009785      0.009785  \n",
       "status_id                      -0.449456      0.449456  \n",
       "gender_id                       0.004706     -0.004706  \n",
       "region_id                       0.024636     -0.024636  \n",
       "employee_id                     0.007744     -0.007744  \n",
       "call_result_id                 -0.059983      0.059983  \n",
       "customer_birth_year             1.000000     -1.000000  \n",
       "customer_age                   -1.000000      1.000000  "
      ]
     },
     "execution_count": 58,
     "metadata": {},
     "output_type": "execute_result"
    }
   ],
   "source": [
    "telesales.corr(numeric_only=True)"
   ]
  },
  {
   "cell_type": "code",
   "execution_count": 59,
   "metadata": {},
   "outputs": [],
   "source": [
    "telesales.to_csv('telesales_final.csv',index=False)"
   ]
  },
  {
   "cell_type": "markdown",
   "metadata": {},
   "source": [
    "#### Data Analysis"
   ]
  },
  {
   "cell_type": "markdown",
   "metadata": {},
   "source": [
    "##### Understanding the Problem"
   ]
  },
  {
   "cell_type": "markdown",
   "metadata": {},
   "source": [
    "**Even though the number of cold calls is greater than the number of hot calls, hot calls have more success rate**"
   ]
  },
  {
   "cell_type": "code",
   "execution_count": 60,
   "metadata": {},
   "outputs": [
    {
     "data": {
      "text/plain": [
       "<Axes: xlabel='call_type'>"
      ]
     },
     "execution_count": 60,
     "metadata": {},
     "output_type": "execute_result"
    },
    {
     "data": {
      "image/png": "[encoded data removed]",
      "text/plain": [
       "<Figure size 640x480 with 1 Axes>"
      ]
     },
     "metadata": {},
     "output_type": "display_data"
    }
   ],
   "source": [
    "pd.DataFrame(telesales['call_result'].groupby(telesales['call_type']).count()).plot(kind='bar')\n",
    "# Proportion of call types in the dataset"
   ]
  },
  {
   "cell_type": "code",
   "execution_count": 61,
   "metadata": {},
   "outputs": [
    {
     "data": {
      "text/plain": [
       "call_type\n",
       "Cold    691\n",
       "Hot     410\n",
       "Name: call_result, dtype: int64"
      ]
     },
     "execution_count": 61,
     "metadata": {},
     "output_type": "execute_result"
    }
   ],
   "source": [
    "telesales['call_result'].groupby(telesales['call_type']).count()"
   ]
  },
  {
   "cell_type": "code",
   "execution_count": 62,
   "metadata": {},
   "outputs": [
    {
     "data": {
      "text/plain": [
       "<Axes: xlabel='call_type'>"
      ]
     },
     "execution_count": 62,
     "metadata": {},
     "output_type": "execute_result"
    },
    {
     "data": {
      "image/png": "[encoded data removed]",
      "text/plain": [
       "<Figure size 640x480 with 1 Axes>"
      ]
     },
     "metadata": {},
     "output_type": "display_data"
    }
   ],
   "source": [
    "pd.DataFrame(telesales['call_result_id'].groupby(telesales['call_type']).mean()).plot(kind='bar')\n",
    "# Successfull call results of call types"
   ]
  },
  {
   "cell_type": "code",
   "execution_count": 63,
   "metadata": {},
   "outputs": [
    {
     "data": {
      "text/plain": [
       "call_type\n",
       "Cold    18.668596\n",
       "Hot     59.512195\n",
       "Name: call_result_id, dtype: float64"
      ]
     },
     "execution_count": 63,
     "metadata": {},
     "output_type": "execute_result"
    }
   ],
   "source": [
    "telesales['call_result_id'].groupby(telesales['call_type']).mean()*100"
   ]
  },
  {
   "cell_type": "markdown",
   "metadata": {},
   "source": [
    "##### Hypoteses 1 : Younger Customers Are More Responsive to Telesales"
   ]
  },
  {
   "cell_type": "code",
   "execution_count": 64,
   "metadata": {},
   "outputs": [
    {
     "data": {
      "text/html": [
       "<div>\n",
       "<style scoped>\n",
       "    .dataframe tbody tr th:only-of-type {\n",
       "        vertical-align: middle;\n",
       "    }\n",
       "\n",
       "    .dataframe tbody tr th {\n",
       "        vertical-align: top;\n",
       "    }\n",
       "\n",
       "    .dataframe thead th {\n",
       "        text-align: right;\n",
       "    }\n",
       "</style>\n",
       "<table border=\"1\" class=\"dataframe\">\n",
       "  <thead>\n",
       "    <tr style=\"text-align: right;\">\n",
       "      <th></th>\n",
       "      <th>call_date</th>\n",
       "      <th>call_id</th>\n",
       "      <th>call_type</th>\n",
       "      <th>job_id</th>\n",
       "      <th>response_time</th>\n",
       "      <th>birth_date</th>\n",
       "      <th>status_id</th>\n",
       "      <th>gender_id</th>\n",
       "      <th>region_id</th>\n",
       "      <th>employee_id</th>\n",
       "      <th>...</th>\n",
       "      <th>customer_birth_year</th>\n",
       "      <th>customer_age</th>\n",
       "      <th>age_interval</th>\n",
       "      <th>gender_name</th>\n",
       "      <th>marital_status</th>\n",
       "      <th>region_name</th>\n",
       "      <th>job_field</th>\n",
       "      <th>call_result</th>\n",
       "      <th>employee_name</th>\n",
       "      <th>hired_date</th>\n",
       "    </tr>\n",
       "  </thead>\n",
       "  <tbody>\n",
       "    <tr>\n",
       "      <th>0</th>\n",
       "      <td>2024-01-10</td>\n",
       "      <td>2406</td>\n",
       "      <td>Cold</td>\n",
       "      <td>3</td>\n",
       "      <td>NaN</td>\n",
       "      <td>1988-08-15</td>\n",
       "      <td>2.0</td>\n",
       "      <td>0</td>\n",
       "      <td>2</td>\n",
       "      <td>3</td>\n",
       "      <td>...</td>\n",
       "      <td>1988</td>\n",
       "      <td>36</td>\n",
       "      <td>31-40</td>\n",
       "      <td>Man</td>\n",
       "      <td>Divorced</td>\n",
       "      <td>Sumgayit</td>\n",
       "      <td>Military</td>\n",
       "      <td>Unsuccessful</td>\n",
       "      <td>Elmir Mustafayev</td>\n",
       "      <td>2018-01-05</td>\n",
       "    </tr>\n",
       "    <tr>\n",
       "      <th>1</th>\n",
       "      <td>2024-01-22</td>\n",
       "      <td>2892</td>\n",
       "      <td>Cold</td>\n",
       "      <td>3</td>\n",
       "      <td>NaN</td>\n",
       "      <td>1990-06-24</td>\n",
       "      <td>1.0</td>\n",
       "      <td>0</td>\n",
       "      <td>3</td>\n",
       "      <td>5</td>\n",
       "      <td>...</td>\n",
       "      <td>1990</td>\n",
       "      <td>34</td>\n",
       "      <td>31-40</td>\n",
       "      <td>Man</td>\n",
       "      <td>Married</td>\n",
       "      <td>Ganja</td>\n",
       "      <td>Military</td>\n",
       "      <td>Unsuccessful</td>\n",
       "      <td>Rashad Huseynli</td>\n",
       "      <td>2018-06-06</td>\n",
       "    </tr>\n",
       "    <tr>\n",
       "      <th>2</th>\n",
       "      <td>2024-01-23</td>\n",
       "      <td>2788</td>\n",
       "      <td>Cold</td>\n",
       "      <td>3</td>\n",
       "      <td>NaN</td>\n",
       "      <td>1978-08-30</td>\n",
       "      <td>2.0</td>\n",
       "      <td>0</td>\n",
       "      <td>2</td>\n",
       "      <td>1</td>\n",
       "      <td>...</td>\n",
       "      <td>1978</td>\n",
       "      <td>46</td>\n",
       "      <td>41-50</td>\n",
       "      <td>Man</td>\n",
       "      <td>Divorced</td>\n",
       "      <td>Sumgayit</td>\n",
       "      <td>Military</td>\n",
       "      <td>Successful</td>\n",
       "      <td>Fuad Aliyev</td>\n",
       "      <td>2017-07-15</td>\n",
       "    </tr>\n",
       "    <tr>\n",
       "      <th>3</th>\n",
       "      <td>2024-01-02</td>\n",
       "      <td>2663</td>\n",
       "      <td>Hot</td>\n",
       "      <td>3</td>\n",
       "      <td>1039.0</td>\n",
       "      <td>1983-06-18</td>\n",
       "      <td>1.0</td>\n",
       "      <td>1</td>\n",
       "      <td>1</td>\n",
       "      <td>5</td>\n",
       "      <td>...</td>\n",
       "      <td>1983</td>\n",
       "      <td>41</td>\n",
       "      <td>41-50</td>\n",
       "      <td>Woman</td>\n",
       "      <td>Married</td>\n",
       "      <td>Baku-Absheron</td>\n",
       "      <td>Military</td>\n",
       "      <td>Successful</td>\n",
       "      <td>Rashad Huseynli</td>\n",
       "      <td>2018-06-06</td>\n",
       "    </tr>\n",
       "    <tr>\n",
       "      <th>4</th>\n",
       "      <td>2024-01-08</td>\n",
       "      <td>2498</td>\n",
       "      <td>Cold</td>\n",
       "      <td>3</td>\n",
       "      <td>NaN</td>\n",
       "      <td>1975-10-16</td>\n",
       "      <td>2.0</td>\n",
       "      <td>1</td>\n",
       "      <td>4</td>\n",
       "      <td>4</td>\n",
       "      <td>...</td>\n",
       "      <td>1975</td>\n",
       "      <td>49</td>\n",
       "      <td>41-50</td>\n",
       "      <td>Woman</td>\n",
       "      <td>Divorced</td>\n",
       "      <td>Nakhcivan</td>\n",
       "      <td>Military</td>\n",
       "      <td>Unsuccessful</td>\n",
       "      <td>Fidan Mammadli</td>\n",
       "      <td>2018-01-12</td>\n",
       "    </tr>\n",
       "  </tbody>\n",
       "</table>\n",
       "<p>5 rows × 21 columns</p>\n",
       "</div>"
      ],
      "text/plain": [
       "   call_date  call_id call_type  job_id  response_time birth_date  status_id  \\\n",
       "0 2024-01-10     2406      Cold       3            NaN 1988-08-15        2.0   \n",
       "1 2024-01-22     2892      Cold       3            NaN 1990-06-24        1.0   \n",
       "2 2024-01-23     2788      Cold       3            NaN 1978-08-30        2.0   \n",
       "3 2024-01-02     2663       Hot       3         1039.0 1983-06-18        1.0   \n",
       "4 2024-01-08     2498      Cold       3            NaN 1975-10-16        2.0   \n",
       "\n",
       "   gender_id  region_id  employee_id  ...  customer_birth_year  customer_age  \\\n",
       "0          0          2            3  ...                 1988            36   \n",
       "1          0          3            5  ...                 1990            34   \n",
       "2          0          2            1  ...                 1978            46   \n",
       "3          1          1            5  ...                 1983            41   \n",
       "4          1          4            4  ...                 1975            49   \n",
       "\n",
       "   age_interval gender_name marital_status    region_name job_field  \\\n",
       "0         31-40         Man       Divorced       Sumgayit  Military   \n",
       "1         31-40         Man        Married          Ganja  Military   \n",
       "2         41-50         Man       Divorced       Sumgayit  Military   \n",
       "3         41-50       Woman        Married  Baku-Absheron  Military   \n",
       "4         41-50       Woman       Divorced      Nakhcivan  Military   \n",
       "\n",
       "    call_result     employee_name hired_date  \n",
       "0  Unsuccessful  Elmir Mustafayev 2018-01-05  \n",
       "1  Unsuccessful   Rashad Huseynli 2018-06-06  \n",
       "2    Successful       Fuad Aliyev 2017-07-15  \n",
       "3    Successful   Rashad Huseynli 2018-06-06  \n",
       "4  Unsuccessful    Fidan Mammadli 2018-01-12  \n",
       "\n",
       "[5 rows x 21 columns]"
      ]
     },
     "execution_count": 64,
     "metadata": {},
     "output_type": "execute_result"
    }
   ],
   "source": [
    "telesales.head()"
   ]
  },
  {
   "cell_type": "code",
   "execution_count": 65,
   "metadata": {},
   "outputs": [],
   "source": [
    "telesales_copy =  telesales.copy()"
   ]
  },
  {
   "cell_type": "code",
   "execution_count": 66,
   "metadata": {},
   "outputs": [
    {
     "name": "stderr",
     "output_type": "stream",
     "text": [
      "C:\\Users\\zeyne\\AppData\\Local\\Temp\\ipykernel_16276\\2891470835.py:1: FutureWarning: The default of observed=False is deprecated and will be changed to True in a future version of pandas. Pass observed=False to retain current behavior or observed=True to adopt the future default and silence this warning.\n",
      "  pd.DataFrame(telesales['call_result_id'].groupby(telesales['age_interval']).mean()*100).plot(kind='bar')\n"
     ]
    },
    {
     "data": {
      "text/plain": [
       "<Axes: xlabel='age_interval'>"
      ]
     },
     "execution_count": 66,
     "metadata": {},
     "output_type": "execute_result"
    },
    {
     "data": {
      "image/png": "[encoded data removed]",
      "text/plain": [
       "<Figure size 640x480 with 1 Axes>"
      ]
     },
     "metadata": {},
     "output_type": "display_data"
    }
   ],
   "source": [
    "pd.DataFrame(telesales['call_result_id'].groupby(telesales['age_interval']).mean()*100).plot(kind='bar')\n",
    "# We can see that younger customers are not more interested in our products"
   ]
  },
  {
   "cell_type": "code",
   "execution_count": 67,
   "metadata": {},
   "outputs": [
    {
     "data": {
      "text/plain": [
       "<Axes: ylabel='Frequency'>"
      ]
     },
     "execution_count": 67,
     "metadata": {},
     "output_type": "execute_result"
    },
    {
     "data": {
      "image/png": "[encoded data removed]",
      "text/plain": [
       "<Figure size 640x480 with 1 Axes>"
      ]
     },
     "metadata": {},
     "output_type": "display_data"
    }
   ],
   "source": [
    "telesales['customer_age'].plot(kind='hist')"
   ]
  },
  {
   "cell_type": "code",
   "execution_count": 68,
   "metadata": {},
   "outputs": [
    {
     "name": "stderr",
     "output_type": "stream",
     "text": [
      "C:\\Users\\zeyne\\AppData\\Local\\Temp\\ipykernel_16276\\232323714.py:1: FutureWarning: The default of observed=False is deprecated and will be changed to True in a future version of pandas. Pass observed=False to retain current behavior or observed=True to adopt the future default and silence this warning.\n",
      "  telesales['call_result_id'].groupby(telesales['age_interval']).mean()*100\n"
     ]
    },
    {
     "data": {
      "text/plain": [
       "age_interval\n",
       "15-30    24.657534\n",
       "31-40    37.861272\n",
       "41-50    35.180723\n",
       "51-70    34.710744\n",
       "Name: call_result_id, dtype: float64"
      ]
     },
     "execution_count": 68,
     "metadata": {},
     "output_type": "execute_result"
    }
   ],
   "source": [
    "telesales['call_result_id'].groupby(telesales['age_interval']).mean()*100"
   ]
  },
  {
   "cell_type": "code",
   "execution_count": 70,
   "metadata": {},
   "outputs": [
    {
     "data": {
      "text/plain": [
       "<Axes: xlabel='customer_age'>"
      ]
     },
     "execution_count": 70,
     "metadata": {},
     "output_type": "execute_result"
    },
    {
     "data": {
      "image/png": "[encoded data removed]",
      "text/plain": [
       "<Figure size 640x480 with 1 Axes>"
      ]
     },
     "metadata": {},
     "output_type": "display_data"
    }
   ],
   "source": [
    "pd.DataFrame(telesales['call_result_id'].groupby(telesales['customer_age']).sum()).plot(kind='bar')"
   ]
  },
  {
   "cell_type": "markdown",
   "metadata": {},
   "source": [
    "* P-value is less than 0.05. It means the observed difference in succesfull calls among age intervals is statistically significant\n",
    "*  Younger Customers Are Not More Responsive to Telesales"
   ]
  },
  {
   "cell_type": "markdown",
   "metadata": {},
   "source": [
    "##### Hypothesis 2 : Customer Demographics Influence Call Success"
   ]
  },
  {
   "cell_type": "code",
   "execution_count": 71,
   "metadata": {},
   "outputs": [
    {
     "data": {
      "text/html": [
       "<div>\n",
       "<style scoped>\n",
       "    .dataframe tbody tr th:only-of-type {\n",
       "        vertical-align: middle;\n",
       "    }\n",
       "\n",
       "    .dataframe tbody tr th {\n",
       "        vertical-align: top;\n",
       "    }\n",
       "\n",
       "    .dataframe thead th {\n",
       "        text-align: right;\n",
       "    }\n",
       "</style>\n",
       "<table border=\"1\" class=\"dataframe\">\n",
       "  <thead>\n",
       "    <tr style=\"text-align: right;\">\n",
       "      <th></th>\n",
       "      <th>call_date</th>\n",
       "      <th>call_id</th>\n",
       "      <th>call_type</th>\n",
       "      <th>job_id</th>\n",
       "      <th>response_time</th>\n",
       "      <th>birth_date</th>\n",
       "      <th>status_id</th>\n",
       "      <th>gender_id</th>\n",
       "      <th>region_id</th>\n",
       "      <th>employee_id</th>\n",
       "      <th>...</th>\n",
       "      <th>customer_birth_year</th>\n",
       "      <th>customer_age</th>\n",
       "      <th>age_interval</th>\n",
       "      <th>gender_name</th>\n",
       "      <th>marital_status</th>\n",
       "      <th>region_name</th>\n",
       "      <th>job_field</th>\n",
       "      <th>call_result</th>\n",
       "      <th>employee_name</th>\n",
       "      <th>hired_date</th>\n",
       "    </tr>\n",
       "  </thead>\n",
       "  <tbody>\n",
       "    <tr>\n",
       "      <th>0</th>\n",
       "      <td>2024-01-10</td>\n",
       "      <td>2406</td>\n",
       "      <td>Cold</td>\n",
       "      <td>3</td>\n",
       "      <td>NaN</td>\n",
       "      <td>1988-08-15</td>\n",
       "      <td>2.0</td>\n",
       "      <td>0</td>\n",
       "      <td>2</td>\n",
       "      <td>3</td>\n",
       "      <td>...</td>\n",
       "      <td>1988</td>\n",
       "      <td>36</td>\n",
       "      <td>31-40</td>\n",
       "      <td>Man</td>\n",
       "      <td>Divorced</td>\n",
       "      <td>Sumgayit</td>\n",
       "      <td>Military</td>\n",
       "      <td>Unsuccessful</td>\n",
       "      <td>Elmir Mustafayev</td>\n",
       "      <td>2018-01-05</td>\n",
       "    </tr>\n",
       "    <tr>\n",
       "      <th>1</th>\n",
       "      <td>2024-01-22</td>\n",
       "      <td>2892</td>\n",
       "      <td>Cold</td>\n",
       "      <td>3</td>\n",
       "      <td>NaN</td>\n",
       "      <td>1990-06-24</td>\n",
       "      <td>1.0</td>\n",
       "      <td>0</td>\n",
       "      <td>3</td>\n",
       "      <td>5</td>\n",
       "      <td>...</td>\n",
       "      <td>1990</td>\n",
       "      <td>34</td>\n",
       "      <td>31-40</td>\n",
       "      <td>Man</td>\n",
       "      <td>Married</td>\n",
       "      <td>Ganja</td>\n",
       "      <td>Military</td>\n",
       "      <td>Unsuccessful</td>\n",
       "      <td>Rashad Huseynli</td>\n",
       "      <td>2018-06-06</td>\n",
       "    </tr>\n",
       "    <tr>\n",
       "      <th>2</th>\n",
       "      <td>2024-01-23</td>\n",
       "      <td>2788</td>\n",
       "      <td>Cold</td>\n",
       "      <td>3</td>\n",
       "      <td>NaN</td>\n",
       "      <td>1978-08-30</td>\n",
       "      <td>2.0</td>\n",
       "      <td>0</td>\n",
       "      <td>2</td>\n",
       "      <td>1</td>\n",
       "      <td>...</td>\n",
       "      <td>1978</td>\n",
       "      <td>46</td>\n",
       "      <td>41-50</td>\n",
       "      <td>Man</td>\n",
       "      <td>Divorced</td>\n",
       "      <td>Sumgayit</td>\n",
       "      <td>Military</td>\n",
       "      <td>Successful</td>\n",
       "      <td>Fuad Aliyev</td>\n",
       "      <td>2017-07-15</td>\n",
       "    </tr>\n",
       "    <tr>\n",
       "      <th>3</th>\n",
       "      <td>2024-01-02</td>\n",
       "      <td>2663</td>\n",
       "      <td>Hot</td>\n",
       "      <td>3</td>\n",
       "      <td>1039.0</td>\n",
       "      <td>1983-06-18</td>\n",
       "      <td>1.0</td>\n",
       "      <td>1</td>\n",
       "      <td>1</td>\n",
       "      <td>5</td>\n",
       "      <td>...</td>\n",
       "      <td>1983</td>\n",
       "      <td>41</td>\n",
       "      <td>41-50</td>\n",
       "      <td>Woman</td>\n",
       "      <td>Married</td>\n",
       "      <td>Baku-Absheron</td>\n",
       "      <td>Military</td>\n",
       "      <td>Successful</td>\n",
       "      <td>Rashad Huseynli</td>\n",
       "      <td>2018-06-06</td>\n",
       "    </tr>\n",
       "    <tr>\n",
       "      <th>4</th>\n",
       "      <td>2024-01-08</td>\n",
       "      <td>2498</td>\n",
       "      <td>Cold</td>\n",
       "      <td>3</td>\n",
       "      <td>NaN</td>\n",
       "      <td>1975-10-16</td>\n",
       "      <td>2.0</td>\n",
       "      <td>1</td>\n",
       "      <td>4</td>\n",
       "      <td>4</td>\n",
       "      <td>...</td>\n",
       "      <td>1975</td>\n",
       "      <td>49</td>\n",
       "      <td>41-50</td>\n",
       "      <td>Woman</td>\n",
       "      <td>Divorced</td>\n",
       "      <td>Nakhcivan</td>\n",
       "      <td>Military</td>\n",
       "      <td>Unsuccessful</td>\n",
       "      <td>Fidan Mammadli</td>\n",
       "      <td>2018-01-12</td>\n",
       "    </tr>\n",
       "  </tbody>\n",
       "</table>\n",
       "<p>5 rows × 21 columns</p>\n",
       "</div>"
      ],
      "text/plain": [
       "   call_date  call_id call_type  job_id  response_time birth_date  status_id  \\\n",
       "0 2024-01-10     2406      Cold       3            NaN 1988-08-15        2.0   \n",
       "1 2024-01-22     2892      Cold       3            NaN 1990-06-24        1.0   \n",
       "2 2024-01-23     2788      Cold       3            NaN 1978-08-30        2.0   \n",
       "3 2024-01-02     2663       Hot       3         1039.0 1983-06-18        1.0   \n",
       "4 2024-01-08     2498      Cold       3            NaN 1975-10-16        2.0   \n",
       "\n",
       "   gender_id  region_id  employee_id  ...  customer_birth_year  customer_age  \\\n",
       "0          0          2            3  ...                 1988            36   \n",
       "1          0          3            5  ...                 1990            34   \n",
       "2          0          2            1  ...                 1978            46   \n",
       "3          1          1            5  ...                 1983            41   \n",
       "4          1          4            4  ...                 1975            49   \n",
       "\n",
       "   age_interval gender_name marital_status    region_name job_field  \\\n",
       "0         31-40         Man       Divorced       Sumgayit  Military   \n",
       "1         31-40         Man        Married          Ganja  Military   \n",
       "2         41-50         Man       Divorced       Sumgayit  Military   \n",
       "3         41-50       Woman        Married  Baku-Absheron  Military   \n",
       "4         41-50       Woman       Divorced      Nakhcivan  Military   \n",
       "\n",
       "    call_result     employee_name hired_date  \n",
       "0  Unsuccessful  Elmir Mustafayev 2018-01-05  \n",
       "1  Unsuccessful   Rashad Huseynli 2018-06-06  \n",
       "2    Successful       Fuad Aliyev 2017-07-15  \n",
       "3    Successful   Rashad Huseynli 2018-06-06  \n",
       "4  Unsuccessful    Fidan Mammadli 2018-01-12  \n",
       "\n",
       "[5 rows x 21 columns]"
      ]
     },
     "execution_count": 71,
     "metadata": {},
     "output_type": "execute_result"
    }
   ],
   "source": [
    "telesales.head()"
   ]
  },
  {
   "cell_type": "code",
   "execution_count": 73,
   "metadata": {},
   "outputs": [
    {
     "data": {
      "text/plain": [
       "gender_name\n",
       "Man      27.927928\n",
       "Woman    42.988506\n",
       "Name: call_result_id, dtype: float64"
      ]
     },
     "execution_count": 73,
     "metadata": {},
     "output_type": "execute_result"
    }
   ],
   "source": [
    "telesales['call_result_id'].groupby(telesales['gender_name']).mean()*100\n",
    "# We can see that women are more interested in our products. But It can happen by chance, we need to perform chi-square test."
   ]
  },
  {
   "cell_type": "code",
   "execution_count": 74,
   "metadata": {},
   "outputs": [
    {
     "data": {
      "text/html": [
       "<div>\n",
       "<style scoped>\n",
       "    .dataframe tbody tr th:only-of-type {\n",
       "        vertical-align: middle;\n",
       "    }\n",
       "\n",
       "    .dataframe tbody tr th {\n",
       "        vertical-align: top;\n",
       "    }\n",
       "\n",
       "    .dataframe thead th {\n",
       "        text-align: right;\n",
       "    }\n",
       "</style>\n",
       "<table border=\"1\" class=\"dataframe\">\n",
       "  <thead>\n",
       "    <tr style=\"text-align: right;\">\n",
       "      <th></th>\n",
       "      <th>gender_name</th>\n",
       "      <th>call_result_id</th>\n",
       "    </tr>\n",
       "  </thead>\n",
       "  <tbody>\n",
       "    <tr>\n",
       "      <th>0</th>\n",
       "      <td>Man</td>\n",
       "      <td>186</td>\n",
       "    </tr>\n",
       "    <tr>\n",
       "      <th>1</th>\n",
       "      <td>Woman</td>\n",
       "      <td>187</td>\n",
       "    </tr>\n",
       "  </tbody>\n",
       "</table>\n",
       "</div>"
      ],
      "text/plain": [
       "  gender_name  call_result_id\n",
       "0         Man             186\n",
       "1       Woman             187"
      ]
     },
     "execution_count": 74,
     "metadata": {},
     "output_type": "execute_result"
    }
   ],
   "source": [
    "succes_by_gender = pd.DataFrame(telesales['call_result_id'].groupby(telesales['gender_name']).sum()).reset_index()\n",
    "succes_by_gender"
   ]
  },
  {
   "cell_type": "code",
   "execution_count": 76,
   "metadata": {},
   "outputs": [
    {
     "data": {
      "text/html": [
       "<div>\n",
       "<style scoped>\n",
       "    .dataframe tbody tr th:only-of-type {\n",
       "        vertical-align: middle;\n",
       "    }\n",
       "\n",
       "    .dataframe tbody tr th {\n",
       "        vertical-align: top;\n",
       "    }\n",
       "\n",
       "    .dataframe thead th {\n",
       "        text-align: right;\n",
       "    }\n",
       "</style>\n",
       "<table border=\"1\" class=\"dataframe\">\n",
       "  <thead>\n",
       "    <tr style=\"text-align: right;\">\n",
       "      <th></th>\n",
       "      <th>gender_name</th>\n",
       "      <th>call_result_id</th>\n",
       "    </tr>\n",
       "  </thead>\n",
       "  <tbody>\n",
       "    <tr>\n",
       "      <th>0</th>\n",
       "      <td>Man</td>\n",
       "      <td>480</td>\n",
       "    </tr>\n",
       "    <tr>\n",
       "      <th>1</th>\n",
       "      <td>Woman</td>\n",
       "      <td>248</td>\n",
       "    </tr>\n",
       "  </tbody>\n",
       "</table>\n",
       "</div>"
      ],
      "text/plain": [
       "  gender_name  call_result_id\n",
       "0         Man             480\n",
       "1       Woman             248"
      ]
     },
     "execution_count": 76,
     "metadata": {},
     "output_type": "execute_result"
    }
   ],
   "source": [
    "unsucces_by_gender = pd.DataFrame(telesales['call_result_id'].groupby(telesales['gender_name']).count() - telesales['call_result_id'].groupby(telesales['gender_name']).sum()).reset_index()\n",
    "unsucces_by_gender"
   ]
  },
  {
   "cell_type": "code",
   "execution_count": 77,
   "metadata": {},
   "outputs": [
    {
     "name": "stderr",
     "output_type": "stream",
     "text": [
      "C:\\Users\\zeyne\\AppData\\Local\\Temp\\ipykernel_16276\\2191212201.py:3: FutureWarning: ChainedAssignmentError: behaviour will change in pandas 3.0!\n",
      "You are setting values through chained assignment. Currently this works in certain cases, but when using Copy-on-Write (which will become the default behaviour in pandas 3.0) this will never work to update the original DataFrame or Series, because the intermediate object on which we are setting values will behave as a copy.\n",
      "A typical example is when you are setting values in a column of a DataFrame, like:\n",
      "\n",
      "df[\"col\"][row_indexer] = value\n",
      "\n",
      "Use `df.loc[row_indexer, \"col\"] = values` instead, to perform the assignment in a single step and ensure this keeps updating the original `df`.\n",
      "\n",
      "See the caveats in the documentation: https://pandas.pydata.org/pandas-docs/stable/user_guide/indexing.html#returning-a-view-versus-a-copy\n",
      "\n",
      "  stat_test_gender['succes'][:2] = 1\n",
      "C:\\Users\\zeyne\\AppData\\Local\\Temp\\ipykernel_16276\\2191212201.py:3: SettingWithCopyWarning: \n",
      "A value is trying to be set on a copy of a slice from a DataFrame\n",
      "\n",
      "See the caveats in the documentation: https://pandas.pydata.org/pandas-docs/stable/user_guide/indexing.html#returning-a-view-versus-a-copy\n",
      "  stat_test_gender['succes'][:2] = 1\n"
     ]
    },
    {
     "data": {
      "text/html": [
       "<div>\n",
       "<style scoped>\n",
       "    .dataframe tbody tr th:only-of-type {\n",
       "        vertical-align: middle;\n",
       "    }\n",
       "\n",
       "    .dataframe tbody tr th {\n",
       "        vertical-align: top;\n",
       "    }\n",
       "\n",
       "    .dataframe thead th {\n",
       "        text-align: right;\n",
       "    }\n",
       "</style>\n",
       "<table border=\"1\" class=\"dataframe\">\n",
       "  <thead>\n",
       "    <tr style=\"text-align: right;\">\n",
       "      <th></th>\n",
       "      <th>gender_name</th>\n",
       "      <th>call_result_id</th>\n",
       "      <th>succes</th>\n",
       "    </tr>\n",
       "  </thead>\n",
       "  <tbody>\n",
       "    <tr>\n",
       "      <th>0</th>\n",
       "      <td>Man</td>\n",
       "      <td>186</td>\n",
       "      <td>1</td>\n",
       "    </tr>\n",
       "    <tr>\n",
       "      <th>1</th>\n",
       "      <td>Woman</td>\n",
       "      <td>187</td>\n",
       "      <td>1</td>\n",
       "    </tr>\n",
       "    <tr>\n",
       "      <th>0</th>\n",
       "      <td>Man</td>\n",
       "      <td>480</td>\n",
       "      <td>0</td>\n",
       "    </tr>\n",
       "    <tr>\n",
       "      <th>1</th>\n",
       "      <td>Woman</td>\n",
       "      <td>248</td>\n",
       "      <td>0</td>\n",
       "    </tr>\n",
       "  </tbody>\n",
       "</table>\n",
       "</div>"
      ],
      "text/plain": [
       "  gender_name  call_result_id  succes\n",
       "0         Man             186       1\n",
       "1       Woman             187       1\n",
       "0         Man             480       0\n",
       "1       Woman             248       0"
      ]
     },
     "execution_count": 77,
     "metadata": {},
     "output_type": "execute_result"
    }
   ],
   "source": [
    "stat_test_gender = pd.concat([succes_by_gender,unsucces_by_gender])\n",
    "stat_test_gender['succes'] = 0\n",
    "stat_test_gender['succes'][:2] = 1\n",
    "stat_test_gender"
   ]
  },
  {
   "cell_type": "code",
   "execution_count": 79,
   "metadata": {},
   "outputs": [
    {
     "data": {
      "text/html": [
       "<div>\n",
       "<style scoped>\n",
       "    .dataframe tbody tr th:only-of-type {\n",
       "        vertical-align: middle;\n",
       "    }\n",
       "\n",
       "    .dataframe tbody tr th {\n",
       "        vertical-align: top;\n",
       "    }\n",
       "\n",
       "    .dataframe thead th {\n",
       "        text-align: right;\n",
       "    }\n",
       "</style>\n",
       "<table border=\"1\" class=\"dataframe\">\n",
       "  <thead>\n",
       "    <tr style=\"text-align: right;\">\n",
       "      <th>gender_name</th>\n",
       "      <th>Man</th>\n",
       "      <th>Woman</th>\n",
       "    </tr>\n",
       "    <tr>\n",
       "      <th>succes</th>\n",
       "      <th></th>\n",
       "      <th></th>\n",
       "    </tr>\n",
       "  </thead>\n",
       "  <tbody>\n",
       "    <tr>\n",
       "      <th>0</th>\n",
       "      <td>480.0</td>\n",
       "      <td>248.0</td>\n",
       "    </tr>\n",
       "    <tr>\n",
       "      <th>1</th>\n",
       "      <td>186.0</td>\n",
       "      <td>187.0</td>\n",
       "    </tr>\n",
       "  </tbody>\n",
       "</table>\n",
       "</div>"
      ],
      "text/plain": [
       "gender_name    Man  Woman\n",
       "succes                   \n",
       "0            480.0  248.0\n",
       "1            186.0  187.0"
      ]
     },
     "execution_count": 79,
     "metadata": {},
     "output_type": "execute_result"
    }
   ],
   "source": [
    "stat_test_gender_pivot=pd.pivot_table(stat_test_gender, columns='gender_name',values='call_result_id',index='succes')\n",
    "stat_test_gender_pivot"
   ]
  },
  {
   "cell_type": "code",
   "execution_count": 80,
   "metadata": {},
   "outputs": [
    {
     "name": "stdout",
     "output_type": "stream",
     "text": [
      "P-value : 0.00000034576343\n"
     ]
    }
   ],
   "source": [
    "pvalue = stats.chi2_contingency(stat_test_gender_pivot).pvalue\n",
    "print(f'P-value : {pvalue:.14f}')"
   ]
  },
  {
   "cell_type": "markdown",
   "metadata": {},
   "source": [
    "* P-value is less than 0.05. There is significant difference between men and women call succes rate.\n",
    "* Women are more interested in our products."
   ]
  },
  {
   "cell_type": "markdown",
   "metadata": {},
   "source": [
    "##### Hypothesis 3 : Customers with Similar Marital Statuses Show Different Response Patterns"
   ]
  },
  {
   "cell_type": "code",
   "execution_count": 81,
   "metadata": {},
   "outputs": [
    {
     "data": {
      "text/plain": [
       "<Axes: xlabel='marital_status'>"
      ]
     },
     "execution_count": 81,
     "metadata": {},
     "output_type": "execute_result"
    },
    {
     "data": {
      "image/png": "[encoded data removed]",
      "text/plain": [
       "<Figure size 640x480 with 1 Axes>"
      ]
     },
     "metadata": {},
     "output_type": "display_data"
    }
   ],
   "source": [
    "pd.DataFrame((telesales['call_result_id'].groupby(telesales['marital_status']).sum()/telesales['call_result_id'].groupby(telesales['marital_status']).count())*100).plot(kind='bar')\n",
    "# Married people are more interested in products. Let's perform a chi-square test to see that whether the call succes difference among various marital statuses is significant."
   ]
  },
  {
   "cell_type": "code",
   "execution_count": 83,
   "metadata": {},
   "outputs": [
    {
     "name": "stderr",
     "output_type": "stream",
     "text": [
      "C:\\Users\\zeyne\\AppData\\Local\\Temp\\ipykernel_16276\\2620868890.py:5: FutureWarning: ChainedAssignmentError: behaviour will change in pandas 3.0!\n",
      "You are setting values through chained assignment. Currently this works in certain cases, but when using Copy-on-Write (which will become the default behaviour in pandas 3.0) this will never work to update the original DataFrame or Series, because the intermediate object on which we are setting values will behave as a copy.\n",
      "A typical example is when you are setting values in a column of a DataFrame, like:\n",
      "\n",
      "df[\"col\"][row_indexer] = value\n",
      "\n",
      "Use `df.loc[row_indexer, \"col\"] = values` instead, to perform the assignment in a single step and ensure this keeps updating the original `df`.\n",
      "\n",
      "See the caveats in the documentation: https://pandas.pydata.org/pandas-docs/stable/user_guide/indexing.html#returning-a-view-versus-a-copy\n",
      "\n",
      "  marital_test['succes'][:3] = 1\n",
      "C:\\Users\\zeyne\\AppData\\Local\\Temp\\ipykernel_16276\\2620868890.py:5: SettingWithCopyWarning: \n",
      "A value is trying to be set on a copy of a slice from a DataFrame\n",
      "\n",
      "See the caveats in the documentation: https://pandas.pydata.org/pandas-docs/stable/user_guide/indexing.html#returning-a-view-versus-a-copy\n",
      "  marital_test['succes'][:3] = 1\n"
     ]
    },
    {
     "data": {
      "text/html": [
       "<div>\n",
       "<style scoped>\n",
       "    .dataframe tbody tr th:only-of-type {\n",
       "        vertical-align: middle;\n",
       "    }\n",
       "\n",
       "    .dataframe tbody tr th {\n",
       "        vertical-align: top;\n",
       "    }\n",
       "\n",
       "    .dataframe thead th {\n",
       "        text-align: right;\n",
       "    }\n",
       "</style>\n",
       "<table border=\"1\" class=\"dataframe\">\n",
       "  <thead>\n",
       "    <tr style=\"text-align: right;\">\n",
       "      <th></th>\n",
       "      <th>marital_status</th>\n",
       "      <th>call_result_id</th>\n",
       "      <th>succes</th>\n",
       "    </tr>\n",
       "  </thead>\n",
       "  <tbody>\n",
       "    <tr>\n",
       "      <th>0</th>\n",
       "      <td>Divorced</td>\n",
       "      <td>81</td>\n",
       "      <td>1</td>\n",
       "    </tr>\n",
       "    <tr>\n",
       "      <th>1</th>\n",
       "      <td>Married</td>\n",
       "      <td>237</td>\n",
       "      <td>1</td>\n",
       "    </tr>\n",
       "    <tr>\n",
       "      <th>2</th>\n",
       "      <td>Single</td>\n",
       "      <td>55</td>\n",
       "      <td>1</td>\n",
       "    </tr>\n",
       "    <tr>\n",
       "      <th>0</th>\n",
       "      <td>Divorced</td>\n",
       "      <td>177</td>\n",
       "      <td>0</td>\n",
       "    </tr>\n",
       "    <tr>\n",
       "      <th>1</th>\n",
       "      <td>Married</td>\n",
       "      <td>361</td>\n",
       "      <td>0</td>\n",
       "    </tr>\n",
       "    <tr>\n",
       "      <th>2</th>\n",
       "      <td>Single</td>\n",
       "      <td>190</td>\n",
       "      <td>0</td>\n",
       "    </tr>\n",
       "  </tbody>\n",
       "</table>\n",
       "</div>"
      ],
      "text/plain": [
       "  marital_status  call_result_id  succes\n",
       "0       Divorced              81       1\n",
       "1        Married             237       1\n",
       "2         Single              55       1\n",
       "0       Divorced             177       0\n",
       "1        Married             361       0\n",
       "2         Single             190       0"
      ]
     },
     "execution_count": 83,
     "metadata": {},
     "output_type": "execute_result"
    }
   ],
   "source": [
    "succes_by_marital = pd.DataFrame(telesales['call_result_id'].groupby(telesales['marital_status']).sum()).reset_index()\n",
    "unsucces_by_marital = pd.DataFrame(telesales['call_result_id'].groupby(telesales['marital_status']).count() - telesales['call_result_id'].groupby(telesales['marital_status']).sum()).reset_index()\n",
    "marital_test = pd.concat([succes_by_marital,unsucces_by_marital])\n",
    "marital_test['succes'] = 0\n",
    "marital_test['succes'][:3] = 1\n",
    "marital_test"
   ]
  },
  {
   "cell_type": "code",
   "execution_count": null,
   "metadata": {},
   "outputs": [
    {
     "data": {
      "text/html": [
       "<div>\n",
       "<style scoped>\n",
       "    .dataframe tbody tr th:only-of-type {\n",
       "        vertical-align: middle;\n",
       "    }\n",
       "\n",
       "    .dataframe tbody tr th {\n",
       "        vertical-align: top;\n",
       "    }\n",
       "\n",
       "    .dataframe thead th {\n",
       "        text-align: right;\n",
       "    }\n",
       "</style>\n",
       "<table border=\"1\" class=\"dataframe\">\n",
       "  <thead>\n",
       "    <tr style=\"text-align: right;\">\n",
       "      <th>marital_status</th>\n",
       "      <th>Divorced</th>\n",
       "      <th>Married</th>\n",
       "      <th>Single</th>\n",
       "    </tr>\n",
       "    <tr>\n",
       "      <th>succes</th>\n",
       "      <th></th>\n",
       "      <th></th>\n",
       "      <th></th>\n",
       "    </tr>\n",
       "  </thead>\n",
       "  <tbody>\n",
       "    <tr>\n",
       "      <th>0</th>\n",
       "      <td>177.0</td>\n",
       "      <td>361.0</td>\n",
       "      <td>190.0</td>\n",
       "    </tr>\n",
       "    <tr>\n",
       "      <th>1</th>\n",
       "      <td>81.0</td>\n",
       "      <td>237.0</td>\n",
       "      <td>55.0</td>\n",
       "    </tr>\n",
       "  </tbody>\n",
       "</table>\n",
       "</div>"
      ],
      "text/plain": [
       "marital_status  Divorced  Married  Single\n",
       "succes                                   \n",
       "0                  177.0    361.0   190.0\n",
       "1                   81.0    237.0    55.0"
      ]
     },
     "execution_count": 84,
     "metadata": {},
     "output_type": "execute_result"
    }
   ],
   "source": [
    "marital_pivot = pd.pivot_table(marital_test, columns='marital_status',index='succes',values='call_result_id')\n",
    "marital_pivot"
   ]
  },
  {
   "cell_type": "code",
   "execution_count": 85,
   "metadata": {},
   "outputs": [
    {
     "name": "stdout",
     "output_type": "stream",
     "text": [
      "P-value : 0.000006672930\n"
     ]
    }
   ],
   "source": [
    "pvalue = stats.chi2_contingency(marital_pivot).pvalue\n",
    "print(f'P-value : {pvalue :.12f}')"
   ]
  },
  {
   "cell_type": "markdown",
   "metadata": {},
   "source": [
    "* P-value is less than 0.05, there is a significant difference between call succes rates by marital status.\n",
    "* Married people show more interest in our products."
   ]
  },
  {
   "cell_type": "markdown",
   "metadata": {},
   "source": [
    "##### Hypothesis 4 : Faster Response Times Lead to Higher Conversion Rates"
   ]
  },
  {
   "cell_type": "code",
   "execution_count": 57,
   "metadata": {},
   "outputs": [
    {
     "data": {
      "text/html": [
       "<div>\n",
       "<style scoped>\n",
       "    .dataframe tbody tr th:only-of-type {\n",
       "        vertical-align: middle;\n",
       "    }\n",
       "\n",
       "    .dataframe tbody tr th {\n",
       "        vertical-align: top;\n",
       "    }\n",
       "\n",
       "    .dataframe thead th {\n",
       "        text-align: right;\n",
       "    }\n",
       "</style>\n",
       "<table border=\"1\" class=\"dataframe\">\n",
       "  <thead>\n",
       "    <tr style=\"text-align: right;\">\n",
       "      <th></th>\n",
       "      <th>call_id</th>\n",
       "      <th>call_type</th>\n",
       "      <th>response_time</th>\n",
       "      <th>call_result_id</th>\n",
       "      <th>employee_name</th>\n",
       "      <th>hired_date</th>\n",
       "      <th>age_interval</th>\n",
       "      <th>gender_name</th>\n",
       "    </tr>\n",
       "  </thead>\n",
       "  <tbody>\n",
       "    <tr>\n",
       "      <th>3</th>\n",
       "      <td>2663</td>\n",
       "      <td>Hot</td>\n",
       "      <td>1039.0</td>\n",
       "      <td>1</td>\n",
       "      <td>Rashad Huseynli</td>\n",
       "      <td>2018-06-06</td>\n",
       "      <td>41-50</td>\n",
       "      <td>Woman</td>\n",
       "    </tr>\n",
       "    <tr>\n",
       "      <th>5</th>\n",
       "      <td>3008</td>\n",
       "      <td>Hot</td>\n",
       "      <td>35.0</td>\n",
       "      <td>1</td>\n",
       "      <td>Elchin Asgarov</td>\n",
       "      <td>2019-02-05</td>\n",
       "      <td>15-30</td>\n",
       "      <td>Man</td>\n",
       "    </tr>\n",
       "    <tr>\n",
       "      <th>11</th>\n",
       "      <td>2622</td>\n",
       "      <td>Hot</td>\n",
       "      <td>87.0</td>\n",
       "      <td>0</td>\n",
       "      <td>Orkhan Asgarov</td>\n",
       "      <td>2017-12-18</td>\n",
       "      <td>41-50</td>\n",
       "      <td>Man</td>\n",
       "    </tr>\n",
       "    <tr>\n",
       "      <th>12</th>\n",
       "      <td>2657</td>\n",
       "      <td>Hot</td>\n",
       "      <td>17.0</td>\n",
       "      <td>1</td>\n",
       "      <td>Fidan Mammadli</td>\n",
       "      <td>2018-01-12</td>\n",
       "      <td>41-50</td>\n",
       "      <td>Man</td>\n",
       "    </tr>\n",
       "    <tr>\n",
       "      <th>20</th>\n",
       "      <td>2908</td>\n",
       "      <td>Hot</td>\n",
       "      <td>1132.0</td>\n",
       "      <td>0</td>\n",
       "      <td>Orkhan Asgarov</td>\n",
       "      <td>2017-12-18</td>\n",
       "      <td>41-50</td>\n",
       "      <td>Woman</td>\n",
       "    </tr>\n",
       "    <tr>\n",
       "      <th>...</th>\n",
       "      <td>...</td>\n",
       "      <td>...</td>\n",
       "      <td>...</td>\n",
       "      <td>...</td>\n",
       "      <td>...</td>\n",
       "      <td>...</td>\n",
       "      <td>...</td>\n",
       "      <td>...</td>\n",
       "    </tr>\n",
       "    <tr>\n",
       "      <th>1022</th>\n",
       "      <td>2038</td>\n",
       "      <td>Hot</td>\n",
       "      <td>86.0</td>\n",
       "      <td>0</td>\n",
       "      <td>Fuad Aliyev</td>\n",
       "      <td>2017-07-15</td>\n",
       "      <td>31-40</td>\n",
       "      <td>Woman</td>\n",
       "    </tr>\n",
       "    <tr>\n",
       "      <th>1025</th>\n",
       "      <td>2262</td>\n",
       "      <td>Hot</td>\n",
       "      <td>19.0</td>\n",
       "      <td>1</td>\n",
       "      <td>Orkhan Asgarov</td>\n",
       "      <td>2017-12-18</td>\n",
       "      <td>41-50</td>\n",
       "      <td>Woman</td>\n",
       "    </tr>\n",
       "    <tr>\n",
       "      <th>1027</th>\n",
       "      <td>2835</td>\n",
       "      <td>Hot</td>\n",
       "      <td>56.0</td>\n",
       "      <td>1</td>\n",
       "      <td>Fuad Aliyev</td>\n",
       "      <td>2017-07-15</td>\n",
       "      <td>41-50</td>\n",
       "      <td>Man</td>\n",
       "    </tr>\n",
       "    <tr>\n",
       "      <th>1029</th>\n",
       "      <td>2698</td>\n",
       "      <td>Hot</td>\n",
       "      <td>691.0</td>\n",
       "      <td>1</td>\n",
       "      <td>Emin Ahmedov</td>\n",
       "      <td>2022-09-08</td>\n",
       "      <td>41-50</td>\n",
       "      <td>Woman</td>\n",
       "    </tr>\n",
       "    <tr>\n",
       "      <th>1030</th>\n",
       "      <td>2816</td>\n",
       "      <td>Hot</td>\n",
       "      <td>36.0</td>\n",
       "      <td>1</td>\n",
       "      <td>Elmir Mustafayev</td>\n",
       "      <td>2018-01-05</td>\n",
       "      <td>31-40</td>\n",
       "      <td>Woman</td>\n",
       "    </tr>\n",
       "  </tbody>\n",
       "</table>\n",
       "<p>383 rows × 8 columns</p>\n",
       "</div>"
      ],
      "text/plain": [
       "      call_id call_type  response_time  call_result_id     employee_name  \\\n",
       "3        2663       Hot         1039.0               1   Rashad Huseynli   \n",
       "5        3008       Hot           35.0               1    Elchin Asgarov   \n",
       "11       2622       Hot           87.0               0    Orkhan Asgarov   \n",
       "12       2657       Hot           17.0               1    Fidan Mammadli   \n",
       "20       2908       Hot         1132.0               0    Orkhan Asgarov   \n",
       "...       ...       ...            ...             ...               ...   \n",
       "1022     2038       Hot           86.0               0       Fuad Aliyev   \n",
       "1025     2262       Hot           19.0               1    Orkhan Asgarov   \n",
       "1027     2835       Hot           56.0               1       Fuad Aliyev   \n",
       "1029     2698       Hot          691.0               1      Emin Ahmedov   \n",
       "1030     2816       Hot           36.0               1  Elmir Mustafayev   \n",
       "\n",
       "     hired_date age_interval gender_name  \n",
       "3    2018-06-06        41-50       Woman  \n",
       "5    2019-02-05        15-30         Man  \n",
       "11   2017-12-18        41-50         Man  \n",
       "12   2018-01-12        41-50         Man  \n",
       "20   2017-12-18        41-50       Woman  \n",
       "...         ...          ...         ...  \n",
       "1022 2017-07-15        31-40       Woman  \n",
       "1025 2017-12-18        41-50       Woman  \n",
       "1027 2017-07-15        41-50         Man  \n",
       "1029 2022-09-08        41-50       Woman  \n",
       "1030 2018-01-05        31-40       Woman  \n",
       "\n",
       "[383 rows x 8 columns]"
      ]
     },
     "execution_count": 57,
     "metadata": {},
     "output_type": "execute_result"
    }
   ],
   "source": [
    "hot_calls = telesales.loc[telesales['call_type']=='Hot'][['call_id','call_type','response_time','call_result_id','employee_name','hired_date','age_interval','gender_name']]\n",
    "hot_calls"
   ]
  },
  {
   "cell_type": "code",
   "execution_count": null,
   "metadata": {},
   "outputs": [
    {
     "data": {
      "text/plain": [
       "<Axes: ylabel='Frequency'>"
      ]
     },
     "execution_count": 58,
     "metadata": {},
     "output_type": "execute_result"
    },
    {
     "data": {
      "image/png": "[encoded data removed]",
      "text/plain": [
       "<Figure size 640x480 with 1 Axes>"
      ]
     },
     "metadata": {},
     "output_type": "display_data"
    }
   ],
   "source": [
    "telesales['response_time'].plot(kind='hist')"
   ]
  },
  {
   "cell_type": "code",
   "execution_count": null,
   "metadata": {},
   "outputs": [],
   "source": [
    "bins = [0, 50, 100, 150, 400,  650, 900, 1150, 1400,1650,2000]\n",
    "labels = ['0-50', '51-100', '101-150', '151-400', '401-650', '651-900', '901-1150', '1151-1400','1401-1650','1651-2000']\n",
    "telesales['response_time_interval'] = pd.cut(telesales['response_time'], bins=bins, labels=labels)"
   ]
  },
  {
   "cell_type": "code",
   "execution_count": null,
   "metadata": {},
   "outputs": [],
   "source": [
    "hot_calls['response_time_interval'] = pd.cut(hot_calls['response_time'], bins=bins, labels=labels)\n"
   ]
  },
  {
   "cell_type": "code",
   "execution_count": 70,
   "metadata": {},
   "outputs": [
    {
     "name": "stderr",
     "output_type": "stream",
     "text": [
      "C:\\Users\\zeyne\\AppData\\Local\\Temp\\ipykernel_20732\\3491385643.py:1: FutureWarning: The default of observed=False is deprecated and will be changed to True in a future version of pandas. Pass observed=False to retain current behavior or observed=True to adopt the future default and silence this warning.\n",
      "  pd.DataFrame(hot_calls['call_result_id'].groupby(hot_calls['response_time_interval'],sort=True).sum()).plot(kind='bar')\n"
     ]
    },
    {
     "data": {
      "text/plain": [
       "<Axes: xlabel='response_time_interval'>"
      ]
     },
     "execution_count": 70,
     "metadata": {},
     "output_type": "execute_result"
    },
    {
     "data": {
      "image/png": "[encoded data removed]",
      "text/plain": [
       "<Figure size 640x480 with 1 Axes>"
      ]
     },
     "metadata": {},
     "output_type": "display_data"
    }
   ],
   "source": [
    "pd.DataFrame(hot_calls['call_result_id'].groupby(hot_calls['response_time_interval'],sort=True).sum()).plot(kind='bar')\n",
    "# We can see that while age interval is increasing, call succes rate is decreasing. Seems that there is a relationship between them, but we need to perform statistical test."
   ]
  },
  {
   "cell_type": "code",
   "execution_count": 72,
   "metadata": {},
   "outputs": [
    {
     "name": "stderr",
     "output_type": "stream",
     "text": [
      "C:\\Users\\zeyne\\AppData\\Local\\Temp\\ipykernel_20732\\3351776181.py:1: FutureWarning: The default of observed=False is deprecated and will be changed to True in a future version of pandas. Pass observed=False to retain current behavior or observed=True to adopt the future default and silence this warning.\n",
      "  pd.DataFrame(hot_calls['call_result_id'].groupby(hot_calls['response_time_interval'],sort=True).sum()).plot(kind='bar')\n"
     ]
    },
    {
     "data": {
      "text/plain": [
       "<Axes: xlabel='response_time_interval'>"
      ]
     },
     "execution_count": 72,
     "metadata": {},
     "output_type": "execute_result"
    },
    {
     "data": {
      "image/png": "[encoded data removed]",
      "text/plain": [
       "<Figure size 640x480 with 1 Axes>"
      ]
     },
     "metadata": {},
     "output_type": "display_data"
    }
   ],
   "source": [
    "pd.DataFrame(hot_calls['call_result_id'].groupby(hot_calls['response_time_interval'],sort=True).sum()).plot(kind='bar')\n"
   ]
  },
  {
   "cell_type": "code",
   "execution_count": 73,
   "metadata": {},
   "outputs": [
    {
     "name": "stderr",
     "output_type": "stream",
     "text": [
      "C:\\Users\\zeyne\\AppData\\Local\\Temp\\ipykernel_20732\\2054263676.py:1: FutureWarning: The default of observed=False is deprecated and will be changed to True in a future version of pandas. Pass observed=False to retain current behavior or observed=True to adopt the future default and silence this warning.\n",
      "  pd.DataFrame(telesales['call_result_id'].groupby(telesales['response_time_interval'],sort=True).sum()).plot(kind='bar')\n"
     ]
    },
    {
     "data": {
      "text/plain": [
       "<Axes: xlabel='response_time_interval'>"
      ]
     },
     "execution_count": 73,
     "metadata": {},
     "output_type": "execute_result"
    },
    {
     "data": {
      "image/png": "[encoded data removed]",
      "text/plain": [
       "<Figure size 640x480 with 1 Axes>"
      ]
     },
     "metadata": {},
     "output_type": "display_data"
    }
   ],
   "source": [
    "pd.DataFrame(telesales['call_result_id'].groupby(telesales['response_time_interval'],sort=True).sum()).plot(kind='bar')\n"
   ]
  },
  {
   "cell_type": "code",
   "execution_count": 74,
   "metadata": {},
   "outputs": [
    {
     "data": {
      "text/plain": [
       "(1031, 22)"
      ]
     },
     "execution_count": 74,
     "metadata": {},
     "output_type": "execute_result"
    }
   ],
   "source": [
    "telesales.shape"
   ]
  },
  {
   "cell_type": "markdown",
   "metadata": {},
   "source": [
    "##### Hypothesis 5 : Employee Performance Varies Significantly by Call Type"
   ]
  },
  {
   "cell_type": "markdown",
   "metadata": {},
   "source": [
    "Let's compare hot and cold call type results"
   ]
  },
  {
   "cell_type": "code",
   "execution_count": 117,
   "metadata": {},
   "outputs": [
    {
     "data": {
      "text/html": [
       "<div>\n",
       "<style scoped>\n",
       "    .dataframe tbody tr th:only-of-type {\n",
       "        vertical-align: middle;\n",
       "    }\n",
       "\n",
       "    .dataframe tbody tr th {\n",
       "        vertical-align: top;\n",
       "    }\n",
       "\n",
       "    .dataframe thead th {\n",
       "        text-align: right;\n",
       "    }\n",
       "</style>\n",
       "<table border=\"1\" class=\"dataframe\">\n",
       "  <thead>\n",
       "    <tr style=\"text-align: right;\">\n",
       "      <th></th>\n",
       "      <th>call_id</th>\n",
       "      <th>call_type</th>\n",
       "      <th>response_time</th>\n",
       "      <th>call_result_id</th>\n",
       "      <th>employee_name</th>\n",
       "      <th>hired_date</th>\n",
       "      <th>age_interval</th>\n",
       "      <th>gender_name</th>\n",
       "      <th>response_time_interval</th>\n",
       "    </tr>\n",
       "  </thead>\n",
       "  <tbody>\n",
       "    <tr>\n",
       "      <th>3</th>\n",
       "      <td>2663</td>\n",
       "      <td>Hot</td>\n",
       "      <td>1039.0</td>\n",
       "      <td>1</td>\n",
       "      <td>Rashad Huseynli</td>\n",
       "      <td>2018-06-06</td>\n",
       "      <td>41-50</td>\n",
       "      <td>Woman</td>\n",
       "      <td>1001-1250</td>\n",
       "    </tr>\n",
       "    <tr>\n",
       "      <th>5</th>\n",
       "      <td>3008</td>\n",
       "      <td>Hot</td>\n",
       "      <td>35.0</td>\n",
       "      <td>1</td>\n",
       "      <td>Elchin Asgarov</td>\n",
       "      <td>2019-02-05</td>\n",
       "      <td>15-30</td>\n",
       "      <td>Man</td>\n",
       "      <td>0-50</td>\n",
       "    </tr>\n",
       "    <tr>\n",
       "      <th>11</th>\n",
       "      <td>2622</td>\n",
       "      <td>Hot</td>\n",
       "      <td>87.0</td>\n",
       "      <td>0</td>\n",
       "      <td>Orkhan Asgarov</td>\n",
       "      <td>2017-12-18</td>\n",
       "      <td>41-50</td>\n",
       "      <td>Man</td>\n",
       "      <td>51-100</td>\n",
       "    </tr>\n",
       "    <tr>\n",
       "      <th>12</th>\n",
       "      <td>2657</td>\n",
       "      <td>Hot</td>\n",
       "      <td>17.0</td>\n",
       "      <td>1</td>\n",
       "      <td>Fidan Mammadli</td>\n",
       "      <td>2018-01-12</td>\n",
       "      <td>41-50</td>\n",
       "      <td>Man</td>\n",
       "      <td>0-50</td>\n",
       "    </tr>\n",
       "    <tr>\n",
       "      <th>20</th>\n",
       "      <td>2908</td>\n",
       "      <td>Hot</td>\n",
       "      <td>1132.0</td>\n",
       "      <td>0</td>\n",
       "      <td>Orkhan Asgarov</td>\n",
       "      <td>2017-12-18</td>\n",
       "      <td>41-50</td>\n",
       "      <td>Woman</td>\n",
       "      <td>1001-1250</td>\n",
       "    </tr>\n",
       "    <tr>\n",
       "      <th>...</th>\n",
       "      <td>...</td>\n",
       "      <td>...</td>\n",
       "      <td>...</td>\n",
       "      <td>...</td>\n",
       "      <td>...</td>\n",
       "      <td>...</td>\n",
       "      <td>...</td>\n",
       "      <td>...</td>\n",
       "      <td>...</td>\n",
       "    </tr>\n",
       "    <tr>\n",
       "      <th>1094</th>\n",
       "      <td>3021</td>\n",
       "      <td>Hot</td>\n",
       "      <td>1215.0</td>\n",
       "      <td>0</td>\n",
       "      <td>Rufat Huseynov</td>\n",
       "      <td>2024-10-01</td>\n",
       "      <td>41-50</td>\n",
       "      <td>Man</td>\n",
       "      <td>1001-1250</td>\n",
       "    </tr>\n",
       "    <tr>\n",
       "      <th>1095</th>\n",
       "      <td>2262</td>\n",
       "      <td>Hot</td>\n",
       "      <td>19.0</td>\n",
       "      <td>1</td>\n",
       "      <td>Orkhan Asgarov</td>\n",
       "      <td>2017-12-18</td>\n",
       "      <td>41-50</td>\n",
       "      <td>Woman</td>\n",
       "      <td>0-50</td>\n",
       "    </tr>\n",
       "    <tr>\n",
       "      <th>1097</th>\n",
       "      <td>2835</td>\n",
       "      <td>Hot</td>\n",
       "      <td>56.0</td>\n",
       "      <td>1</td>\n",
       "      <td>Fuad Aliyev</td>\n",
       "      <td>2017-07-15</td>\n",
       "      <td>41-50</td>\n",
       "      <td>Man</td>\n",
       "      <td>51-100</td>\n",
       "    </tr>\n",
       "    <tr>\n",
       "      <th>1099</th>\n",
       "      <td>2698</td>\n",
       "      <td>Hot</td>\n",
       "      <td>691.0</td>\n",
       "      <td>1</td>\n",
       "      <td>Emin Ahmedov</td>\n",
       "      <td>2022-09-08</td>\n",
       "      <td>41-50</td>\n",
       "      <td>Woman</td>\n",
       "      <td>501-750</td>\n",
       "    </tr>\n",
       "    <tr>\n",
       "      <th>1100</th>\n",
       "      <td>2816</td>\n",
       "      <td>Hot</td>\n",
       "      <td>36.0</td>\n",
       "      <td>1</td>\n",
       "      <td>Elmir Mustafayev</td>\n",
       "      <td>2018-01-05</td>\n",
       "      <td>31-40</td>\n",
       "      <td>Woman</td>\n",
       "      <td>0-50</td>\n",
       "    </tr>\n",
       "  </tbody>\n",
       "</table>\n",
       "<p>410 rows × 9 columns</p>\n",
       "</div>"
      ],
      "text/plain": [
       "      call_id call_type  response_time  call_result_id     employee_name  \\\n",
       "3        2663       Hot         1039.0               1   Rashad Huseynli   \n",
       "5        3008       Hot           35.0               1    Elchin Asgarov   \n",
       "11       2622       Hot           87.0               0    Orkhan Asgarov   \n",
       "12       2657       Hot           17.0               1    Fidan Mammadli   \n",
       "20       2908       Hot         1132.0               0    Orkhan Asgarov   \n",
       "...       ...       ...            ...             ...               ...   \n",
       "1094     3021       Hot         1215.0               0    Rufat Huseynov   \n",
       "1095     2262       Hot           19.0               1    Orkhan Asgarov   \n",
       "1097     2835       Hot           56.0               1       Fuad Aliyev   \n",
       "1099     2698       Hot          691.0               1      Emin Ahmedov   \n",
       "1100     2816       Hot           36.0               1  Elmir Mustafayev   \n",
       "\n",
       "     hired_date age_interval gender_name response_time_interval  \n",
       "3    2018-06-06        41-50       Woman              1001-1250  \n",
       "5    2019-02-05        15-30         Man                   0-50  \n",
       "11   2017-12-18        41-50         Man                 51-100  \n",
       "12   2018-01-12        41-50         Man                   0-50  \n",
       "20   2017-12-18        41-50       Woman              1001-1250  \n",
       "...         ...          ...         ...                    ...  \n",
       "1094 2024-10-01        41-50         Man              1001-1250  \n",
       "1095 2017-12-18        41-50       Woman                   0-50  \n",
       "1097 2017-07-15        41-50         Man                 51-100  \n",
       "1099 2022-09-08        41-50       Woman                501-750  \n",
       "1100 2018-01-05        31-40       Woman                   0-50  \n",
       "\n",
       "[410 rows x 9 columns]"
      ]
     },
     "execution_count": 117,
     "metadata": {},
     "output_type": "execute_result"
    }
   ],
   "source": [
    "hot_calls"
   ]
  },
  {
   "cell_type": "code",
   "execution_count": 118,
   "metadata": {},
   "outputs": [
    {
     "data": {
      "text/html": [
       "<div>\n",
       "<style scoped>\n",
       "    .dataframe tbody tr th:only-of-type {\n",
       "        vertical-align: middle;\n",
       "    }\n",
       "\n",
       "    .dataframe tbody tr th {\n",
       "        vertical-align: top;\n",
       "    }\n",
       "\n",
       "    .dataframe thead th {\n",
       "        text-align: right;\n",
       "    }\n",
       "</style>\n",
       "<table border=\"1\" class=\"dataframe\">\n",
       "  <thead>\n",
       "    <tr style=\"text-align: right;\">\n",
       "      <th></th>\n",
       "      <th>call_id</th>\n",
       "      <th>call_type</th>\n",
       "      <th>call_result_id</th>\n",
       "      <th>employee_name</th>\n",
       "      <th>hired_date</th>\n",
       "      <th>age_interval</th>\n",
       "      <th>gender_name</th>\n",
       "    </tr>\n",
       "  </thead>\n",
       "  <tbody>\n",
       "    <tr>\n",
       "      <th>0</th>\n",
       "      <td>2406</td>\n",
       "      <td>Cold</td>\n",
       "      <td>0</td>\n",
       "      <td>Elmir Mustafayev</td>\n",
       "      <td>2018-01-05</td>\n",
       "      <td>31-40</td>\n",
       "      <td>Man</td>\n",
       "    </tr>\n",
       "    <tr>\n",
       "      <th>1</th>\n",
       "      <td>2892</td>\n",
       "      <td>Cold</td>\n",
       "      <td>0</td>\n",
       "      <td>Rashad Huseynli</td>\n",
       "      <td>2018-06-06</td>\n",
       "      <td>31-40</td>\n",
       "      <td>Man</td>\n",
       "    </tr>\n",
       "    <tr>\n",
       "      <th>2</th>\n",
       "      <td>2788</td>\n",
       "      <td>Cold</td>\n",
       "      <td>1</td>\n",
       "      <td>Fuad Aliyev</td>\n",
       "      <td>2017-07-15</td>\n",
       "      <td>41-50</td>\n",
       "      <td>Man</td>\n",
       "    </tr>\n",
       "    <tr>\n",
       "      <th>4</th>\n",
       "      <td>2498</td>\n",
       "      <td>Cold</td>\n",
       "      <td>0</td>\n",
       "      <td>Fidan Mammadli</td>\n",
       "      <td>2018-01-12</td>\n",
       "      <td>41-50</td>\n",
       "      <td>Woman</td>\n",
       "    </tr>\n",
       "    <tr>\n",
       "      <th>6</th>\n",
       "      <td>2615</td>\n",
       "      <td>Cold</td>\n",
       "      <td>0</td>\n",
       "      <td>Orkhan Asgarov</td>\n",
       "      <td>2017-12-18</td>\n",
       "      <td>31-40</td>\n",
       "      <td>Man</td>\n",
       "    </tr>\n",
       "    <tr>\n",
       "      <th>...</th>\n",
       "      <td>...</td>\n",
       "      <td>...</td>\n",
       "      <td>...</td>\n",
       "      <td>...</td>\n",
       "      <td>...</td>\n",
       "      <td>...</td>\n",
       "      <td>...</td>\n",
       "    </tr>\n",
       "    <tr>\n",
       "      <th>1090</th>\n",
       "      <td>2565</td>\n",
       "      <td>Cold</td>\n",
       "      <td>0</td>\n",
       "      <td>Fidan Mammadli</td>\n",
       "      <td>2018-01-12</td>\n",
       "      <td>31-40</td>\n",
       "      <td>Man</td>\n",
       "    </tr>\n",
       "    <tr>\n",
       "      <th>1092</th>\n",
       "      <td>2355</td>\n",
       "      <td>Cold</td>\n",
       "      <td>0</td>\n",
       "      <td>Rashad Huseynli</td>\n",
       "      <td>2018-06-06</td>\n",
       "      <td>41-50</td>\n",
       "      <td>Man</td>\n",
       "    </tr>\n",
       "    <tr>\n",
       "      <th>1093</th>\n",
       "      <td>2389</td>\n",
       "      <td>Cold</td>\n",
       "      <td>0</td>\n",
       "      <td>Orkhan Asgarov</td>\n",
       "      <td>2017-12-18</td>\n",
       "      <td>31-40</td>\n",
       "      <td>Woman</td>\n",
       "    </tr>\n",
       "    <tr>\n",
       "      <th>1096</th>\n",
       "      <td>2079</td>\n",
       "      <td>Cold</td>\n",
       "      <td>0</td>\n",
       "      <td>Fuad Aliyev</td>\n",
       "      <td>2017-07-15</td>\n",
       "      <td>41-50</td>\n",
       "      <td>Man</td>\n",
       "    </tr>\n",
       "    <tr>\n",
       "      <th>1098</th>\n",
       "      <td>2425</td>\n",
       "      <td>Cold</td>\n",
       "      <td>0</td>\n",
       "      <td>Rashad Huseynli</td>\n",
       "      <td>2018-06-06</td>\n",
       "      <td>41-50</td>\n",
       "      <td>Woman</td>\n",
       "    </tr>\n",
       "  </tbody>\n",
       "</table>\n",
       "<p>691 rows × 7 columns</p>\n",
       "</div>"
      ],
      "text/plain": [
       "      call_id call_type  call_result_id     employee_name hired_date  \\\n",
       "0        2406      Cold               0  Elmir Mustafayev 2018-01-05   \n",
       "1        2892      Cold               0   Rashad Huseynli 2018-06-06   \n",
       "2        2788      Cold               1       Fuad Aliyev 2017-07-15   \n",
       "4        2498      Cold               0    Fidan Mammadli 2018-01-12   \n",
       "6        2615      Cold               0    Orkhan Asgarov 2017-12-18   \n",
       "...       ...       ...             ...               ...        ...   \n",
       "1090     2565      Cold               0    Fidan Mammadli 2018-01-12   \n",
       "1092     2355      Cold               0   Rashad Huseynli 2018-06-06   \n",
       "1093     2389      Cold               0    Orkhan Asgarov 2017-12-18   \n",
       "1096     2079      Cold               0       Fuad Aliyev 2017-07-15   \n",
       "1098     2425      Cold               0   Rashad Huseynli 2018-06-06   \n",
       "\n",
       "     age_interval gender_name  \n",
       "0           31-40         Man  \n",
       "1           31-40         Man  \n",
       "2           41-50         Man  \n",
       "4           41-50       Woman  \n",
       "6           31-40         Man  \n",
       "...           ...         ...  \n",
       "1090        31-40         Man  \n",
       "1092        41-50         Man  \n",
       "1093        31-40       Woman  \n",
       "1096        41-50         Man  \n",
       "1098        41-50       Woman  \n",
       "\n",
       "[691 rows x 7 columns]"
      ]
     },
     "execution_count": 118,
     "metadata": {},
     "output_type": "execute_result"
    }
   ],
   "source": [
    "cold_calls = telesales.loc[telesales['call_type']=='Cold'][['call_id','call_type','call_result_id','employee_name','hired_date','age_interval','gender_name']]\n",
    "cold_calls"
   ]
  },
  {
   "cell_type": "code",
   "execution_count": 119,
   "metadata": {},
   "outputs": [
    {
     "data": {
      "text/plain": [
       "<Axes: xlabel='employee_name'>"
      ]
     },
     "execution_count": 119,
     "metadata": {},
     "output_type": "execute_result"
    },
    {
     "data": {
      "image/png": "[encoded data removed]",
      "text/plain": [
       "<Figure size 640x480 with 1 Axes>"
      ]
     },
     "metadata": {},
     "output_type": "display_data"
    }
   ],
   "source": [
    "pd.DataFrame(cold_calls['call_result_id'].groupby(cold_calls['employee_name']).mean()*100).plot(kind='bar')"
   ]
  },
  {
   "cell_type": "code",
   "execution_count": 120,
   "metadata": {},
   "outputs": [
    {
     "data": {
      "text/plain": [
       "<Axes: xlabel='employee_name'>"
      ]
     },
     "execution_count": 120,
     "metadata": {},
     "output_type": "execute_result"
    },
    {
     "data": {
      "image/png": "[encoded data removed]",
      "text/plain": [
       "<Figure size 640x480 with 1 Axes>"
      ]
     },
     "metadata": {},
     "output_type": "display_data"
    }
   ],
   "source": [
    "pd.DataFrame(hot_calls['call_result_id'].groupby(hot_calls['employee_name']).mean() * 100).plot(kind='bar')"
   ]
  },
  {
   "cell_type": "markdown",
   "metadata": {},
   "source": [
    "There is an interesting result! Although **Seymur Huseynov** has the highest conversion rate for hot calls, he does not perform as well with cold calls."
   ]
  },
  {
   "cell_type": "markdown",
   "metadata": {},
   "source": [
    "Also **Lamiya Hajiyeva** has no succes with cold calls and has limited success with hot calls."
   ]
  },
  {
   "cell_type": "markdown",
   "metadata": {},
   "source": [
    "**We will examine whether employees with shorter response times are more successful.**"
   ]
  },
  {
   "cell_type": "code",
   "execution_count": 121,
   "metadata": {},
   "outputs": [
    {
     "data": {
      "text/html": [
       "<div>\n",
       "<style scoped>\n",
       "    .dataframe tbody tr th:only-of-type {\n",
       "        vertical-align: middle;\n",
       "    }\n",
       "\n",
       "    .dataframe tbody tr th {\n",
       "        vertical-align: top;\n",
       "    }\n",
       "\n",
       "    .dataframe thead th {\n",
       "        text-align: right;\n",
       "    }\n",
       "</style>\n",
       "<table border=\"1\" class=\"dataframe\">\n",
       "  <thead>\n",
       "    <tr style=\"text-align: right;\">\n",
       "      <th></th>\n",
       "      <th>employee_name</th>\n",
       "      <th>call_result_id</th>\n",
       "    </tr>\n",
       "  </thead>\n",
       "  <tbody>\n",
       "    <tr>\n",
       "      <th>0</th>\n",
       "      <td>Elchin Asgarov</td>\n",
       "      <td>64.705882</td>\n",
       "    </tr>\n",
       "    <tr>\n",
       "      <th>1</th>\n",
       "      <td>Elmir Mustafayev</td>\n",
       "      <td>54.687500</td>\n",
       "    </tr>\n",
       "    <tr>\n",
       "      <th>2</th>\n",
       "      <td>Emin Ahmedov</td>\n",
       "      <td>12.500000</td>\n",
       "    </tr>\n",
       "    <tr>\n",
       "      <th>3</th>\n",
       "      <td>Fidan Mammadli</td>\n",
       "      <td>64.285714</td>\n",
       "    </tr>\n",
       "    <tr>\n",
       "      <th>4</th>\n",
       "      <td>Fuad Aliyev</td>\n",
       "      <td>61.111111</td>\n",
       "    </tr>\n",
       "    <tr>\n",
       "      <th>5</th>\n",
       "      <td>Lamiya Hajiyeva</td>\n",
       "      <td>22.222222</td>\n",
       "    </tr>\n",
       "    <tr>\n",
       "      <th>6</th>\n",
       "      <td>Orkhan Asgarov</td>\n",
       "      <td>61.290323</td>\n",
       "    </tr>\n",
       "    <tr>\n",
       "      <th>7</th>\n",
       "      <td>Rashad Huseynli</td>\n",
       "      <td>67.391304</td>\n",
       "    </tr>\n",
       "    <tr>\n",
       "      <th>8</th>\n",
       "      <td>Rufat Huseynov</td>\n",
       "      <td>37.500000</td>\n",
       "    </tr>\n",
       "    <tr>\n",
       "      <th>9</th>\n",
       "      <td>Seymur Huseynov</td>\n",
       "      <td>68.750000</td>\n",
       "    </tr>\n",
       "  </tbody>\n",
       "</table>\n",
       "</div>"
      ],
      "text/plain": [
       "      employee_name  call_result_id\n",
       "0    Elchin Asgarov       64.705882\n",
       "1  Elmir Mustafayev       54.687500\n",
       "2      Emin Ahmedov       12.500000\n",
       "3    Fidan Mammadli       64.285714\n",
       "4       Fuad Aliyev       61.111111\n",
       "5   Lamiya Hajiyeva       22.222222\n",
       "6    Orkhan Asgarov       61.290323\n",
       "7   Rashad Huseynli       67.391304\n",
       "8    Rufat Huseynov       37.500000\n",
       "9   Seymur Huseynov       68.750000"
      ]
     },
     "execution_count": 121,
     "metadata": {},
     "output_type": "execute_result"
    }
   ],
   "source": [
    "emp_succes = pd.DataFrame(hot_calls['call_result_id'].groupby(hot_calls['employee_name']).mean() * 100).reset_index()\n",
    "emp_succes"
   ]
  },
  {
   "cell_type": "code",
   "execution_count": 101,
   "metadata": {},
   "outputs": [
    {
     "data": {
      "text/html": [
       "<div>\n",
       "<style scoped>\n",
       "    .dataframe tbody tr th:only-of-type {\n",
       "        vertical-align: middle;\n",
       "    }\n",
       "\n",
       "    .dataframe tbody tr th {\n",
       "        vertical-align: top;\n",
       "    }\n",
       "\n",
       "    .dataframe thead th {\n",
       "        text-align: right;\n",
       "    }\n",
       "</style>\n",
       "<table border=\"1\" class=\"dataframe\">\n",
       "  <thead>\n",
       "    <tr style=\"text-align: right;\">\n",
       "      <th></th>\n",
       "      <th>call_id</th>\n",
       "      <th>call_type</th>\n",
       "      <th>response_time</th>\n",
       "      <th>call_result_id0</th>\n",
       "      <th>employee_name</th>\n",
       "      <th>hired_date</th>\n",
       "      <th>age_interval</th>\n",
       "      <th>gender_name</th>\n",
       "      <th>response_time_interval</th>\n",
       "      <th>call_result_idsucces_rate</th>\n",
       "    </tr>\n",
       "  </thead>\n",
       "  <tbody>\n",
       "    <tr>\n",
       "      <th>0</th>\n",
       "      <td>2663</td>\n",
       "      <td>Hot</td>\n",
       "      <td>1039.0</td>\n",
       "      <td>1</td>\n",
       "      <td>Rashad Huseynli</td>\n",
       "      <td>2018-06-06</td>\n",
       "      <td>41-50</td>\n",
       "      <td>Woman</td>\n",
       "      <td>1001-1250</td>\n",
       "      <td>67.391304</td>\n",
       "    </tr>\n",
       "    <tr>\n",
       "      <th>1</th>\n",
       "      <td>3008</td>\n",
       "      <td>Hot</td>\n",
       "      <td>35.0</td>\n",
       "      <td>1</td>\n",
       "      <td>Elchin Asgarov</td>\n",
       "      <td>2019-02-05</td>\n",
       "      <td>15-30</td>\n",
       "      <td>Man</td>\n",
       "      <td>0-50</td>\n",
       "      <td>64.705882</td>\n",
       "    </tr>\n",
       "    <tr>\n",
       "      <th>2</th>\n",
       "      <td>2622</td>\n",
       "      <td>Hot</td>\n",
       "      <td>87.0</td>\n",
       "      <td>0</td>\n",
       "      <td>Orkhan Asgarov</td>\n",
       "      <td>2017-12-18</td>\n",
       "      <td>41-50</td>\n",
       "      <td>Man</td>\n",
       "      <td>51-100</td>\n",
       "      <td>61.290323</td>\n",
       "    </tr>\n",
       "    <tr>\n",
       "      <th>3</th>\n",
       "      <td>2657</td>\n",
       "      <td>Hot</td>\n",
       "      <td>17.0</td>\n",
       "      <td>1</td>\n",
       "      <td>Fidan Mammadli</td>\n",
       "      <td>2018-01-12</td>\n",
       "      <td>41-50</td>\n",
       "      <td>Man</td>\n",
       "      <td>0-50</td>\n",
       "      <td>64.285714</td>\n",
       "    </tr>\n",
       "    <tr>\n",
       "      <th>4</th>\n",
       "      <td>2908</td>\n",
       "      <td>Hot</td>\n",
       "      <td>1132.0</td>\n",
       "      <td>0</td>\n",
       "      <td>Orkhan Asgarov</td>\n",
       "      <td>2017-12-18</td>\n",
       "      <td>41-50</td>\n",
       "      <td>Woman</td>\n",
       "      <td>1001-1250</td>\n",
       "      <td>61.290323</td>\n",
       "    </tr>\n",
       "    <tr>\n",
       "      <th>...</th>\n",
       "      <td>...</td>\n",
       "      <td>...</td>\n",
       "      <td>...</td>\n",
       "      <td>...</td>\n",
       "      <td>...</td>\n",
       "      <td>...</td>\n",
       "      <td>...</td>\n",
       "      <td>...</td>\n",
       "      <td>...</td>\n",
       "      <td>...</td>\n",
       "    </tr>\n",
       "    <tr>\n",
       "      <th>405</th>\n",
       "      <td>3021</td>\n",
       "      <td>Hot</td>\n",
       "      <td>1215.0</td>\n",
       "      <td>0</td>\n",
       "      <td>Rufat Huseynov</td>\n",
       "      <td>2024-10-01</td>\n",
       "      <td>41-50</td>\n",
       "      <td>Man</td>\n",
       "      <td>1001-1250</td>\n",
       "      <td>37.500000</td>\n",
       "    </tr>\n",
       "    <tr>\n",
       "      <th>406</th>\n",
       "      <td>2262</td>\n",
       "      <td>Hot</td>\n",
       "      <td>19.0</td>\n",
       "      <td>1</td>\n",
       "      <td>Orkhan Asgarov</td>\n",
       "      <td>2017-12-18</td>\n",
       "      <td>41-50</td>\n",
       "      <td>Woman</td>\n",
       "      <td>0-50</td>\n",
       "      <td>61.290323</td>\n",
       "    </tr>\n",
       "    <tr>\n",
       "      <th>407</th>\n",
       "      <td>2835</td>\n",
       "      <td>Hot</td>\n",
       "      <td>56.0</td>\n",
       "      <td>1</td>\n",
       "      <td>Fuad Aliyev</td>\n",
       "      <td>2017-07-15</td>\n",
       "      <td>41-50</td>\n",
       "      <td>Man</td>\n",
       "      <td>51-100</td>\n",
       "      <td>61.111111</td>\n",
       "    </tr>\n",
       "    <tr>\n",
       "      <th>408</th>\n",
       "      <td>2698</td>\n",
       "      <td>Hot</td>\n",
       "      <td>691.0</td>\n",
       "      <td>1</td>\n",
       "      <td>Emin Ahmedov</td>\n",
       "      <td>2022-09-08</td>\n",
       "      <td>41-50</td>\n",
       "      <td>Woman</td>\n",
       "      <td>501-750</td>\n",
       "      <td>12.500000</td>\n",
       "    </tr>\n",
       "    <tr>\n",
       "      <th>409</th>\n",
       "      <td>2816</td>\n",
       "      <td>Hot</td>\n",
       "      <td>36.0</td>\n",
       "      <td>1</td>\n",
       "      <td>Elmir Mustafayev</td>\n",
       "      <td>2018-01-05</td>\n",
       "      <td>31-40</td>\n",
       "      <td>Woman</td>\n",
       "      <td>0-50</td>\n",
       "      <td>54.687500</td>\n",
       "    </tr>\n",
       "  </tbody>\n",
       "</table>\n",
       "<p>410 rows × 10 columns</p>\n",
       "</div>"
      ],
      "text/plain": [
       "     call_id call_type  response_time  call_result_id0     employee_name  \\\n",
       "0       2663       Hot         1039.0                1   Rashad Huseynli   \n",
       "1       3008       Hot           35.0                1    Elchin Asgarov   \n",
       "2       2622       Hot           87.0                0    Orkhan Asgarov   \n",
       "3       2657       Hot           17.0                1    Fidan Mammadli   \n",
       "4       2908       Hot         1132.0                0    Orkhan Asgarov   \n",
       "..       ...       ...            ...              ...               ...   \n",
       "405     3021       Hot         1215.0                0    Rufat Huseynov   \n",
       "406     2262       Hot           19.0                1    Orkhan Asgarov   \n",
       "407     2835       Hot           56.0                1       Fuad Aliyev   \n",
       "408     2698       Hot          691.0                1      Emin Ahmedov   \n",
       "409     2816       Hot           36.0                1  Elmir Mustafayev   \n",
       "\n",
       "    hired_date age_interval gender_name response_time_interval  \\\n",
       "0   2018-06-06        41-50       Woman              1001-1250   \n",
       "1   2019-02-05        15-30         Man                   0-50   \n",
       "2   2017-12-18        41-50         Man                 51-100   \n",
       "3   2018-01-12        41-50         Man                   0-50   \n",
       "4   2017-12-18        41-50       Woman              1001-1250   \n",
       "..         ...          ...         ...                    ...   \n",
       "405 2024-10-01        41-50         Man              1001-1250   \n",
       "406 2017-12-18        41-50       Woman                   0-50   \n",
       "407 2017-07-15        41-50         Man                 51-100   \n",
       "408 2022-09-08        41-50       Woman                501-750   \n",
       "409 2018-01-05        31-40       Woman                   0-50   \n",
       "\n",
       "     call_result_idsucces_rate  \n",
       "0                    67.391304  \n",
       "1                    64.705882  \n",
       "2                    61.290323  \n",
       "3                    64.285714  \n",
       "4                    61.290323  \n",
       "..                         ...  \n",
       "405                  37.500000  \n",
       "406                  61.290323  \n",
       "407                  61.111111  \n",
       "408                  12.500000  \n",
       "409                  54.687500  \n",
       "\n",
       "[410 rows x 10 columns]"
      ]
     },
     "execution_count": 101,
     "metadata": {},
     "output_type": "execute_result"
    }
   ],
   "source": [
    "hot_calls2 = hot_calls.merge(emp_succes, on='employee_name', suffixes=['0','succes_rate'])\n",
    "hot_calls2"
   ]
  },
  {
   "cell_type": "code",
   "execution_count": 105,
   "metadata": {},
   "outputs": [
    {
     "name": "stderr",
     "output_type": "stream",
     "text": [
      "C:\\Users\\zeyne\\AppData\\Local\\Temp\\ipykernel_16276\\2628929470.py:2: SettingWithCopyWarning: \n",
      "A value is trying to be set on a copy of a slice from a DataFrame.\n",
      "Try using .loc[row_indexer,col_indexer] = value instead\n",
      "\n",
      "See the caveats in the documentation: https://pandas.pydata.org/pandas-docs/stable/user_guide/indexing.html#returning-a-view-versus-a-copy\n",
      "  employee_ttest['succes'] = hot_calls2['call_result_idsucces_rate'].apply(lambda x : 1 if x > 50 else 0)\n"
     ]
    },
    {
     "data": {
      "text/html": [
       "<div>\n",
       "<style scoped>\n",
       "    .dataframe tbody tr th:only-of-type {\n",
       "        vertical-align: middle;\n",
       "    }\n",
       "\n",
       "    .dataframe tbody tr th {\n",
       "        vertical-align: top;\n",
       "    }\n",
       "\n",
       "    .dataframe thead th {\n",
       "        text-align: right;\n",
       "    }\n",
       "</style>\n",
       "<table border=\"1\" class=\"dataframe\">\n",
       "  <thead>\n",
       "    <tr style=\"text-align: right;\">\n",
       "      <th></th>\n",
       "      <th>employee_name</th>\n",
       "      <th>response_time</th>\n",
       "      <th>hired_date</th>\n",
       "      <th>succes</th>\n",
       "    </tr>\n",
       "  </thead>\n",
       "  <tbody>\n",
       "    <tr>\n",
       "      <th>0</th>\n",
       "      <td>Rashad Huseynli</td>\n",
       "      <td>1039.0</td>\n",
       "      <td>2018-06-06</td>\n",
       "      <td>1</td>\n",
       "    </tr>\n",
       "    <tr>\n",
       "      <th>1</th>\n",
       "      <td>Elchin Asgarov</td>\n",
       "      <td>35.0</td>\n",
       "      <td>2019-02-05</td>\n",
       "      <td>1</td>\n",
       "    </tr>\n",
       "    <tr>\n",
       "      <th>2</th>\n",
       "      <td>Orkhan Asgarov</td>\n",
       "      <td>87.0</td>\n",
       "      <td>2017-12-18</td>\n",
       "      <td>1</td>\n",
       "    </tr>\n",
       "    <tr>\n",
       "      <th>3</th>\n",
       "      <td>Fidan Mammadli</td>\n",
       "      <td>17.0</td>\n",
       "      <td>2018-01-12</td>\n",
       "      <td>1</td>\n",
       "    </tr>\n",
       "    <tr>\n",
       "      <th>4</th>\n",
       "      <td>Orkhan Asgarov</td>\n",
       "      <td>1132.0</td>\n",
       "      <td>2017-12-18</td>\n",
       "      <td>1</td>\n",
       "    </tr>\n",
       "    <tr>\n",
       "      <th>...</th>\n",
       "      <td>...</td>\n",
       "      <td>...</td>\n",
       "      <td>...</td>\n",
       "      <td>...</td>\n",
       "    </tr>\n",
       "    <tr>\n",
       "      <th>405</th>\n",
       "      <td>Rufat Huseynov</td>\n",
       "      <td>1215.0</td>\n",
       "      <td>2024-10-01</td>\n",
       "      <td>0</td>\n",
       "    </tr>\n",
       "    <tr>\n",
       "      <th>406</th>\n",
       "      <td>Orkhan Asgarov</td>\n",
       "      <td>19.0</td>\n",
       "      <td>2017-12-18</td>\n",
       "      <td>1</td>\n",
       "    </tr>\n",
       "    <tr>\n",
       "      <th>407</th>\n",
       "      <td>Fuad Aliyev</td>\n",
       "      <td>56.0</td>\n",
       "      <td>2017-07-15</td>\n",
       "      <td>1</td>\n",
       "    </tr>\n",
       "    <tr>\n",
       "      <th>408</th>\n",
       "      <td>Emin Ahmedov</td>\n",
       "      <td>691.0</td>\n",
       "      <td>2022-09-08</td>\n",
       "      <td>0</td>\n",
       "    </tr>\n",
       "    <tr>\n",
       "      <th>409</th>\n",
       "      <td>Elmir Mustafayev</td>\n",
       "      <td>36.0</td>\n",
       "      <td>2018-01-05</td>\n",
       "      <td>1</td>\n",
       "    </tr>\n",
       "  </tbody>\n",
       "</table>\n",
       "<p>410 rows × 4 columns</p>\n",
       "</div>"
      ],
      "text/plain": [
       "        employee_name  response_time hired_date  succes\n",
       "0     Rashad Huseynli         1039.0 2018-06-06       1\n",
       "1      Elchin Asgarov           35.0 2019-02-05       1\n",
       "2      Orkhan Asgarov           87.0 2017-12-18       1\n",
       "3      Fidan Mammadli           17.0 2018-01-12       1\n",
       "4      Orkhan Asgarov         1132.0 2017-12-18       1\n",
       "..                ...            ...        ...     ...\n",
       "405    Rufat Huseynov         1215.0 2024-10-01       0\n",
       "406    Orkhan Asgarov           19.0 2017-12-18       1\n",
       "407       Fuad Aliyev           56.0 2017-07-15       1\n",
       "408      Emin Ahmedov          691.0 2022-09-08       0\n",
       "409  Elmir Mustafayev           36.0 2018-01-05       1\n",
       "\n",
       "[410 rows x 4 columns]"
      ]
     },
     "execution_count": 105,
     "metadata": {},
     "output_type": "execute_result"
    }
   ],
   "source": [
    "employee_ttest = hot_calls2[['employee_name','response_time','hired_date']]\n",
    "employee_ttest['succes'] = hot_calls2['call_result_idsucces_rate'].apply(lambda x : 1 if x > 50 else 0)\n",
    "employee_ttest"
   ]
  },
  {
   "cell_type": "code",
   "execution_count": 106,
   "metadata": {},
   "outputs": [
    {
     "data": {
      "text/html": [
       "<div>\n",
       "<style scoped>\n",
       "    .dataframe tbody tr th:only-of-type {\n",
       "        vertical-align: middle;\n",
       "    }\n",
       "\n",
       "    .dataframe tbody tr th {\n",
       "        vertical-align: top;\n",
       "    }\n",
       "\n",
       "    .dataframe thead th {\n",
       "        text-align: right;\n",
       "    }\n",
       "</style>\n",
       "<table border=\"1\" class=\"dataframe\">\n",
       "  <thead>\n",
       "    <tr style=\"text-align: right;\">\n",
       "      <th></th>\n",
       "      <th>employee_name</th>\n",
       "      <th>call_result_id</th>\n",
       "    </tr>\n",
       "  </thead>\n",
       "  <tbody>\n",
       "    <tr>\n",
       "      <th>0</th>\n",
       "      <td>Elchin Asgarov</td>\n",
       "      <td>64.705882</td>\n",
       "    </tr>\n",
       "    <tr>\n",
       "      <th>1</th>\n",
       "      <td>Elmir Mustafayev</td>\n",
       "      <td>54.687500</td>\n",
       "    </tr>\n",
       "    <tr>\n",
       "      <th>2</th>\n",
       "      <td>Emin Ahmedov</td>\n",
       "      <td>12.500000</td>\n",
       "    </tr>\n",
       "    <tr>\n",
       "      <th>3</th>\n",
       "      <td>Fidan Mammadli</td>\n",
       "      <td>64.285714</td>\n",
       "    </tr>\n",
       "    <tr>\n",
       "      <th>4</th>\n",
       "      <td>Fuad Aliyev</td>\n",
       "      <td>61.111111</td>\n",
       "    </tr>\n",
       "    <tr>\n",
       "      <th>5</th>\n",
       "      <td>Lamiya Hajiyeva</td>\n",
       "      <td>22.222222</td>\n",
       "    </tr>\n",
       "    <tr>\n",
       "      <th>6</th>\n",
       "      <td>Orkhan Asgarov</td>\n",
       "      <td>61.290323</td>\n",
       "    </tr>\n",
       "    <tr>\n",
       "      <th>7</th>\n",
       "      <td>Rashad Huseynli</td>\n",
       "      <td>67.391304</td>\n",
       "    </tr>\n",
       "    <tr>\n",
       "      <th>8</th>\n",
       "      <td>Rufat Huseynov</td>\n",
       "      <td>37.500000</td>\n",
       "    </tr>\n",
       "    <tr>\n",
       "      <th>9</th>\n",
       "      <td>Seymur Huseynov</td>\n",
       "      <td>68.750000</td>\n",
       "    </tr>\n",
       "  </tbody>\n",
       "</table>\n",
       "</div>"
      ],
      "text/plain": [
       "      employee_name  call_result_id\n",
       "0    Elchin Asgarov       64.705882\n",
       "1  Elmir Mustafayev       54.687500\n",
       "2      Emin Ahmedov       12.500000\n",
       "3    Fidan Mammadli       64.285714\n",
       "4       Fuad Aliyev       61.111111\n",
       "5   Lamiya Hajiyeva       22.222222\n",
       "6    Orkhan Asgarov       61.290323\n",
       "7   Rashad Huseynli       67.391304\n",
       "8    Rufat Huseynov       37.500000\n",
       "9   Seymur Huseynov       68.750000"
      ]
     },
     "execution_count": 106,
     "metadata": {},
     "output_type": "execute_result"
    }
   ],
   "source": [
    "emp_succes"
   ]
  },
  {
   "cell_type": "code",
   "execution_count": 107,
   "metadata": {},
   "outputs": [],
   "source": [
    "employee_ttest = employee_ttest.merge(emp_succes, on='employee_name')"
   ]
  },
  {
   "cell_type": "code",
   "execution_count": 108,
   "metadata": {},
   "outputs": [
    {
     "data": {
      "text/html": [
       "<div>\n",
       "<style scoped>\n",
       "    .dataframe tbody tr th:only-of-type {\n",
       "        vertical-align: middle;\n",
       "    }\n",
       "\n",
       "    .dataframe tbody tr th {\n",
       "        vertical-align: top;\n",
       "    }\n",
       "\n",
       "    .dataframe thead th {\n",
       "        text-align: right;\n",
       "    }\n",
       "</style>\n",
       "<table border=\"1\" class=\"dataframe\">\n",
       "  <thead>\n",
       "    <tr style=\"text-align: right;\">\n",
       "      <th></th>\n",
       "      <th>employee_name</th>\n",
       "      <th>response_time</th>\n",
       "      <th>hired_date</th>\n",
       "      <th>succes</th>\n",
       "      <th>call_result_id</th>\n",
       "    </tr>\n",
       "  </thead>\n",
       "  <tbody>\n",
       "    <tr>\n",
       "      <th>0</th>\n",
       "      <td>Rashad Huseynli</td>\n",
       "      <td>1039.0</td>\n",
       "      <td>2018-06-06</td>\n",
       "      <td>1</td>\n",
       "      <td>67.391304</td>\n",
       "    </tr>\n",
       "    <tr>\n",
       "      <th>1</th>\n",
       "      <td>Elchin Asgarov</td>\n",
       "      <td>35.0</td>\n",
       "      <td>2019-02-05</td>\n",
       "      <td>1</td>\n",
       "      <td>64.705882</td>\n",
       "    </tr>\n",
       "    <tr>\n",
       "      <th>2</th>\n",
       "      <td>Orkhan Asgarov</td>\n",
       "      <td>87.0</td>\n",
       "      <td>2017-12-18</td>\n",
       "      <td>1</td>\n",
       "      <td>61.290323</td>\n",
       "    </tr>\n",
       "    <tr>\n",
       "      <th>3</th>\n",
       "      <td>Fidan Mammadli</td>\n",
       "      <td>17.0</td>\n",
       "      <td>2018-01-12</td>\n",
       "      <td>1</td>\n",
       "      <td>64.285714</td>\n",
       "    </tr>\n",
       "    <tr>\n",
       "      <th>4</th>\n",
       "      <td>Orkhan Asgarov</td>\n",
       "      <td>1132.0</td>\n",
       "      <td>2017-12-18</td>\n",
       "      <td>1</td>\n",
       "      <td>61.290323</td>\n",
       "    </tr>\n",
       "    <tr>\n",
       "      <th>...</th>\n",
       "      <td>...</td>\n",
       "      <td>...</td>\n",
       "      <td>...</td>\n",
       "      <td>...</td>\n",
       "      <td>...</td>\n",
       "    </tr>\n",
       "    <tr>\n",
       "      <th>405</th>\n",
       "      <td>Rufat Huseynov</td>\n",
       "      <td>1215.0</td>\n",
       "      <td>2024-10-01</td>\n",
       "      <td>0</td>\n",
       "      <td>37.500000</td>\n",
       "    </tr>\n",
       "    <tr>\n",
       "      <th>406</th>\n",
       "      <td>Orkhan Asgarov</td>\n",
       "      <td>19.0</td>\n",
       "      <td>2017-12-18</td>\n",
       "      <td>1</td>\n",
       "      <td>61.290323</td>\n",
       "    </tr>\n",
       "    <tr>\n",
       "      <th>407</th>\n",
       "      <td>Fuad Aliyev</td>\n",
       "      <td>56.0</td>\n",
       "      <td>2017-07-15</td>\n",
       "      <td>1</td>\n",
       "      <td>61.111111</td>\n",
       "    </tr>\n",
       "    <tr>\n",
       "      <th>408</th>\n",
       "      <td>Emin Ahmedov</td>\n",
       "      <td>691.0</td>\n",
       "      <td>2022-09-08</td>\n",
       "      <td>0</td>\n",
       "      <td>12.500000</td>\n",
       "    </tr>\n",
       "    <tr>\n",
       "      <th>409</th>\n",
       "      <td>Elmir Mustafayev</td>\n",
       "      <td>36.0</td>\n",
       "      <td>2018-01-05</td>\n",
       "      <td>1</td>\n",
       "      <td>54.687500</td>\n",
       "    </tr>\n",
       "  </tbody>\n",
       "</table>\n",
       "<p>410 rows × 5 columns</p>\n",
       "</div>"
      ],
      "text/plain": [
       "        employee_name  response_time hired_date  succes  call_result_id\n",
       "0     Rashad Huseynli         1039.0 2018-06-06       1       67.391304\n",
       "1      Elchin Asgarov           35.0 2019-02-05       1       64.705882\n",
       "2      Orkhan Asgarov           87.0 2017-12-18       1       61.290323\n",
       "3      Fidan Mammadli           17.0 2018-01-12       1       64.285714\n",
       "4      Orkhan Asgarov         1132.0 2017-12-18       1       61.290323\n",
       "..                ...            ...        ...     ...             ...\n",
       "405    Rufat Huseynov         1215.0 2024-10-01       0       37.500000\n",
       "406    Orkhan Asgarov           19.0 2017-12-18       1       61.290323\n",
       "407       Fuad Aliyev           56.0 2017-07-15       1       61.111111\n",
       "408      Emin Ahmedov          691.0 2022-09-08       0       12.500000\n",
       "409  Elmir Mustafayev           36.0 2018-01-05       1       54.687500\n",
       "\n",
       "[410 rows x 5 columns]"
      ]
     },
     "execution_count": 108,
     "metadata": {},
     "output_type": "execute_result"
    }
   ],
   "source": [
    "employee_ttest"
   ]
  },
  {
   "cell_type": "code",
   "execution_count": 110,
   "metadata": {},
   "outputs": [
    {
     "data": {
      "text/html": [
       "<div>\n",
       "<style scoped>\n",
       "    .dataframe tbody tr th:only-of-type {\n",
       "        vertical-align: middle;\n",
       "    }\n",
       "\n",
       "    .dataframe tbody tr th {\n",
       "        vertical-align: top;\n",
       "    }\n",
       "\n",
       "    .dataframe thead th {\n",
       "        text-align: right;\n",
       "    }\n",
       "</style>\n",
       "<table border=\"1\" class=\"dataframe\">\n",
       "  <thead>\n",
       "    <tr style=\"text-align: right;\">\n",
       "      <th></th>\n",
       "      <th>employee_name</th>\n",
       "      <th>response_time</th>\n",
       "      <th>hired_date</th>\n",
       "      <th>succes</th>\n",
       "      <th>call_result_id</th>\n",
       "      <th>longer_response_time</th>\n",
       "    </tr>\n",
       "  </thead>\n",
       "  <tbody>\n",
       "    <tr>\n",
       "      <th>0</th>\n",
       "      <td>Rashad Huseynli</td>\n",
       "      <td>1039.0</td>\n",
       "      <td>2018-06-06</td>\n",
       "      <td>1</td>\n",
       "      <td>67.391304</td>\n",
       "      <td>1</td>\n",
       "    </tr>\n",
       "    <tr>\n",
       "      <th>1</th>\n",
       "      <td>Elchin Asgarov</td>\n",
       "      <td>35.0</td>\n",
       "      <td>2019-02-05</td>\n",
       "      <td>1</td>\n",
       "      <td>64.705882</td>\n",
       "      <td>0</td>\n",
       "    </tr>\n",
       "    <tr>\n",
       "      <th>2</th>\n",
       "      <td>Orkhan Asgarov</td>\n",
       "      <td>87.0</td>\n",
       "      <td>2017-12-18</td>\n",
       "      <td>1</td>\n",
       "      <td>61.290323</td>\n",
       "      <td>0</td>\n",
       "    </tr>\n",
       "    <tr>\n",
       "      <th>3</th>\n",
       "      <td>Fidan Mammadli</td>\n",
       "      <td>17.0</td>\n",
       "      <td>2018-01-12</td>\n",
       "      <td>1</td>\n",
       "      <td>64.285714</td>\n",
       "      <td>0</td>\n",
       "    </tr>\n",
       "    <tr>\n",
       "      <th>4</th>\n",
       "      <td>Orkhan Asgarov</td>\n",
       "      <td>1132.0</td>\n",
       "      <td>2017-12-18</td>\n",
       "      <td>1</td>\n",
       "      <td>61.290323</td>\n",
       "      <td>1</td>\n",
       "    </tr>\n",
       "    <tr>\n",
       "      <th>...</th>\n",
       "      <td>...</td>\n",
       "      <td>...</td>\n",
       "      <td>...</td>\n",
       "      <td>...</td>\n",
       "      <td>...</td>\n",
       "      <td>...</td>\n",
       "    </tr>\n",
       "    <tr>\n",
       "      <th>405</th>\n",
       "      <td>Rufat Huseynov</td>\n",
       "      <td>1215.0</td>\n",
       "      <td>2024-10-01</td>\n",
       "      <td>0</td>\n",
       "      <td>37.500000</td>\n",
       "      <td>1</td>\n",
       "    </tr>\n",
       "    <tr>\n",
       "      <th>406</th>\n",
       "      <td>Orkhan Asgarov</td>\n",
       "      <td>19.0</td>\n",
       "      <td>2017-12-18</td>\n",
       "      <td>1</td>\n",
       "      <td>61.290323</td>\n",
       "      <td>0</td>\n",
       "    </tr>\n",
       "    <tr>\n",
       "      <th>407</th>\n",
       "      <td>Fuad Aliyev</td>\n",
       "      <td>56.0</td>\n",
       "      <td>2017-07-15</td>\n",
       "      <td>1</td>\n",
       "      <td>61.111111</td>\n",
       "      <td>0</td>\n",
       "    </tr>\n",
       "    <tr>\n",
       "      <th>408</th>\n",
       "      <td>Emin Ahmedov</td>\n",
       "      <td>691.0</td>\n",
       "      <td>2022-09-08</td>\n",
       "      <td>0</td>\n",
       "      <td>12.500000</td>\n",
       "      <td>1</td>\n",
       "    </tr>\n",
       "    <tr>\n",
       "      <th>409</th>\n",
       "      <td>Elmir Mustafayev</td>\n",
       "      <td>36.0</td>\n",
       "      <td>2018-01-05</td>\n",
       "      <td>1</td>\n",
       "      <td>54.687500</td>\n",
       "      <td>0</td>\n",
       "    </tr>\n",
       "  </tbody>\n",
       "</table>\n",
       "<p>410 rows × 6 columns</p>\n",
       "</div>"
      ],
      "text/plain": [
       "        employee_name  response_time hired_date  succes  call_result_id  \\\n",
       "0     Rashad Huseynli         1039.0 2018-06-06       1       67.391304   \n",
       "1      Elchin Asgarov           35.0 2019-02-05       1       64.705882   \n",
       "2      Orkhan Asgarov           87.0 2017-12-18       1       61.290323   \n",
       "3      Fidan Mammadli           17.0 2018-01-12       1       64.285714   \n",
       "4      Orkhan Asgarov         1132.0 2017-12-18       1       61.290323   \n",
       "..                ...            ...        ...     ...             ...   \n",
       "405    Rufat Huseynov         1215.0 2024-10-01       0       37.500000   \n",
       "406    Orkhan Asgarov           19.0 2017-12-18       1       61.290323   \n",
       "407       Fuad Aliyev           56.0 2017-07-15       1       61.111111   \n",
       "408      Emin Ahmedov          691.0 2022-09-08       0       12.500000   \n",
       "409  Elmir Mustafayev           36.0 2018-01-05       1       54.687500   \n",
       "\n",
       "     longer_response_time  \n",
       "0                       1  \n",
       "1                       0  \n",
       "2                       0  \n",
       "3                       0  \n",
       "4                       1  \n",
       "..                    ...  \n",
       "405                     1  \n",
       "406                     0  \n",
       "407                     0  \n",
       "408                     1  \n",
       "409                     0  \n",
       "\n",
       "[410 rows x 6 columns]"
      ]
     },
     "execution_count": 110,
     "metadata": {},
     "output_type": "execute_result"
    }
   ],
   "source": [
    "employee_ttest['longer_response_time'] = employee_ttest['response_time'].apply(lambda x : 1 if x > employee_ttest['response_time'].median() else 0)\n",
    "employee_ttest"
   ]
  },
  {
   "cell_type": "code",
   "execution_count": 111,
   "metadata": {},
   "outputs": [
    {
     "data": {
      "text/plain": [
       "<Axes: xlabel='longer_response_time'>"
      ]
     },
     "execution_count": 111,
     "metadata": {},
     "output_type": "execute_result"
    },
    {
     "data": {
      "image/png": "[encoded data removed]",
      "text/plain": [
       "<Figure size 640x480 with 1 Axes>"
      ]
     },
     "metadata": {},
     "output_type": "display_data"
    }
   ],
   "source": [
    "pd.DataFrame(employee_ttest['call_result_id'].groupby(employee_ttest['longer_response_time']).mean()).plot(kind='bar')"
   ]
  },
  {
   "cell_type": "markdown",
   "metadata": {},
   "source": [
    "Bu qrafikdən görünür ki, zənglərə gec və tez cavab verən işçilərimizin uğur faizi arasında çox az bir fərq var. Bu fərqin həqiqətən də əhəmiyyətli olduğunu, yəni təsadüf nəticəsində yaranmadığını test etdik"
   ]
  },
  {
   "cell_type": "code",
   "execution_count": 113,
   "metadata": {},
   "outputs": [
    {
     "data": {
      "text/plain": [
       "np.float64(0.00698562765102905)"
      ]
     },
     "execution_count": 113,
     "metadata": {},
     "output_type": "execute_result"
    }
   ],
   "source": [
    "stats.ttest_ind(employee_ttest[employee_ttest['longer_response_time']==0].call_result_id, employee_ttest[employee_ttest['longer_response_time']==1].call_result_id, equal_var=False,alternative='greater').pvalue"
   ]
  },
  {
   "cell_type": "markdown",
   "metadata": {},
   "source": [
    "P-value bu müşahidə etdiyimiz fərqin nə qədər əhəmiyyətli olduğunu ölçməyə yarayır. Əgər 0.05-dən kiçik alınırsa, onda fərq əhəmiyyətlidir. Bizdə də p-value 0.006 alınıb, 0.05-dən kiçikdir. Buradan belə bir nəticə çıxır ki, zənglərə gec cavab verən işçilərimizin uğur faizi zəngə tez cavab verənlərinkindən əhəmiyyətli dərəcədə aşağıdır."
   ]
  },
  {
   "cell_type": "markdown",
   "metadata": {},
   "source": [
    "Permutation test"
   ]
  },
  {
   "cell_type": "code",
   "execution_count": 66,
   "metadata": {},
   "outputs": [],
   "source": [
    "import random"
   ]
  },
  {
   "cell_type": "code",
   "execution_count": 115,
   "metadata": {},
   "outputs": [
    {
     "name": "stdout",
     "output_type": "stream",
     "text": [
      "2.4687732081433538\n"
     ]
    }
   ],
   "source": [
    "mean_a = employee_ttest[employee_ttest.longer_response_time == 1].call_result_id.mean()\n",
    "mean_b = employee_ttest[employee_ttest.longer_response_time == 0].call_result_id.mean()\n",
    "print(mean_b - mean_a)"
   ]
  },
  {
   "cell_type": "code",
   "execution_count": 68,
   "metadata": {},
   "outputs": [],
   "source": [
    "def perm_fun(x, nA, nB):\n",
    "    n = nA + nB\n",
    "    idx_B = set(random.sample(range(n), nB))\n",
    "    idx_A = set(range(n)) - idx_B\n",
    "    return x.loc[list(idx_B)].mean() - x.loc[list(idx_A)].mean()\n",
    "nA = employee_ttest[employee_ttest.longer_response_time == 1].shape[0]\n",
    "nB = employee_ttest[employee_ttest.longer_response_time == 0].shape[0]"
   ]
  },
  {
   "cell_type": "code",
   "execution_count": 69,
   "metadata": {},
   "outputs": [
    {
     "data": {
      "image/png": "[encoded data removed]",
      "text/plain": [
       "<Figure size 500x500 with 1 Axes>"
      ]
     },
     "metadata": {},
     "output_type": "display_data"
    }
   ],
   "source": [
    "random.seed(1)\n",
    "perm_diffs = [perm_fun(employee_ttest.call_result, nA, nB) for _ in range(1000)]\n",
    "\n",
    "fig, ax = plt.subplots(figsize=(5, 5))\n",
    "ax.hist(perm_diffs, bins=11, rwidth=0.9)\n",
    "ax.axvline(x = mean_b - mean_a, color='black', lw=2)\n",
    "ax.text(1.5, 190, 'Observed\\ndifference', bbox={'facecolor':'white'})\n",
    "ax.set_xlabel('Response time differences (in seconds)')\n",
    "ax.set_ylabel('Frequency')\n",
    "\n",
    "plt.tight_layout()\n",
    "plt.show()"
   ]
  },
  {
   "cell_type": "code",
   "execution_count": 70,
   "metadata": {},
   "outputs": [
    {
     "name": "stdout",
     "output_type": "stream",
     "text": [
      "0.031\n"
     ]
    }
   ],
   "source": [
    "perm_diffs = np.array(perm_diffs)\n",
    "print(np.mean(perm_diffs > mean_b - mean_a))"
   ]
  },
  {
   "cell_type": "markdown",
   "metadata": {},
   "source": [
    "P value is less than 0.05. It means that employees with shorter response time have significantly more success rate than employees with longer response time"
   ]
  },
  {
   "cell_type": "markdown",
   "metadata": {},
   "source": [
    "**Average response time of employees**"
   ]
  },
  {
   "cell_type": "code",
   "execution_count": 71,
   "metadata": {},
   "outputs": [
    {
     "data": {
      "text/plain": [
       "<Axes: xlabel='employee_name'>"
      ]
     },
     "execution_count": 71,
     "metadata": {},
     "output_type": "execute_result"
    },
    {
     "data": {
      "image/png": "[encoded data removed]",
      "text/plain": [
       "<Figure size 640x480 with 1 Axes>"
      ]
     },
     "metadata": {},
     "output_type": "display_data"
    }
   ],
   "source": [
    "pd.DataFrame(hot_calls['response_time'].groupby(hot_calls['employee_name']).median()).plot(kind='bar')"
   ]
  },
  {
   "cell_type": "markdown",
   "metadata": {},
   "source": [
    "**Call success rate can also change due to employees' job experience.** We assume that employees with more job experience have higher conversion(success) rate. Now we will test this hypothesis."
   ]
  },
  {
   "cell_type": "markdown",
   "metadata": {},
   "source": [
    "**Test for hot calls**"
   ]
  },
  {
   "cell_type": "code",
   "execution_count": 72,
   "metadata": {},
   "outputs": [
    {
     "data": {
      "text/html": [
       "<div>\n",
       "<style scoped>\n",
       "    .dataframe tbody tr th:only-of-type {\n",
       "        vertical-align: middle;\n",
       "    }\n",
       "\n",
       "    .dataframe tbody tr th {\n",
       "        vertical-align: top;\n",
       "    }\n",
       "\n",
       "    .dataframe thead th {\n",
       "        text-align: right;\n",
       "    }\n",
       "</style>\n",
       "<table border=\"1\" class=\"dataframe\">\n",
       "  <thead>\n",
       "    <tr style=\"text-align: right;\">\n",
       "      <th></th>\n",
       "      <th>employee_name</th>\n",
       "      <th>response_time</th>\n",
       "      <th>hired_date</th>\n",
       "      <th>succes</th>\n",
       "      <th>call_result</th>\n",
       "      <th>longer_response_time</th>\n",
       "    </tr>\n",
       "  </thead>\n",
       "  <tbody>\n",
       "    <tr>\n",
       "      <th>0</th>\n",
       "      <td>Elchin Asgarov</td>\n",
       "      <td>91.0</td>\n",
       "      <td>2019-02-05</td>\n",
       "      <td>1</td>\n",
       "      <td>63.636364</td>\n",
       "      <td>0</td>\n",
       "    </tr>\n",
       "    <tr>\n",
       "      <th>1</th>\n",
       "      <td>Emin Ahmedov</td>\n",
       "      <td>119.0</td>\n",
       "      <td>2022-09-08</td>\n",
       "      <td>0</td>\n",
       "      <td>12.500000</td>\n",
       "      <td>1</td>\n",
       "    </tr>\n",
       "    <tr>\n",
       "      <th>2</th>\n",
       "      <td>Rashad Huseynli</td>\n",
       "      <td>683.0</td>\n",
       "      <td>2018-06-06</td>\n",
       "      <td>1</td>\n",
       "      <td>65.116279</td>\n",
       "      <td>1</td>\n",
       "    </tr>\n",
       "    <tr>\n",
       "      <th>3</th>\n",
       "      <td>Orkhan Asgarov</td>\n",
       "      <td>109.0</td>\n",
       "      <td>2017-12-18</td>\n",
       "      <td>1</td>\n",
       "      <td>60.240964</td>\n",
       "      <td>1</td>\n",
       "    </tr>\n",
       "    <tr>\n",
       "      <th>4</th>\n",
       "      <td>Rashad Huseynli</td>\n",
       "      <td>1010.0</td>\n",
       "      <td>2018-06-06</td>\n",
       "      <td>1</td>\n",
       "      <td>65.116279</td>\n",
       "      <td>1</td>\n",
       "    </tr>\n",
       "    <tr>\n",
       "      <th>...</th>\n",
       "      <td>...</td>\n",
       "      <td>...</td>\n",
       "      <td>...</td>\n",
       "      <td>...</td>\n",
       "      <td>...</td>\n",
       "      <td>...</td>\n",
       "    </tr>\n",
       "    <tr>\n",
       "      <th>379</th>\n",
       "      <td>Fuad Aliyev</td>\n",
       "      <td>753.0</td>\n",
       "      <td>2017-07-15</td>\n",
       "      <td>1</td>\n",
       "      <td>61.627907</td>\n",
       "      <td>1</td>\n",
       "    </tr>\n",
       "    <tr>\n",
       "      <th>380</th>\n",
       "      <td>Orkhan Asgarov</td>\n",
       "      <td>50.0</td>\n",
       "      <td>2017-12-18</td>\n",
       "      <td>1</td>\n",
       "      <td>60.240964</td>\n",
       "      <td>0</td>\n",
       "    </tr>\n",
       "    <tr>\n",
       "      <th>381</th>\n",
       "      <td>Fuad Aliyev</td>\n",
       "      <td>1226.0</td>\n",
       "      <td>2017-07-15</td>\n",
       "      <td>1</td>\n",
       "      <td>61.627907</td>\n",
       "      <td>1</td>\n",
       "    </tr>\n",
       "    <tr>\n",
       "      <th>382</th>\n",
       "      <td>Orkhan Asgarov</td>\n",
       "      <td>11.0</td>\n",
       "      <td>2017-12-18</td>\n",
       "      <td>1</td>\n",
       "      <td>60.240964</td>\n",
       "      <td>0</td>\n",
       "    </tr>\n",
       "    <tr>\n",
       "      <th>383</th>\n",
       "      <td>Rashad Huseynli</td>\n",
       "      <td>422.0</td>\n",
       "      <td>2018-06-06</td>\n",
       "      <td>1</td>\n",
       "      <td>65.116279</td>\n",
       "      <td>1</td>\n",
       "    </tr>\n",
       "  </tbody>\n",
       "</table>\n",
       "<p>384 rows × 6 columns</p>\n",
       "</div>"
      ],
      "text/plain": [
       "       employee_name  response_time hired_date  succes  call_result  \\\n",
       "0     Elchin Asgarov           91.0 2019-02-05       1    63.636364   \n",
       "1       Emin Ahmedov          119.0 2022-09-08       0    12.500000   \n",
       "2    Rashad Huseynli          683.0 2018-06-06       1    65.116279   \n",
       "3     Orkhan Asgarov          109.0 2017-12-18       1    60.240964   \n",
       "4    Rashad Huseynli         1010.0 2018-06-06       1    65.116279   \n",
       "..               ...            ...        ...     ...          ...   \n",
       "379      Fuad Aliyev          753.0 2017-07-15       1    61.627907   \n",
       "380   Orkhan Asgarov           50.0 2017-12-18       1    60.240964   \n",
       "381      Fuad Aliyev         1226.0 2017-07-15       1    61.627907   \n",
       "382   Orkhan Asgarov           11.0 2017-12-18       1    60.240964   \n",
       "383  Rashad Huseynli          422.0 2018-06-06       1    65.116279   \n",
       "\n",
       "     longer_response_time  \n",
       "0                       0  \n",
       "1                       1  \n",
       "2                       1  \n",
       "3                       1  \n",
       "4                       1  \n",
       "..                    ...  \n",
       "379                     1  \n",
       "380                     0  \n",
       "381                     1  \n",
       "382                     0  \n",
       "383                     1  \n",
       "\n",
       "[384 rows x 6 columns]"
      ]
     },
     "execution_count": 72,
     "metadata": {},
     "output_type": "execute_result"
    }
   ],
   "source": [
    "employee_ttest"
   ]
  },
  {
   "cell_type": "code",
   "execution_count": 73,
   "metadata": {},
   "outputs": [
    {
     "data": {
      "text/html": [
       "<div>\n",
       "<style scoped>\n",
       "    .dataframe tbody tr th:only-of-type {\n",
       "        vertical-align: middle;\n",
       "    }\n",
       "\n",
       "    .dataframe tbody tr th {\n",
       "        vertical-align: top;\n",
       "    }\n",
       "\n",
       "    .dataframe thead th {\n",
       "        text-align: right;\n",
       "    }\n",
       "</style>\n",
       "<table border=\"1\" class=\"dataframe\">\n",
       "  <thead>\n",
       "    <tr style=\"text-align: right;\">\n",
       "      <th></th>\n",
       "      <th>employee_name</th>\n",
       "      <th>response_time</th>\n",
       "      <th>hired_date</th>\n",
       "      <th>succes</th>\n",
       "      <th>call_result</th>\n",
       "      <th>longer_response_time</th>\n",
       "      <th>employee_experience</th>\n",
       "    </tr>\n",
       "  </thead>\n",
       "  <tbody>\n",
       "    <tr>\n",
       "      <th>0</th>\n",
       "      <td>Elchin Asgarov</td>\n",
       "      <td>91.0</td>\n",
       "      <td>2019-02-05</td>\n",
       "      <td>1</td>\n",
       "      <td>63.636364</td>\n",
       "      <td>0</td>\n",
       "      <td>5</td>\n",
       "    </tr>\n",
       "    <tr>\n",
       "      <th>1</th>\n",
       "      <td>Emin Ahmedov</td>\n",
       "      <td>119.0</td>\n",
       "      <td>2022-09-08</td>\n",
       "      <td>0</td>\n",
       "      <td>12.500000</td>\n",
       "      <td>1</td>\n",
       "      <td>2</td>\n",
       "    </tr>\n",
       "    <tr>\n",
       "      <th>2</th>\n",
       "      <td>Rashad Huseynli</td>\n",
       "      <td>683.0</td>\n",
       "      <td>2018-06-06</td>\n",
       "      <td>1</td>\n",
       "      <td>65.116279</td>\n",
       "      <td>1</td>\n",
       "      <td>6</td>\n",
       "    </tr>\n",
       "    <tr>\n",
       "      <th>3</th>\n",
       "      <td>Orkhan Asgarov</td>\n",
       "      <td>109.0</td>\n",
       "      <td>2017-12-18</td>\n",
       "      <td>1</td>\n",
       "      <td>60.240964</td>\n",
       "      <td>1</td>\n",
       "      <td>7</td>\n",
       "    </tr>\n",
       "    <tr>\n",
       "      <th>4</th>\n",
       "      <td>Rashad Huseynli</td>\n",
       "      <td>1010.0</td>\n",
       "      <td>2018-06-06</td>\n",
       "      <td>1</td>\n",
       "      <td>65.116279</td>\n",
       "      <td>1</td>\n",
       "      <td>6</td>\n",
       "    </tr>\n",
       "    <tr>\n",
       "      <th>...</th>\n",
       "      <td>...</td>\n",
       "      <td>...</td>\n",
       "      <td>...</td>\n",
       "      <td>...</td>\n",
       "      <td>...</td>\n",
       "      <td>...</td>\n",
       "      <td>...</td>\n",
       "    </tr>\n",
       "    <tr>\n",
       "      <th>379</th>\n",
       "      <td>Fuad Aliyev</td>\n",
       "      <td>753.0</td>\n",
       "      <td>2017-07-15</td>\n",
       "      <td>1</td>\n",
       "      <td>61.627907</td>\n",
       "      <td>1</td>\n",
       "      <td>7</td>\n",
       "    </tr>\n",
       "    <tr>\n",
       "      <th>380</th>\n",
       "      <td>Orkhan Asgarov</td>\n",
       "      <td>50.0</td>\n",
       "      <td>2017-12-18</td>\n",
       "      <td>1</td>\n",
       "      <td>60.240964</td>\n",
       "      <td>0</td>\n",
       "      <td>7</td>\n",
       "    </tr>\n",
       "    <tr>\n",
       "      <th>381</th>\n",
       "      <td>Fuad Aliyev</td>\n",
       "      <td>1226.0</td>\n",
       "      <td>2017-07-15</td>\n",
       "      <td>1</td>\n",
       "      <td>61.627907</td>\n",
       "      <td>1</td>\n",
       "      <td>7</td>\n",
       "    </tr>\n",
       "    <tr>\n",
       "      <th>382</th>\n",
       "      <td>Orkhan Asgarov</td>\n",
       "      <td>11.0</td>\n",
       "      <td>2017-12-18</td>\n",
       "      <td>1</td>\n",
       "      <td>60.240964</td>\n",
       "      <td>0</td>\n",
       "      <td>7</td>\n",
       "    </tr>\n",
       "    <tr>\n",
       "      <th>383</th>\n",
       "      <td>Rashad Huseynli</td>\n",
       "      <td>422.0</td>\n",
       "      <td>2018-06-06</td>\n",
       "      <td>1</td>\n",
       "      <td>65.116279</td>\n",
       "      <td>1</td>\n",
       "      <td>6</td>\n",
       "    </tr>\n",
       "  </tbody>\n",
       "</table>\n",
       "<p>384 rows × 7 columns</p>\n",
       "</div>"
      ],
      "text/plain": [
       "       employee_name  response_time hired_date  succes  call_result  \\\n",
       "0     Elchin Asgarov           91.0 2019-02-05       1    63.636364   \n",
       "1       Emin Ahmedov          119.0 2022-09-08       0    12.500000   \n",
       "2    Rashad Huseynli          683.0 2018-06-06       1    65.116279   \n",
       "3     Orkhan Asgarov          109.0 2017-12-18       1    60.240964   \n",
       "4    Rashad Huseynli         1010.0 2018-06-06       1    65.116279   \n",
       "..               ...            ...        ...     ...          ...   \n",
       "379      Fuad Aliyev          753.0 2017-07-15       1    61.627907   \n",
       "380   Orkhan Asgarov           50.0 2017-12-18       1    60.240964   \n",
       "381      Fuad Aliyev         1226.0 2017-07-15       1    61.627907   \n",
       "382   Orkhan Asgarov           11.0 2017-12-18       1    60.240964   \n",
       "383  Rashad Huseynli          422.0 2018-06-06       1    65.116279   \n",
       "\n",
       "     longer_response_time  employee_experience  \n",
       "0                       0                    5  \n",
       "1                       1                    2  \n",
       "2                       1                    6  \n",
       "3                       1                    7  \n",
       "4                       1                    6  \n",
       "..                    ...                  ...  \n",
       "379                     1                    7  \n",
       "380                     0                    7  \n",
       "381                     1                    7  \n",
       "382                     0                    7  \n",
       "383                     1                    6  \n",
       "\n",
       "[384 rows x 7 columns]"
      ]
     },
     "execution_count": 73,
     "metadata": {},
     "output_type": "execute_result"
    }
   ],
   "source": [
    "employee_ttest['employee_experience'] = 2024 - employee_ttest['hired_date'].apply(lambda x:x.year)\n",
    "employee_ttest"
   ]
  },
  {
   "cell_type": "code",
   "execution_count": 74,
   "metadata": {},
   "outputs": [],
   "source": [
    "employee_ttest['more_experience'] = employee_ttest['employee_experience'].apply( lambda x: 1 if x >= employee_ttest['employee_experience'].mean() else 0)"
   ]
  },
  {
   "cell_type": "code",
   "execution_count": 75,
   "metadata": {},
   "outputs": [
    {
     "data": {
      "text/html": [
       "<div>\n",
       "<style scoped>\n",
       "    .dataframe tbody tr th:only-of-type {\n",
       "        vertical-align: middle;\n",
       "    }\n",
       "\n",
       "    .dataframe tbody tr th {\n",
       "        vertical-align: top;\n",
       "    }\n",
       "\n",
       "    .dataframe thead th {\n",
       "        text-align: right;\n",
       "    }\n",
       "</style>\n",
       "<table border=\"1\" class=\"dataframe\">\n",
       "  <thead>\n",
       "    <tr style=\"text-align: right;\">\n",
       "      <th></th>\n",
       "      <th>employee_name</th>\n",
       "      <th>response_time</th>\n",
       "      <th>hired_date</th>\n",
       "      <th>succes</th>\n",
       "      <th>call_result</th>\n",
       "      <th>longer_response_time</th>\n",
       "      <th>employee_experience</th>\n",
       "      <th>more_experience</th>\n",
       "    </tr>\n",
       "  </thead>\n",
       "  <tbody>\n",
       "    <tr>\n",
       "      <th>0</th>\n",
       "      <td>Elchin Asgarov</td>\n",
       "      <td>91.0</td>\n",
       "      <td>2019-02-05</td>\n",
       "      <td>1</td>\n",
       "      <td>63.636364</td>\n",
       "      <td>0</td>\n",
       "      <td>5</td>\n",
       "      <td>0</td>\n",
       "    </tr>\n",
       "    <tr>\n",
       "      <th>1</th>\n",
       "      <td>Emin Ahmedov</td>\n",
       "      <td>119.0</td>\n",
       "      <td>2022-09-08</td>\n",
       "      <td>0</td>\n",
       "      <td>12.500000</td>\n",
       "      <td>1</td>\n",
       "      <td>2</td>\n",
       "      <td>0</td>\n",
       "    </tr>\n",
       "    <tr>\n",
       "      <th>2</th>\n",
       "      <td>Rashad Huseynli</td>\n",
       "      <td>683.0</td>\n",
       "      <td>2018-06-06</td>\n",
       "      <td>1</td>\n",
       "      <td>65.116279</td>\n",
       "      <td>1</td>\n",
       "      <td>6</td>\n",
       "      <td>1</td>\n",
       "    </tr>\n",
       "    <tr>\n",
       "      <th>3</th>\n",
       "      <td>Orkhan Asgarov</td>\n",
       "      <td>109.0</td>\n",
       "      <td>2017-12-18</td>\n",
       "      <td>1</td>\n",
       "      <td>60.240964</td>\n",
       "      <td>1</td>\n",
       "      <td>7</td>\n",
       "      <td>1</td>\n",
       "    </tr>\n",
       "    <tr>\n",
       "      <th>4</th>\n",
       "      <td>Rashad Huseynli</td>\n",
       "      <td>1010.0</td>\n",
       "      <td>2018-06-06</td>\n",
       "      <td>1</td>\n",
       "      <td>65.116279</td>\n",
       "      <td>1</td>\n",
       "      <td>6</td>\n",
       "      <td>1</td>\n",
       "    </tr>\n",
       "    <tr>\n",
       "      <th>...</th>\n",
       "      <td>...</td>\n",
       "      <td>...</td>\n",
       "      <td>...</td>\n",
       "      <td>...</td>\n",
       "      <td>...</td>\n",
       "      <td>...</td>\n",
       "      <td>...</td>\n",
       "      <td>...</td>\n",
       "    </tr>\n",
       "    <tr>\n",
       "      <th>379</th>\n",
       "      <td>Fuad Aliyev</td>\n",
       "      <td>753.0</td>\n",
       "      <td>2017-07-15</td>\n",
       "      <td>1</td>\n",
       "      <td>61.627907</td>\n",
       "      <td>1</td>\n",
       "      <td>7</td>\n",
       "      <td>1</td>\n",
       "    </tr>\n",
       "    <tr>\n",
       "      <th>380</th>\n",
       "      <td>Orkhan Asgarov</td>\n",
       "      <td>50.0</td>\n",
       "      <td>2017-12-18</td>\n",
       "      <td>1</td>\n",
       "      <td>60.240964</td>\n",
       "      <td>0</td>\n",
       "      <td>7</td>\n",
       "      <td>1</td>\n",
       "    </tr>\n",
       "    <tr>\n",
       "      <th>381</th>\n",
       "      <td>Fuad Aliyev</td>\n",
       "      <td>1226.0</td>\n",
       "      <td>2017-07-15</td>\n",
       "      <td>1</td>\n",
       "      <td>61.627907</td>\n",
       "      <td>1</td>\n",
       "      <td>7</td>\n",
       "      <td>1</td>\n",
       "    </tr>\n",
       "    <tr>\n",
       "      <th>382</th>\n",
       "      <td>Orkhan Asgarov</td>\n",
       "      <td>11.0</td>\n",
       "      <td>2017-12-18</td>\n",
       "      <td>1</td>\n",
       "      <td>60.240964</td>\n",
       "      <td>0</td>\n",
       "      <td>7</td>\n",
       "      <td>1</td>\n",
       "    </tr>\n",
       "    <tr>\n",
       "      <th>383</th>\n",
       "      <td>Rashad Huseynli</td>\n",
       "      <td>422.0</td>\n",
       "      <td>2018-06-06</td>\n",
       "      <td>1</td>\n",
       "      <td>65.116279</td>\n",
       "      <td>1</td>\n",
       "      <td>6</td>\n",
       "      <td>1</td>\n",
       "    </tr>\n",
       "  </tbody>\n",
       "</table>\n",
       "<p>384 rows × 8 columns</p>\n",
       "</div>"
      ],
      "text/plain": [
       "       employee_name  response_time hired_date  succes  call_result  \\\n",
       "0     Elchin Asgarov           91.0 2019-02-05       1    63.636364   \n",
       "1       Emin Ahmedov          119.0 2022-09-08       0    12.500000   \n",
       "2    Rashad Huseynli          683.0 2018-06-06       1    65.116279   \n",
       "3     Orkhan Asgarov          109.0 2017-12-18       1    60.240964   \n",
       "4    Rashad Huseynli         1010.0 2018-06-06       1    65.116279   \n",
       "..               ...            ...        ...     ...          ...   \n",
       "379      Fuad Aliyev          753.0 2017-07-15       1    61.627907   \n",
       "380   Orkhan Asgarov           50.0 2017-12-18       1    60.240964   \n",
       "381      Fuad Aliyev         1226.0 2017-07-15       1    61.627907   \n",
       "382   Orkhan Asgarov           11.0 2017-12-18       1    60.240964   \n",
       "383  Rashad Huseynli          422.0 2018-06-06       1    65.116279   \n",
       "\n",
       "     longer_response_time  employee_experience  more_experience  \n",
       "0                       0                    5                0  \n",
       "1                       1                    2                0  \n",
       "2                       1                    6                1  \n",
       "3                       1                    7                1  \n",
       "4                       1                    6                1  \n",
       "..                    ...                  ...              ...  \n",
       "379                     1                    7                1  \n",
       "380                     0                    7                1  \n",
       "381                     1                    7                1  \n",
       "382                     0                    7                1  \n",
       "383                     1                    6                1  \n",
       "\n",
       "[384 rows x 8 columns]"
      ]
     },
     "execution_count": 75,
     "metadata": {},
     "output_type": "execute_result"
    }
   ],
   "source": [
    "employee_ttest"
   ]
  },
  {
   "cell_type": "code",
   "execution_count": 76,
   "metadata": {},
   "outputs": [
    {
     "data": {
      "text/plain": [
       "<Axes: xlabel='more_experience'>"
      ]
     },
     "execution_count": 76,
     "metadata": {},
     "output_type": "execute_result"
    },
    {
     "data": {
      "image/png": "[encoded data removed]",
      "text/plain": [
       "<Figure size 640x480 with 1 Axes>"
      ]
     },
     "metadata": {},
     "output_type": "display_data"
    }
   ],
   "source": [
    "pd.DataFrame(employee_ttest['call_result'].groupby(employee_ttest['more_experience']).mean()).plot(kind='bar')"
   ]
  },
  {
   "cell_type": "code",
   "execution_count": 77,
   "metadata": {},
   "outputs": [
    {
     "name": "stderr",
     "output_type": "stream",
     "text": [
      "c:\\Users\\zeyne\\AppData\\Local\\Programs\\Python\\Python312\\Lib\\site-packages\\scipy\\stats\\_axis_nan_policy.py:573: RuntimeWarning: Precision loss occurred in moment calculation due to catastrophic cancellation. This occurs when the data are nearly identical. Results may be unreliable.\n",
      "  res = hypotest_fun_out(*samples, **kwds)\n"
     ]
    }
   ],
   "source": [
    "pvalue = stats.ttest_ind(employee_ttest[employee_ttest['more_experience']==1].call_result, employee_ttest[employee_ttest['employee_experience']==0].call_result, equal_var=False,alternative='greater').pvalue"
   ]
  },
  {
   "cell_type": "code",
   "execution_count": 78,
   "metadata": {},
   "outputs": [
    {
     "name": "stdout",
     "output_type": "stream",
     "text": [
      "pvalue:0.000000000000000\n"
     ]
    }
   ],
   "source": [
    "print(f'pvalue:{pvalue:.15f}')"
   ]
  },
  {
   "cell_type": "markdown",
   "metadata": {},
   "source": [
    "P-value is less than 0.05"
   ]
  },
  {
   "cell_type": "markdown",
   "metadata": {},
   "source": [
    "Permutation test for the relationship between job experience and call rate"
   ]
  },
  {
   "cell_type": "code",
   "execution_count": 79,
   "metadata": {},
   "outputs": [
    {
     "name": "stdout",
     "output_type": "stream",
     "text": [
      "7.799145299145309\n"
     ]
    }
   ],
   "source": [
    "mean_a = employee_ttest[employee_ttest.more_experience == 0].call_result.mean()\n",
    "mean_b = employee_ttest[employee_ttest.more_experience == 1].call_result.mean()\n",
    "print(mean_b - mean_a)"
   ]
  },
  {
   "cell_type": "code",
   "execution_count": 80,
   "metadata": {},
   "outputs": [],
   "source": [
    "nA = employee_ttest[employee_ttest.more_experience == 0].shape[0]\n",
    "nB = employee_ttest[employee_ttest.more_experience == 1].shape[0]"
   ]
  },
  {
   "cell_type": "code",
   "execution_count": 81,
   "metadata": {},
   "outputs": [
    {
     "data": {
      "image/png": "[encoded data removed]",
      "text/plain": [
       "<Figure size 500x500 with 1 Axes>"
      ]
     },
     "metadata": {},
     "output_type": "display_data"
    }
   ],
   "source": [
    "random.seed(1)\n",
    "perm_diffs = [perm_fun(employee_ttest.call_result, nA, nB) for _ in range(1000)]\n",
    "\n",
    "fig, ax = plt.subplots(figsize=(5, 5))\n",
    "ax.hist(perm_diffs, bins=11, rwidth=0.9)\n",
    "ax.axvline(x = mean_b - mean_a, color='black', lw=2)\n",
    "ax.text(5.5, 150, 'Observed\\ndifference', bbox={'facecolor':'white'})\n",
    "ax.set_xlabel('Conversion rate differences (in percentages)')\n",
    "ax.set_ylabel('Frequency')\n",
    "\n",
    "plt.tight_layout()\n",
    "plt.show()"
   ]
  },
  {
   "cell_type": "markdown",
   "metadata": {},
   "source": [
    "p value is less than 0.05. We can say that employees with more job experience have higher call success rate than employees with less job experience in hot calls"
   ]
  },
  {
   "cell_type": "markdown",
   "metadata": {},
   "source": [
    "**Cold Calls**"
   ]
  },
  {
   "cell_type": "code",
   "execution_count": 86,
   "metadata": {},
   "outputs": [
    {
     "data": {
      "text/html": [
       "<div>\n",
       "<style scoped>\n",
       "    .dataframe tbody tr th:only-of-type {\n",
       "        vertical-align: middle;\n",
       "    }\n",
       "\n",
       "    .dataframe tbody tr th {\n",
       "        vertical-align: top;\n",
       "    }\n",
       "\n",
       "    .dataframe thead th {\n",
       "        text-align: right;\n",
       "    }\n",
       "</style>\n",
       "<table border=\"1\" class=\"dataframe\">\n",
       "  <thead>\n",
       "    <tr style=\"text-align: right;\">\n",
       "      <th></th>\n",
       "      <th>call_id</th>\n",
       "      <th>call_type</th>\n",
       "      <th>call_result</th>\n",
       "      <th>employee_name</th>\n",
       "      <th>hired_date</th>\n",
       "      <th>experience</th>\n",
       "      <th>more_experience</th>\n",
       "    </tr>\n",
       "  </thead>\n",
       "  <tbody>\n",
       "    <tr>\n",
       "      <th>0</th>\n",
       "      <td>2001</td>\n",
       "      <td>Cold</td>\n",
       "      <td>0</td>\n",
       "      <td>Rufat Huseynov</td>\n",
       "      <td>2024-10-01</td>\n",
       "      <td>0</td>\n",
       "      <td>0</td>\n",
       "    </tr>\n",
       "    <tr>\n",
       "      <th>1</th>\n",
       "      <td>2002</td>\n",
       "      <td>Cold</td>\n",
       "      <td>0</td>\n",
       "      <td>Fuad Aliyev</td>\n",
       "      <td>2017-07-15</td>\n",
       "      <td>7</td>\n",
       "      <td>1</td>\n",
       "    </tr>\n",
       "    <tr>\n",
       "      <th>2</th>\n",
       "      <td>2003</td>\n",
       "      <td>Cold</td>\n",
       "      <td>0</td>\n",
       "      <td>Fidan Mammadli</td>\n",
       "      <td>2018-01-12</td>\n",
       "      <td>6</td>\n",
       "      <td>0</td>\n",
       "    </tr>\n",
       "    <tr>\n",
       "      <th>3</th>\n",
       "      <td>2004</td>\n",
       "      <td>Cold</td>\n",
       "      <td>0</td>\n",
       "      <td>Rashad Huseynli</td>\n",
       "      <td>2018-06-06</td>\n",
       "      <td>6</td>\n",
       "      <td>0</td>\n",
       "    </tr>\n",
       "    <tr>\n",
       "      <th>7</th>\n",
       "      <td>2008</td>\n",
       "      <td>Cold</td>\n",
       "      <td>0</td>\n",
       "      <td>Rashad Huseynli</td>\n",
       "      <td>2018-06-06</td>\n",
       "      <td>6</td>\n",
       "      <td>0</td>\n",
       "    </tr>\n",
       "    <tr>\n",
       "      <th>...</th>\n",
       "      <td>...</td>\n",
       "      <td>...</td>\n",
       "      <td>...</td>\n",
       "      <td>...</td>\n",
       "      <td>...</td>\n",
       "      <td>...</td>\n",
       "      <td>...</td>\n",
       "    </tr>\n",
       "    <tr>\n",
       "      <th>1017</th>\n",
       "      <td>3017</td>\n",
       "      <td>Cold</td>\n",
       "      <td>0</td>\n",
       "      <td>Orkhan Asgarov</td>\n",
       "      <td>2017-12-18</td>\n",
       "      <td>7</td>\n",
       "      <td>1</td>\n",
       "    </tr>\n",
       "    <tr>\n",
       "      <th>1018</th>\n",
       "      <td>3018</td>\n",
       "      <td>Cold</td>\n",
       "      <td>0</td>\n",
       "      <td>Orkhan Asgarov</td>\n",
       "      <td>2017-12-18</td>\n",
       "      <td>7</td>\n",
       "      <td>1</td>\n",
       "    </tr>\n",
       "    <tr>\n",
       "      <th>1020</th>\n",
       "      <td>3020</td>\n",
       "      <td>Cold</td>\n",
       "      <td>1</td>\n",
       "      <td>Orkhan Asgarov</td>\n",
       "      <td>2017-12-18</td>\n",
       "      <td>7</td>\n",
       "      <td>1</td>\n",
       "    </tr>\n",
       "    <tr>\n",
       "      <th>1025</th>\n",
       "      <td>3025</td>\n",
       "      <td>Cold</td>\n",
       "      <td>0</td>\n",
       "      <td>Rashad Huseynli</td>\n",
       "      <td>2018-06-06</td>\n",
       "      <td>6</td>\n",
       "      <td>0</td>\n",
       "    </tr>\n",
       "    <tr>\n",
       "      <th>1027</th>\n",
       "      <td>3027</td>\n",
       "      <td>Cold</td>\n",
       "      <td>0</td>\n",
       "      <td>Orkhan Asgarov</td>\n",
       "      <td>2017-12-18</td>\n",
       "      <td>7</td>\n",
       "      <td>1</td>\n",
       "    </tr>\n",
       "  </tbody>\n",
       "</table>\n",
       "<p>648 rows × 7 columns</p>\n",
       "</div>"
      ],
      "text/plain": [
       "      call_id call_type  call_result    employee_name hired_date  experience  \\\n",
       "0        2001      Cold            0   Rufat Huseynov 2024-10-01           0   \n",
       "1        2002      Cold            0      Fuad Aliyev 2017-07-15           7   \n",
       "2        2003      Cold            0   Fidan Mammadli 2018-01-12           6   \n",
       "3        2004      Cold            0  Rashad Huseynli 2018-06-06           6   \n",
       "7        2008      Cold            0  Rashad Huseynli 2018-06-06           6   \n",
       "...       ...       ...          ...              ...        ...         ...   \n",
       "1017     3017      Cold            0   Orkhan Asgarov 2017-12-18           7   \n",
       "1018     3018      Cold            0   Orkhan Asgarov 2017-12-18           7   \n",
       "1020     3020      Cold            1   Orkhan Asgarov 2017-12-18           7   \n",
       "1025     3025      Cold            0  Rashad Huseynli 2018-06-06           6   \n",
       "1027     3027      Cold            0   Orkhan Asgarov 2017-12-18           7   \n",
       "\n",
       "      more_experience  \n",
       "0                   0  \n",
       "1                   1  \n",
       "2                   0  \n",
       "3                   0  \n",
       "7                   0  \n",
       "...               ...  \n",
       "1017                1  \n",
       "1018                1  \n",
       "1020                1  \n",
       "1025                0  \n",
       "1027                1  \n",
       "\n",
       "[648 rows x 7 columns]"
      ]
     },
     "execution_count": 86,
     "metadata": {},
     "output_type": "execute_result"
    }
   ],
   "source": [
    "cold_calls['experience'] = 2024 - cold_calls['hired_date'].apply(lambda x:x.year)\n",
    "cold_calls['more_experience'] = cold_calls['experience'].apply(lambda x : 1 if x > cold_calls['experience'].mean() else 0)\n",
    "cold_calls"
   ]
  },
  {
   "cell_type": "code",
   "execution_count": 94,
   "metadata": {},
   "outputs": [],
   "source": [
    "emp_call_succes_cold = pd.DataFrame(cold_calls['call_result'].groupby(cold_calls['employee_name']).mean()*100).reset_index()\n",
    "emp_call_succes_cold.rename({'call_result':'call_success'},axis=1,inplace=True)"
   ]
  },
  {
   "cell_type": "code",
   "execution_count": 96,
   "metadata": {},
   "outputs": [],
   "source": [
    "cold_calls = cold_calls.merge(emp_call_succes_cold, on='employee_name')"
   ]
  },
  {
   "cell_type": "code",
   "execution_count": 97,
   "metadata": {},
   "outputs": [
    {
     "data": {
      "text/html": [
       "<div>\n",
       "<style scoped>\n",
       "    .dataframe tbody tr th:only-of-type {\n",
       "        vertical-align: middle;\n",
       "    }\n",
       "\n",
       "    .dataframe tbody tr th {\n",
       "        vertical-align: top;\n",
       "    }\n",
       "\n",
       "    .dataframe thead th {\n",
       "        text-align: right;\n",
       "    }\n",
       "</style>\n",
       "<table border=\"1\" class=\"dataframe\">\n",
       "  <thead>\n",
       "    <tr style=\"text-align: right;\">\n",
       "      <th></th>\n",
       "      <th>call_id</th>\n",
       "      <th>call_type</th>\n",
       "      <th>call_result</th>\n",
       "      <th>employee_name</th>\n",
       "      <th>hired_date</th>\n",
       "      <th>experience</th>\n",
       "      <th>more_experience</th>\n",
       "      <th>call_success</th>\n",
       "    </tr>\n",
       "  </thead>\n",
       "  <tbody>\n",
       "    <tr>\n",
       "      <th>0</th>\n",
       "      <td>2001</td>\n",
       "      <td>Cold</td>\n",
       "      <td>0</td>\n",
       "      <td>Rufat Huseynov</td>\n",
       "      <td>2024-10-01</td>\n",
       "      <td>0</td>\n",
       "      <td>0</td>\n",
       "      <td>7.692308</td>\n",
       "    </tr>\n",
       "    <tr>\n",
       "      <th>1</th>\n",
       "      <td>2002</td>\n",
       "      <td>Cold</td>\n",
       "      <td>0</td>\n",
       "      <td>Fuad Aliyev</td>\n",
       "      <td>2017-07-15</td>\n",
       "      <td>7</td>\n",
       "      <td>1</td>\n",
       "      <td>26.206897</td>\n",
       "    </tr>\n",
       "    <tr>\n",
       "      <th>2</th>\n",
       "      <td>2003</td>\n",
       "      <td>Cold</td>\n",
       "      <td>0</td>\n",
       "      <td>Fidan Mammadli</td>\n",
       "      <td>2018-01-12</td>\n",
       "      <td>6</td>\n",
       "      <td>0</td>\n",
       "      <td>21.794872</td>\n",
       "    </tr>\n",
       "    <tr>\n",
       "      <th>3</th>\n",
       "      <td>2004</td>\n",
       "      <td>Cold</td>\n",
       "      <td>0</td>\n",
       "      <td>Rashad Huseynli</td>\n",
       "      <td>2018-06-06</td>\n",
       "      <td>6</td>\n",
       "      <td>0</td>\n",
       "      <td>17.460317</td>\n",
       "    </tr>\n",
       "    <tr>\n",
       "      <th>4</th>\n",
       "      <td>2008</td>\n",
       "      <td>Cold</td>\n",
       "      <td>0</td>\n",
       "      <td>Rashad Huseynli</td>\n",
       "      <td>2018-06-06</td>\n",
       "      <td>6</td>\n",
       "      <td>0</td>\n",
       "      <td>17.460317</td>\n",
       "    </tr>\n",
       "    <tr>\n",
       "      <th>...</th>\n",
       "      <td>...</td>\n",
       "      <td>...</td>\n",
       "      <td>...</td>\n",
       "      <td>...</td>\n",
       "      <td>...</td>\n",
       "      <td>...</td>\n",
       "      <td>...</td>\n",
       "      <td>...</td>\n",
       "    </tr>\n",
       "    <tr>\n",
       "      <th>643</th>\n",
       "      <td>3017</td>\n",
       "      <td>Cold</td>\n",
       "      <td>0</td>\n",
       "      <td>Orkhan Asgarov</td>\n",
       "      <td>2017-12-18</td>\n",
       "      <td>7</td>\n",
       "      <td>1</td>\n",
       "      <td>19.867550</td>\n",
       "    </tr>\n",
       "    <tr>\n",
       "      <th>644</th>\n",
       "      <td>3018</td>\n",
       "      <td>Cold</td>\n",
       "      <td>0</td>\n",
       "      <td>Orkhan Asgarov</td>\n",
       "      <td>2017-12-18</td>\n",
       "      <td>7</td>\n",
       "      <td>1</td>\n",
       "      <td>19.867550</td>\n",
       "    </tr>\n",
       "    <tr>\n",
       "      <th>645</th>\n",
       "      <td>3020</td>\n",
       "      <td>Cold</td>\n",
       "      <td>1</td>\n",
       "      <td>Orkhan Asgarov</td>\n",
       "      <td>2017-12-18</td>\n",
       "      <td>7</td>\n",
       "      <td>1</td>\n",
       "      <td>19.867550</td>\n",
       "    </tr>\n",
       "    <tr>\n",
       "      <th>646</th>\n",
       "      <td>3025</td>\n",
       "      <td>Cold</td>\n",
       "      <td>0</td>\n",
       "      <td>Rashad Huseynli</td>\n",
       "      <td>2018-06-06</td>\n",
       "      <td>6</td>\n",
       "      <td>0</td>\n",
       "      <td>17.460317</td>\n",
       "    </tr>\n",
       "    <tr>\n",
       "      <th>647</th>\n",
       "      <td>3027</td>\n",
       "      <td>Cold</td>\n",
       "      <td>0</td>\n",
       "      <td>Orkhan Asgarov</td>\n",
       "      <td>2017-12-18</td>\n",
       "      <td>7</td>\n",
       "      <td>1</td>\n",
       "      <td>19.867550</td>\n",
       "    </tr>\n",
       "  </tbody>\n",
       "</table>\n",
       "<p>648 rows × 8 columns</p>\n",
       "</div>"
      ],
      "text/plain": [
       "     call_id call_type  call_result    employee_name hired_date  experience  \\\n",
       "0       2001      Cold            0   Rufat Huseynov 2024-10-01           0   \n",
       "1       2002      Cold            0      Fuad Aliyev 2017-07-15           7   \n",
       "2       2003      Cold            0   Fidan Mammadli 2018-01-12           6   \n",
       "3       2004      Cold            0  Rashad Huseynli 2018-06-06           6   \n",
       "4       2008      Cold            0  Rashad Huseynli 2018-06-06           6   \n",
       "..       ...       ...          ...              ...        ...         ...   \n",
       "643     3017      Cold            0   Orkhan Asgarov 2017-12-18           7   \n",
       "644     3018      Cold            0   Orkhan Asgarov 2017-12-18           7   \n",
       "645     3020      Cold            1   Orkhan Asgarov 2017-12-18           7   \n",
       "646     3025      Cold            0  Rashad Huseynli 2018-06-06           6   \n",
       "647     3027      Cold            0   Orkhan Asgarov 2017-12-18           7   \n",
       "\n",
       "     more_experience  call_success  \n",
       "0                  0      7.692308  \n",
       "1                  1     26.206897  \n",
       "2                  0     21.794872  \n",
       "3                  0     17.460317  \n",
       "4                  0     17.460317  \n",
       "..               ...           ...  \n",
       "643                1     19.867550  \n",
       "644                1     19.867550  \n",
       "645                1     19.867550  \n",
       "646                0     17.460317  \n",
       "647                1     19.867550  \n",
       "\n",
       "[648 rows x 8 columns]"
      ]
     },
     "execution_count": 97,
     "metadata": {},
     "output_type": "execute_result"
    }
   ],
   "source": [
    "cold_calls"
   ]
  },
  {
   "cell_type": "code",
   "execution_count": 102,
   "metadata": {},
   "outputs": [
    {
     "name": "stdout",
     "output_type": "stream",
     "text": [
      "pvalue : 0.0000\n"
     ]
    }
   ],
   "source": [
    "pvalue = stats.ttest_ind(cold_calls[cold_calls['more_experience']==1].call_success, cold_calls[cold_calls['more_experience']==0].call_success, alternative='greater').pvalue\n",
    "print(f'pvalue : {pvalue:.4f}')"
   ]
  },
  {
   "cell_type": "code",
   "execution_count": 98,
   "metadata": {},
   "outputs": [
    {
     "data": {
      "text/plain": [
       "more_experience\n",
       "0    15.340909\n",
       "1    22.972973\n",
       "Name: call_success, dtype: float64"
      ]
     },
     "execution_count": 98,
     "metadata": {},
     "output_type": "execute_result"
    }
   ],
   "source": [
    "cold_calls['call_success'].groupby(cold_calls['more_experience']).mean()"
   ]
  },
  {
   "cell_type": "code",
   "execution_count": 75,
   "metadata": {},
   "outputs": [],
   "source": [
    "telesales.to_csv('telesales_final.csv',index=False)"
   ]
  }
 ],
 "metadata": {
  "kernelspec": {
   "display_name": "Python 3",
   "language": "python",
   "name": "python3"
  },
  "language_info": {
   "codemirror_mode": {
    "name": "ipython",
    "version": 3
   },
   "file_extension": ".py",
   "mimetype": "text/x-python",
   "name": "python",
   "nbconvert_exporter": "python",
   "pygments_lexer": "ipython3",
   "version": "3.12.0"
  }
 },
 "nbformat": 4,
 "nbformat_minor": 2
}
